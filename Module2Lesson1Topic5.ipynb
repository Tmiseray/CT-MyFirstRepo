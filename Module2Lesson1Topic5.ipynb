{
 "cells": [
  {
   "cell_type": "code",
   "execution_count": 12,
   "metadata": {},
   "outputs": [
    {
     "name": "stdout",
     "output_type": "stream",
     "text": [
      "Hello, World!\n"
     ]
    }
   ],
   "source": [
    "# 1. The Forgotten Quote: \n",
    "# Correct the syntax error.\n",
    "# print(\"Hello, World!)\n",
    "\n",
    "print(\"Hello, World!\")"
   ]
  },
  {
   "cell_type": "code",
   "execution_count": 13,
   "metadata": {},
   "outputs": [
    {
     "name": "stdout",
     "output_type": "stream",
     "text": [
      "The number is odd!\n"
     ]
    }
   ],
   "source": [
    "# 2. The Mismatched Socks: \n",
    "# Identify the logic error in the code. \n",
    "# It's meant to check if a number is odd.\n",
    "# num = 7\n",
    "# if num % 2 == 0\n",
    "#   print(\"The number is odd!\")\n",
    "# else:\n",
    "#   print(\"The number is even!\")\n",
    "\n",
    "num = 7\n",
    "if num % 2 != 0:\n",
    "    print(\"The number is odd!\")\n",
    "else:\n",
    "    print(\"The number is even!\")"
   ]
  },
  {
   "cell_type": "code",
   "execution_count": 14,
   "metadata": {},
   "outputs": [
    {
     "name": "stdout",
     "output_type": "stream",
     "text": [
      "You're not red!\n"
     ]
    }
   ],
   "source": [
    "# 3. The Overeager Greeter: \n",
    "# Find the logic error in the code \n",
    "# which is meant to greet only the color red.\n",
    "# color = \"pink\"\n",
    "# if \"red\" in color:\n",
    "#     print(\"Hello, red!\")\n",
    "# else:\n",
    "#     print(\"You're not red!\")\n",
    "\n",
    "color = \"pink\"\n",
    "if color == \"red\":\n",
    "    print(\"Hello, red!\")\n",
    "else:\n",
    "    print(\"You're not red!\")"
   ]
  }
 ],
 "metadata": {
  "kernelspec": {
   "display_name": "Python 3",
   "language": "python",
   "name": "python3"
  },
  "language_info": {
   "codemirror_mode": {
    "name": "ipython",
    "version": 3
   },
   "file_extension": ".py",
   "mimetype": "text/x-python",
   "name": "python",
   "nbconvert_exporter": "python",
   "pygments_lexer": "ipython3",
   "version": "3.10.6"
  }
 },
 "nbformat": 4,
 "nbformat_minor": 2
}
