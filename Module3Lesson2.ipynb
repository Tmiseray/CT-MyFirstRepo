{
 "cells": [
  {
   "cell_type": "code",
   "execution_count": null,
   "metadata": {},
   "outputs": [],
   "source": [
    "# Exercises:"
   ]
  },
  {
   "cell_type": "code",
   "execution_count": null,
   "metadata": {},
   "outputs": [],
   "source": [
    "# Exercise 1: E-commerce Product Catalog Management\n",
    "\"\"\"\n",
    "Your task is to develop a system for an online store's product catalog. This system should enable the addition of new products, display the entire catalog, and allow for searching for products by category.\n",
    "\n",
    "**Instructions**:\n",
    "\n",
    "1. Implement a function to add products to the catalog. Each product should be represented as a tuple containing the product's name, price, and category.\n",
    "2. Create a function to display all products in the catalog.\n",
    "3. Develop a search functionality for users to find products by their category.\n",
    "4. Store all product tuples in a list.\n",
    "5. Use exception handling to manage errors, especially for invalid inputs.\n",
    "6. Implement a text-based user interface using a loop and conditional statements, allowinf users to add products, view the catalog, search by category, or exit the program.\n",
    "\n",
    "**Hints**:\n",
    "\n",
    "- Utilize a while loop to keep the program running, presenting a menu of actions until the user decides to exit.\n",
    "- Use the input() function for gathering user inputs for adding products.\n",
    "- Implement a for loop for iterating over the product tuples in the catalog display.\n",
    "- For seraching by category, iterate over the catalog and use an if statement to filter products.\n",
    "\n",
    "\"\"\""
   ]
  },
  {
   "cell_type": "code",
   "execution_count": null,
   "metadata": {},
   "outputs": [],
   "source": [
    "# Exercise 1:\n",
    "# Solution:\n",
    "\n"
   ]
  },
  {
   "cell_type": "code",
   "execution_count": null,
   "metadata": {},
   "outputs": [],
   "source": [
    "# Exercise 2:\n",
    "\"\"\"\n",
    "Objective: Develop a Python program to manage a library's book catalog, focusing on accessing various elements within a collection of book data. This exercise will enhance your understanding of accessing elements in tuples, applying string manipulation, and using conditional and loop statements.\n",
    "\n",
    "Problem Statement: You are tasked with creating a system for a library that allows users to view book details, search for books by title, and list all books in a specific genre. Each book in the catalog is represented as a tuple containing the book's title, author, and genre\n",
    "\n",
    "**Instructions**:\n",
    "\n",
    "- Create a tuple to store multiple books, with each book represented as a sub-tuple.\n",
    "- Implement a function to display details of all books in the catalog.\n",
    "- Create a function to search for a book by its title and display its details.\n",
    "- Implement a function to list all books in a specific genre.\n",
    "- Ensure the program handles cases where a book or genre is not found.\n",
    "- Use a loop and conditional statements to allow users to select different functionalities (e.g., view all books, search by title, list by genre, exit).\n",
    "\n",
    "**Hints**:\n",
    "\n",
    "- Consider using a for loop and if statements within your search and list functions to iterate over the tuple and find matches.\n",
    "- The in keyword can be helpful for string comparisons when searching for titles or genres.\n",
    "- Use the input function for user inputs and print for displaying information.\n",
    "\n",
    "\"\"\""
   ]
  },
  {
   "cell_type": "code",
   "execution_count": null,
   "metadata": {},
   "outputs": [],
   "source": [
    "# Exercise \n",
    "# Solution:\n",
    "\n"
   ]
  },
  {
   "cell_type": "code",
   "execution_count": null,
   "metadata": {},
   "outputs": [],
   "source": [
    "# Exercise 3:\n",
    "\"\"\"\n",
    "\n",
    "\n",
    "**Instructions**:\n",
    "\n",
    "1. \n",
    "2. \n",
    "\n",
    "**Hints**:\n",
    "\n",
    "- \n",
    "- \n",
    "\n",
    "\"\"\""
   ]
  },
  {
   "cell_type": "code",
   "execution_count": null,
   "metadata": {},
   "outputs": [],
   "source": [
    "# Exercise \n",
    "# Solution:\n",
    "\n"
   ]
  },
  {
   "cell_type": "code",
   "execution_count": null,
   "metadata": {},
   "outputs": [],
   "source": [
    "# Exercise 4:\n",
    "\"\"\"\n",
    "\n",
    "\n",
    "**Instructions**:\n",
    "\n",
    "1. \n",
    "2. \n",
    "\n",
    "**Hints**:\n",
    "\n",
    "- \n",
    "- \n",
    "\n",
    "\"\"\""
   ]
  },
  {
   "cell_type": "code",
   "execution_count": null,
   "metadata": {},
   "outputs": [],
   "source": [
    "# Exercise \n",
    "# Solution:\n",
    "\n"
   ]
  },
  {
   "cell_type": "code",
   "execution_count": null,
   "metadata": {},
   "outputs": [],
   "source": [
    "# Exercise 5:\n",
    "\"\"\"\n",
    "\n",
    "\n",
    "**Instructions**:\n",
    "\n",
    "1. \n",
    "2. \n",
    "\n",
    "**Hints**:\n",
    "\n",
    "- \n",
    "- \n",
    "\n",
    "\"\"\""
   ]
  },
  {
   "cell_type": "code",
   "execution_count": null,
   "metadata": {},
   "outputs": [],
   "source": [
    "# Exercise \n",
    "# Solution:\n",
    "\n"
   ]
  },
  {
   "cell_type": "code",
   "execution_count": null,
   "metadata": {},
   "outputs": [],
   "source": [
    "# Exercise 6:\n",
    "\"\"\"\n",
    "\n",
    "\n",
    "**Instructions**:\n",
    "\n",
    "1. \n",
    "2. \n",
    "\n",
    "**Hints**:\n",
    "\n",
    "- \n",
    "- \n",
    "\n",
    "\"\"\""
   ]
  },
  {
   "cell_type": "code",
   "execution_count": null,
   "metadata": {},
   "outputs": [],
   "source": [
    "# Exercise \n",
    "# Solution:\n",
    "\n"
   ]
  },
  {
   "cell_type": "code",
   "execution_count": null,
   "metadata": {},
   "outputs": [],
   "source": [
    "# Exercise 7:\n",
    "\"\"\"\n",
    "\n",
    "\n",
    "**Instructions**:\n",
    "\n",
    "1. \n",
    "2. \n",
    "\n",
    "**Hints**:\n",
    "\n",
    "- \n",
    "- \n",
    "\n",
    "\"\"\""
   ]
  },
  {
   "cell_type": "code",
   "execution_count": null,
   "metadata": {},
   "outputs": [],
   "source": [
    "# Exercise \n",
    "# Solution:\n",
    "\n"
   ]
  },
  {
   "cell_type": "code",
   "execution_count": null,
   "metadata": {},
   "outputs": [],
   "source": [
    "# Exercise 8:\n",
    "\"\"\"\n",
    "\n",
    "\n",
    "**Instructions**:\n",
    "\n",
    "1. \n",
    "2. \n",
    "\n",
    "**Hints**:\n",
    "\n",
    "- \n",
    "- \n",
    "\n",
    "\"\"\""
   ]
  },
  {
   "cell_type": "code",
   "execution_count": null,
   "metadata": {},
   "outputs": [],
   "source": [
    "# Exercise \n",
    "# Solution:\n",
    "\n"
   ]
  },
  {
   "cell_type": "code",
   "execution_count": null,
   "metadata": {},
   "outputs": [],
   "source": [
    "# Exercise 9:\n",
    "\"\"\"\n",
    "\n",
    "\n",
    "**Instructions**:\n",
    "\n",
    "1. \n",
    "2. \n",
    "\n",
    "**Hints**:\n",
    "\n",
    "- \n",
    "- \n",
    "\n",
    "\"\"\""
   ]
  },
  {
   "cell_type": "code",
   "execution_count": null,
   "metadata": {},
   "outputs": [],
   "source": [
    "# Exercise \n",
    "# Solution:\n",
    "\n"
   ]
  },
  {
   "cell_type": "code",
   "execution_count": null,
   "metadata": {},
   "outputs": [],
   "source": [
    "# Exercise 10:\n",
    "\"\"\"\n",
    "\n",
    "\n",
    "**Instructions**:\n",
    "\n",
    "1. \n",
    "2. \n",
    "\n",
    "**Hints**:\n",
    "\n",
    "- \n",
    "- \n",
    "\n",
    "\"\"\""
   ]
  },
  {
   "cell_type": "code",
   "execution_count": null,
   "metadata": {},
   "outputs": [],
   "source": [
    "# Exercise \n",
    "# Solution:\n",
    "\n"
   ]
  }
 ],
 "metadata": {
  "language_info": {
   "name": "python"
  }
 },
 "nbformat": 4,
 "nbformat_minor": 2
}
