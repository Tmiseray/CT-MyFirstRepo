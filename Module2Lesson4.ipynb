{
 "cells": [
  {
   "cell_type": "code",
   "execution_count": 52,
   "metadata": {},
   "outputs": [
    {
     "name": "stdout",
     "output_type": "stream",
     "text": [
      "Food Booth - Schedule: 10:00 AM, Item Needed: Grill\n",
      "Games Booth - Schedule: 1:00 PM, Item Needed: Tickets\n",
      "Music Booth - Schedule: 3:00 PM, Item Needed: Instruments\n",
      "Crafts Booth - Schedule: 5:00 PM, Item Needed: Paint\n"
     ]
    }
   ],
   "source": [
    "# 1. For Loop Festival Planner: \n",
    "# Utilize for loops to iterate over multiple lists and organize event details \n",
    "# without using functions.\n",
    "\n",
    "#From Solution Video\n",
    "\n",
    "# Booth types: Food, Games, Music, Crafts\n",
    "# Schedule times: 10:00 AM, 1:00 PM, 3:00 PM, 5:00 PM\n",
    "# Items needed: Grill, Tickets, Instruments, Paint\n",
    "\n",
    "# Use a for loop to iterate over the booth types\n",
    "# For each booth type, print the type of booth, schedule time, and item needed\n",
    "# Ensure that each booth is matched with the correct scedule time and item from the lists\n",
    "\n",
    "booth_types = [\"Food\", \"Games\", \"Music\", \"Crafts\"]\n",
    "schedule_times = [\"10:00 AM\", \"1:00 PM\", \"3:00 PM\", \"5:00 PM\"]\n",
    "items_needed = [\"Grill\", \"Tickets\", \"Instruments\", \"Paint\"]\n",
    "\n",
    "for i in range(len(booth_types)):\n",
    "    booth = booth_types[i]\n",
    "    time = schedule_times[i]\n",
    "    item = items_needed[i]\n",
    "    print(f\"{booth} Booth - Schedule: {time}, Item Needed: {item}\")\n"
   ]
  },
  {
   "cell_type": "code",
   "execution_count": 3,
   "metadata": {},
   "outputs": [
    {
     "name": "stdout",
     "output_type": "stream",
     "text": [
      "Harry your seat assignment is 1\n",
      "Hermione your seat assignment is 2\n",
      "Ron your seat assignment is 3\n",
      "Dobby your seat assignment is 4\n"
     ]
    }
   ],
   "source": [
    "# 2. Classroom Seat Assignment: \n",
    "# Use for loops with the range function to assign seats in a classroom setting.\n",
    "\n",
    "students = [\"Harry\", \"Hermione\", \"Ron\", \"Dobby\", \"Draco\"]\n",
    "\n",
    "for x in range(4):\n",
    "    print(students[x], \"your seat assignment is \" + str(x + 1))"
   ]
  },
  {
   "cell_type": "code",
   "execution_count": 49,
   "metadata": {},
   "outputs": [
    {
     "name": "stdout",
     "output_type": "stream",
     "text": [
      "Row 1 - Seat 1: Student 1\n",
      "Row 1 - Seat 2: Student 2\n",
      "Row 1 - Seat 3: Student 3\n",
      "Row 1 - Seat 4: Student 4\n",
      "Row 1 - Seat 5: Student 5\n",
      "Row 1 - Seat 6: Student 6\n",
      "Row 2 - Seat 1: Student 7\n",
      "Row 2 - Seat 2: Student 8\n",
      "Row 2 - Seat 3: Student 9\n",
      "Row 2 - Seat 4: Student 10\n",
      "Row 2 - Seat 5: Student 11\n",
      "Row 2 - Seat 6: Student 12\n",
      "Row 3 - Seat 1: Student 13\n",
      "Row 3 - Seat 2: Student 14\n",
      "Row 3 - Seat 3: Student 15\n",
      "Row 3 - Seat 4: Student 16\n",
      "Row 3 - Seat 5: Student 17\n",
      "Row 3 - Seat 6: Student 18\n",
      "Row 4 - Seat 1: Student 19\n",
      "Row 4 - Seat 2: Student 20\n",
      "Row 4 - Seat 3: Student 21\n",
      "Row 4 - Seat 4: Student 22\n",
      "Row 4 - Seat 5: Student 23\n",
      "Row 4 - Seat 6: Student 24\n",
      "Row 5 - Seat 1: Student 25\n",
      "Row 5 - Seat 2: Student 26\n",
      "Row 5 - Seat 3: Student 27\n",
      "Row 5 - Seat 4: Student 28\n",
      "Row 5 - Seat 5: Student 29\n",
      "Row 5 - Seat 6: Student 30\n"
     ]
    }
   ],
   "source": [
    "# Solution Video Example\n",
    "\n",
    "total_students = 30\n",
    "rows = 5\n",
    "\n",
    "students_per_row = total_students // rows\n",
    "\n",
    "for row in range(1, rows + 1):\n",
    "    for seat in range(1, students_per_row + 1):\n",
    "        seat_number = (row - 1) * students_per_row + seat\n",
    "        print(f\"Row {row} - Seat {seat}: Student {seat_number}\")"
   ]
  },
  {
   "cell_type": "code",
   "execution_count": 13,
   "metadata": {},
   "outputs": [
    {
     "name": "stdout",
     "output_type": "stream",
     "text": [
      "The total price for all items in the cart is $24\n"
     ]
    }
   ],
   "source": [
    "# 3. Shopping Cart Total Calculator: \n",
    "# Apply for loops to calculate the total cost of items in a shopping cart.\n",
    "\n",
    "items = [\"cheese\", \"heavy whipping cream\", \"coffee creamer\",\"eggs\", \"bacon\"]\n",
    "prices = [4, 4, 6, 3, 7]\n",
    "total = 0\n",
    "\n",
    "for x in range(0, len(items)):\n",
    "    total = total + prices[x]\n",
    "print(\"The total price for all items in the cart is $\" + str(total))\n"
   ]
  },
  {
   "cell_type": "code",
   "execution_count": 51,
   "metadata": {},
   "outputs": [
    {
     "name": "stdout",
     "output_type": "stream",
     "text": [
      "The total cost of the shopping cart is: $24.00\n"
     ]
    }
   ],
   "source": [
    "# Solution Video Example\n",
    "\n",
    "item_prices = [2.99, 5.49, 3.25, 13.99, 4.75]\n",
    "\n",
    "total_cost = 0\n",
    "\n",
    "for price in item_prices:\n",
    "    total_cost += price\n",
    "\n",
    "print(f\"The total cost of the shopping cart is: ${total:.2f}\")"
   ]
  },
  {
   "cell_type": "code",
   "execution_count": 16,
   "metadata": {},
   "outputs": [
    {
     "name": "stdout",
     "output_type": "stream",
     "text": [
      "1 Multiplication Tables\n",
      "1 X 1 = 1\n",
      "1 X 2 = 2\n",
      "1 X 3 = 3\n",
      "1 X 4 = 4\n",
      "1 X 5 = 5\n",
      "\n",
      "2 Multiplication Tables\n",
      "2 X 1 = 2\n",
      "2 X 2 = 4\n",
      "2 X 3 = 6\n",
      "2 X 4 = 8\n",
      "2 X 5 = 10\n",
      "\n",
      "3 Multiplication Tables\n",
      "3 X 1 = 3\n",
      "3 X 2 = 6\n",
      "3 X 3 = 9\n",
      "3 X 4 = 12\n",
      "3 X 5 = 15\n",
      "\n",
      "4 Multiplication Tables\n",
      "4 X 1 = 4\n",
      "4 X 2 = 8\n",
      "4 X 3 = 12\n",
      "4 X 4 = 16\n",
      "4 X 5 = 20\n",
      "\n",
      "5 Multiplication Tables\n",
      "5 X 1 = 5\n",
      "5 X 2 = 10\n",
      "5 X 3 = 15\n",
      "5 X 4 = 20\n",
      "5 X 5 = 25\n",
      "\n"
     ]
    }
   ],
   "source": [
    "# 4. Multiplication Table Generator: \n",
    "# Apply nested for loops to generate a multiplication table.\n",
    "\n",
    "for x in range(1,6):\n",
    "    print(x, \"Multiplication Tables\")\n",
    "    for y in range(1,6):\n",
    "        z = x * y\n",
    "        print(x, \"X\", y, \"=\", z)\n",
    "    print()\n"
   ]
  },
  {
   "cell_type": "code",
   "execution_count": 50,
   "metadata": {},
   "outputs": [
    {
     "name": "stdout",
     "output_type": "stream",
     "text": [
      "1 \t2 \t3 \t4 \t5 \t\n",
      "2 \t4 \t6 \t8 \t10 \t\n",
      "3 \t6 \t9 \t12 \t15 \t\n",
      "4 \t8 \t12 \t16 \t20 \t\n",
      "5 \t10 \t15 \t20 \t25 \t\n"
     ]
    }
   ],
   "source": [
    "# Solution Video Example\n",
    "\n",
    "table_size = int(input(\"Enter the size of the multiplication table: \"))\n",
    "\n",
    "for row in range(1, table_size +1):\n",
    "    for column in range(1, table_size + 1):\n",
    "        product = row * column\n",
    "        print(f\"{product} \\t\", end=\"\")\n",
    "    print()\n",
    "    "
   ]
  },
  {
   "cell_type": "code",
   "execution_count": 46,
   "metadata": {},
   "outputs": [
    {
     "name": "stdout",
     "output_type": "stream",
     "text": [
      "We need to order more wood planks ASAP!\n",
      "We have enough wood planks for now.\n",
      "We have enough screws for now.\n",
      "We have enough nails for now.\n",
      "We have enough drywall for now.\n",
      "We have enough caulk for now.\n",
      "We have enough wood planks for now.\n",
      "We have enough screws for now.\n",
      "We have enough nails for now.\n",
      "We have enough drywall for now.\n",
      "We have enough caulk for now.\n",
      "We have enough wood planks for now.\n",
      "We have enough screws for now.\n",
      "We have enough nails for now.\n",
      "We have enough drywall for now.\n",
      "We have enough caulk for now.\n",
      "We need to order more wood planks ASAP!\n"
     ]
    }
   ],
   "source": [
    "# 5. Inventory Management: \n",
    "# Use lists, for loops, and if statements to manage inventory items.\n",
    "\n",
    "items = [\"wood planks\", \"screws\", \"nails\", \"drywall\", \"caulk\"]\n",
    "quantity = [3, 15, 8, 6, 2]\n",
    "\n",
    "# for x in quantity:\n",
    "#     for x in range(0, len(items)):\n",
    "#         if x < 5:\n",
    "#             print(\"We need to order more \" + items[x] + \" ASAP!\")\n",
    "#         elif x >= 5:\n",
    "#             print(\"We have enough \" + items[x] + \" for now...\")\n",
    "\n",
    "# for item in items:\n",
    "#     if quantity[items[item]] < 5:\n",
    "#         print(\"We need to order more \" + item + \" ASAP!\")\n",
    "#     elif quantity[items[item]] >= 5:\n",
    "#         print(\"We have enough \" + item + \" for now...\")\n",
    "\n",
    "for x in quantity:\n",
    "    for item in items:\n",
    "        if x < 5:\n",
    "            print(\"We need to order more\", item, \"ASAP!\")\n",
    "            break\n",
    "        if x >= 5:\n",
    "            print(\"We have enough\", item, \"for now.\")\n",
    "\n"
   ]
  },
  {
   "cell_type": "code",
   "execution_count": null,
   "metadata": {},
   "outputs": [],
   "source": [
    "# Solution Video Example\n",
    "\n",
    "inventory = [\n",
    "    [\"Apples\", 5],\n",
    "    [\"Bananas\", 2],\n",
    "    [\"Oranges\", 0],\n",
    "    [\"Milk\", 1],\n",
    "    [\"Eggs\", 12]\n",
    "]\n",
    "\n",
    "reorder_threshold = 3\n",
    "\n",
    "for item in inventory:\n",
    "    name, quantity = item\n",
    "    if quantity < reorder_threshold:\n",
    "        print(f\"{name} needs to be reordered.\")"
   ]
  },
  {
   "cell_type": "code",
   "execution_count": 47,
   "metadata": {},
   "outputs": [
    {
     "name": "stdout",
     "output_type": "stream",
     "text": [
      "Let's see what else we find!\n",
      "Let's see what else we find!\n",
      "Let's see what else we find!\n",
      "Let's see what else we find!\n",
      "Let's see what else we find!\n",
      "Let's see what else we find!\n",
      "Let's see what else we find!\n",
      "Let's see what else we find!\n",
      "Let's see what else we find!\n",
      "Let's see what else we find!\n",
      "Let's see what else we find!\n",
      "Let's see what else we find!\n",
      "Let's see what else we find!\n",
      "Let's see what else we find!\n",
      "Let's see what else we find!\n",
      "Let's see what else we find!\n",
      "Let's see what else we find!\n",
      "Let's see what else we find!\n",
      "Let's see what else we find!\n",
      "Let's see what else we find!\n",
      "Let's see what else we find!\n",
      "HAZZAH! Just the treasure I was looking for!\n",
      "Let's see what else we find!\n",
      "Let's see what else we find!\n",
      "Let's see what else we find!\n",
      "Let's see what else we find!\n",
      "Let's see what else we find!\n",
      "Let's see what else we find!\n",
      "Let's see what else we find!\n",
      "Let's see what else we find!\n",
      "Let's see what else we find!\n",
      "Let's see what else we find!\n",
      "Let's see what else we find!\n",
      "Let's see what else we find!\n",
      "Let's see what else we find!\n",
      "Let's see what else we find!\n",
      "Let's see what else we find!\n",
      "Let's see what else we find!\n",
      "Let's see what else we find!\n",
      "Let's see what else we find!\n",
      "Let's see what else we find!\n",
      "Let's see what else we find!\n",
      "Let's see what else we find!\n"
     ]
    }
   ],
   "source": [
    "# 6. Treasure Hunt: \n",
    "# Use lists, for loops, and the break statement to stop a process once a certain \n",
    "# condition is met\n",
    "\n",
    "chests = [1, 2, 3, 4, 5, 6, 7]\n",
    "treasures = [\"gold\", \"crown\", \"chalice\", \"sword\", \"silver\", \"gemstone\", \"dragon egg\"]\n",
    "\n",
    "for treasure in treasures:\n",
    "    for x in chests:\n",
    "        if treasure == \"sword\":\n",
    "            print(\"HAZZAH! Just the treasure I was looking for!\")\n",
    "            break\n",
    "        print(\"Let's see what else we find!\")"
   ]
  },
  {
   "cell_type": "code",
   "execution_count": 53,
   "metadata": {},
   "outputs": [
    {
     "name": "stdout",
     "output_type": "stream",
     "text": [
      "Treasure found in cave 3!\n"
     ]
    }
   ],
   "source": [
    "# Solution Example\n",
    "\n",
    "# List representing caves, \"True\" indicates teh cave has treasure\n",
    "caves = [False, False, True, False, False]\n",
    "\n",
    "# iterate over the caves\n",
    "for index, cave in enumerate(caves):\n",
    "    #Check if the cave has the treasure\n",
    "    if cave:\n",
    "        print(f\"Treasure found in cave {index + 1}!\")\n",
    "        break # stop searching once the treasure is found"
   ]
  },
  {
   "cell_type": "code",
   "execution_count": 54,
   "metadata": {},
   "outputs": [
    {
     "name": "stdout",
     "output_type": "stream",
     "text": [
      "Valid emails: ['user1@example.com', 'user2@example.com', 'user3@example.com']\n"
     ]
    }
   ],
   "source": [
    "# 7. Email Cleanup: \n",
    "# Use lists, for loops, and the continue statement to skip over certain iterations within a loop\n",
    "\n",
    "# senders = [\"Frodo\", \"Gandalf\", \"Gollum\", \"Bilbo\", \"Legolas\"]\n",
    "# subjects = \n",
    "\n",
    "# List representing email addresses, \"None\" indicates an invalid email\n",
    "emails = [\"user1@example.com\", None, \"user2@example.com\", \"user3@example.com\", None]\n",
    "\n",
    "# List to hold valid emails\n",
    "valid_emails = []\n",
    "\n",
    "# Iterate over the list of emails\n",
    "for email in emails:\n",
    "    # Skip the iteration if the email is invalid\n",
    "    if email is None:\n",
    "        continue\n",
    "    # Add the valid email to the list\n",
    "    valid_emails.append(email)\n",
    "\n",
    "# Print the list of valid emails\n",
    "print(\"Valid emails:\", valid_emails)"
   ]
  },
  {
   "cell_type": "code",
   "execution_count": 2,
   "metadata": {},
   "outputs": [
    {
     "name": "stdout",
     "output_type": "stream",
     "text": [
      "Countdown to anniversary! 30 days remaining...\n",
      "Countdown to anniversary! 29 days remaining...\n",
      "Countdown to anniversary! 28 days remaining...\n",
      "Countdown to anniversary! 27 days remaining...\n",
      "Countdown to anniversary! 26 days remaining...\n",
      "Countdown to anniversary! 25 days remaining...\n",
      "Countdown to anniversary! 24 days remaining...\n",
      "Countdown to anniversary! 23 days remaining...\n",
      "Countdown to anniversary! 22 days remaining...\n",
      "Countdown to anniversary! 21 days remaining...\n",
      "Countdown to anniversary! 20 days remaining...\n",
      "Countdown to anniversary! 19 days remaining...\n",
      "Countdown to anniversary! 18 days remaining...\n",
      "Countdown to anniversary! 17 days remaining...\n",
      "Countdown to anniversary! 16 days remaining...\n",
      "Countdown to anniversary! 15 days remaining...\n",
      "Countdown to anniversary! 14 days remaining...\n",
      "Countdown to anniversary! 13 days remaining...\n",
      "Countdown to anniversary! 12 days remaining...\n",
      "Countdown to anniversary! 11 days remaining...\n",
      "Countdown to anniversary! 10 days remaining...\n",
      "Countdown to anniversary! 9 days remaining...\n",
      "Countdown to anniversary! 8 days remaining...\n",
      "Countdown to anniversary! 7 days remaining...\n",
      "Countdown to anniversary! 6 days remaining...\n",
      "Countdown to anniversary! 5 days remaining...\n",
      "Countdown to anniversary! 4 days remaining...\n",
      "Countdown to anniversary! 3 days remaining...\n",
      "Countdown to anniversary! 2 days remaining...\n",
      "Countdown to anniversary! 1 days remaining...\n",
      "CONGRATULATIONS!\n",
      "      Today is the big day!!\n",
      "      HAPPY ANNIVERSARY!!!\n"
     ]
    }
   ],
   "source": [
    "# 1. The Countdown Timer\n",
    "# Use a while loop to create a countdown timer\n",
    "\n",
    "days = 30\n",
    "while days > 0:\n",
    "    print(\"Countdown to anniversary! \" + str(days) + \" days remaining...\")\n",
    "    days -= 1\n",
    "print(\"\"\"CONGRATULATIONS!\n",
    "      Today is the big day!!\n",
    "      HAPPY ANNIVERSARY!!!\"\"\")"
   ]
  },
  {
   "cell_type": "code",
   "execution_count": 16,
   "metadata": {},
   "outputs": [
    {
     "name": "stdout",
     "output_type": "stream",
     "text": [
      "10\n",
      "9\n",
      "8\n",
      "7\n",
      "6\n",
      "5\n",
      "4\n",
      "3\n",
      "2\n",
      "1\n",
      "Time is up!\n"
     ]
    }
   ],
   "source": [
    "# Solution Example\n",
    "\n",
    "timer = 10\n",
    "\n",
    "while timer > 0:\n",
    "    print(timer)\n",
    "    timer -= 1\n",
    "print(\"Time is up!\")"
   ]
  },
  {
   "cell_type": "code",
   "execution_count": 8,
   "metadata": {},
   "outputs": [
    {
     "name": "stdout",
     "output_type": "stream",
     "text": [
      "Patient 1 you are next to see the doctor.\n",
      "Patient 2 you are next to see the doctor.\n",
      "Patient 3 you are next to see the doctor.\n",
      "Patient 4 you are next to see the doctor.\n",
      "Patient 5 you are next to see the doctor.\n",
      "Patient 6 you are next to see the doctor.\n",
      "Patient 7 you are next to see the doctor.\n",
      "Patient 8 you are next to see the doctor.\n",
      "Patient 9 you are next to see the doctor.\n"
     ]
    },
    {
     "ename": "IndexError",
     "evalue": "list index out of range",
     "output_type": "error",
     "traceback": [
      "\u001b[1;31m---------------------------------------------------------------------------\u001b[0m",
      "\u001b[1;31mIndexError\u001b[0m                                Traceback (most recent call last)",
      "Cell \u001b[1;32mIn[8], line 8\u001b[0m\n\u001b[0;32m      5\u001b[0m patient \u001b[38;5;241m=\u001b[39m patients[\u001b[38;5;241m0\u001b[39m]\n\u001b[0;32m      7\u001b[0m \u001b[38;5;28;01mwhile\u001b[39;00m patient:\n\u001b[1;32m----> 8\u001b[0m     \u001b[38;5;28mprint\u001b[39m(\u001b[38;5;124m\"\u001b[39m\u001b[38;5;124mPatient \u001b[39m\u001b[38;5;124m\"\u001b[39m \u001b[38;5;241m+\u001b[39m \u001b[38;5;28mstr\u001b[39m(\u001b[43mpatients\u001b[49m\u001b[43m[\u001b[49m\u001b[38;5;241;43m0\u001b[39;49m\u001b[43m]\u001b[49m) \u001b[38;5;241m+\u001b[39m \u001b[38;5;124m\"\u001b[39m\u001b[38;5;124m you are next to see the doctor.\u001b[39m\u001b[38;5;124m\"\u001b[39m)\n\u001b[0;32m      9\u001b[0m     patients \u001b[38;5;241m=\u001b[39m patients[\u001b[38;5;241m1\u001b[39m:]\n\u001b[0;32m     10\u001b[0m \u001b[38;5;28mprint\u001b[39m(\u001b[38;5;124m\"\u001b[39m\u001b[38;5;124mAll patients have been seen!\u001b[39m\u001b[38;5;124m\"\u001b[39m)\n",
      "\u001b[1;31mIndexError\u001b[0m: list index out of range"
     ]
    }
   ],
   "source": [
    "# 2. The Patient Queue\n",
    "# Use a while loop to manage a queue system\n",
    "\n",
    "patients = [*range(1, 10, 1)]\n",
    "patient = patients[0]\n",
    "\n",
    "while patient:\n",
    "    print(\"Patient \" + str(patients[0]) + \" you are next to see the doctor.\")\n",
    "    patients = patients[1:]\n",
    "print(\"All patients have been seen!\")\n"
   ]
  },
  {
   "cell_type": "code",
   "execution_count": 17,
   "metadata": {},
   "outputs": [
    {
     "name": "stdout",
     "output_type": "stream",
     "text": [
      "Patient number 5 please come in.\n",
      "Patient number 4 please come in.\n",
      "Patient number 3 please come in.\n",
      "Patient number 2 please come in.\n",
      "Patient number 1 please come in.\n",
      "There are no more patients in the queue.\n"
     ]
    }
   ],
   "source": [
    "# Solution Example\n",
    "\n",
    "patients = 5\n",
    "\n",
    "while patients > 0:\n",
    "    print(f\"Patient number {patients} please come in.\")\n",
    "    patients -= 1\n",
    "print(\"There are no more patients in the queue.\")"
   ]
  },
  {
   "cell_type": "code",
   "execution_count": 9,
   "metadata": {},
   "outputs": [
    {
     "name": "stdout",
     "output_type": "stream",
     "text": [
      "Your battery is currently at 5%.\n",
      "Your battery is currently at 10%.\n",
      "Your battery is currently at 15%.\n",
      "Your battery is currently at 20%.\n",
      "Your battery is currently at 25%.\n",
      "Your battery is currently at 30%.\n",
      "Your battery is currently at 35%.\n",
      "Your battery is currently at 40%.\n",
      "Your battery is currently at 45%.\n",
      "Your battery is currently at 50%.\n",
      "Your battery is currently at 55%.\n",
      "Your battery is currently at 60%.\n",
      "Your battery is currently at 65%.\n",
      "Your battery is currently at 70%.\n",
      "Your battery is currently at 75%.\n",
      "Your battery is currently at 80%.\n",
      "Your battery is currently at 85%.\n",
      "Your battery is currently at 90%.\n",
      "Your battery is currently at 95%.\n",
      "Your battery is now fully charged!\n"
     ]
    }
   ],
   "source": [
    "# 3. The Battery Charger with Efficiency Check\n",
    "# Use a while loop with nested if statements to simulate a battery charging \n",
    "# process that includes efficiency checks\n",
    "\n",
    "battery = 0\n",
    "\n",
    "while battery < 100:\n",
    "    battery += 5\n",
    "    if battery < 100:\n",
    "        print(f\"Your battery is currently at {battery}%.\")\n",
    "    elif battery == 100:\n",
    "        print(\"Your battery is now fully charged!\")"
   ]
  },
  {
   "cell_type": "code",
   "execution_count": 18,
   "metadata": {},
   "outputs": [
    {
     "name": "stdout",
     "output_type": "stream",
     "text": [
      "Battery is now at 10%\n",
      "Battery is now at 20%\n",
      "Battery is now at 30%\n",
      "Battery is now at 40%\n",
      "Battery is now at 50%\n",
      "Efficiency check: Increasing charging rate.\n",
      "Battery is now at 65%\n",
      "Battery is now at 80%\n",
      "Efficiency check: Reducing charge rate to prevent overcharging.\n",
      "Battery is now at 85%\n",
      "Battery is now at 90%\n",
      "Battery is now at 95%\n",
      "Battery is now at 100%\n",
      "The battery is now fully charged.\n"
     ]
    }
   ],
   "source": [
    "# Solution Example\n",
    "\n",
    "battery = 0\n",
    "increment = 10\n",
    "\n",
    "while battery < 100:\n",
    "    battery += increment\n",
    "    print(f\"Battery is now at {battery}%\")\n",
    "\n",
    "    if battery == 50:\n",
    "        print(\"Efficiency check: Increasing charging rate.\")\n",
    "        increment = 15\n",
    "    elif battery == 80:\n",
    "        print(\"Efficiency check: Reducing charge rate to prevent overcharging.\")\n",
    "        increment = 5\n",
    "\n",
    "print(\"The battery is now fully charged.\")"
   ]
  },
  {
   "cell_type": "code",
   "execution_count": 11,
   "metadata": {},
   "outputs": [
    {
     "name": "stdout",
     "output_type": "stream",
     "text": [
      "We currently have ['black', 'cappuccino', 'flat white', 'latte', 'espresso'] drinks available.\n",
      "We currently have ['black', 'cappuccino', 'flat white', 'latte', 'espresso'] drinks available.\n",
      "We currently have ['black', 'cappuccino', 'flat white', 'latte', 'espresso'] drinks available.\n",
      "We currently have ['black', 'cappuccino', 'flat white', 'latte', 'espresso'] drinks available.\n",
      "We currently have ['black', 'cappuccino', 'flat white', 'latte', 'espresso'] drinks available.\n",
      "We currently have ['black', 'cappuccino', 'flat white', 'latte', 'espresso'] drinks available.\n",
      "We currently have ['black', 'cappuccino', 'flat white', 'latte', 'espresso'] drinks available.\n",
      "We currently have ['black', 'cappuccino', 'flat white', 'latte', 'espresso'] drinks available.\n",
      "We currently have ['black', 'cappuccino', 'flat white', 'latte', 'espresso'] drinks available.\n",
      "We currently have ['black', 'cappuccino', 'flat white', 'latte', 'espresso'] drinks available.\n",
      "We currently have ['black', 'cappuccino', 'flat white', 'latte', 'espresso'] drinks available.\n",
      "We currently have ['cappuccino', 'flat white', 'latte', 'espresso'] drinks available.\n",
      "We currently have ['cappuccino', 'flat white', 'latte', 'espresso'] drinks available.\n",
      "We currently have ['cappuccino', 'flat white', 'latte', 'espresso'] drinks available.\n",
      "We currently have ['cappuccino', 'flat white', 'latte', 'espresso'] drinks available.\n",
      "We currently have ['cappuccino', 'flat white', 'latte', 'espresso'] drinks available.\n",
      "We only have ['black', 'cappuccino', 'flat white'] drinks available.\n",
      "We only have ['black', 'cappuccino', 'flat white'] drinks available.\n",
      "We only have ['black', 'cappuccino', 'flat white'] drinks available.\n",
      "We only have ['black', 'cappuccino', 'flat white'] drinks available.\n",
      "We are out of coffee at this time.\n"
     ]
    }
   ],
   "source": [
    "# 4. The Smart Coffee Machine\n",
    "# Use while loops, lists, and if statements in Python to simulate a \n",
    "# coffee machine that offers different coffee types until the reservoir is empty\n",
    "\n",
    "reservoir = 100\n",
    "coffee_list = [\"black\", \"cappuccino\", \"flat white\", \"latte\", \"espresso\"]\n",
    "\n",
    "while reservoir > 0:\n",
    "    if reservoir >= 50:\n",
    "        print(f\"We currently have {coffee_list} drinks available.\")\n",
    "    elif 25 <= reservoir < 50:\n",
    "        print(f\"We currently have {coffee_list[1:]} drinks available.\")\n",
    "    elif 0 < reservoir <25:\n",
    "        print(f\"We only have {coffee_list[:-2]} drinks available.\")\n",
    "    reservoir -= 5\n",
    "print(\"We are out of coffee at this time.\")"
   ]
  },
  {
   "cell_type": "code",
   "execution_count": 19,
   "metadata": {},
   "outputs": [
    {
     "name": "stdout",
     "output_type": "stream",
     "text": [
      "Dispensing Espresso.\n",
      "Coffee types left: ['Cappuccino', 'Latte', 'Americano', 'Mocha']\n",
      "Dispensing Cappuccino.\n",
      "Coffee types left: ['Latte', 'Americano', 'Mocha']\n",
      "Dispensing Latte.\n",
      "Coffee types left: ['Americano', 'Mocha']\n",
      "Dispensing Americano.\n",
      "Coffee types left: ['Mocha']\n",
      "Dispensing Mocha.\n",
      "Coffee types left: []\n",
      "No more coffee types available.\n",
      "The coffee reservoir is now empty.\n"
     ]
    }
   ],
   "source": [
    "# Solution Example\n",
    "\n",
    "coffee_reservoir = 10\n",
    "coffee_types = [\"Espresso\", \"Cappuccino\", \"Latte\", \"Americano\", \"Mocha\"]\n",
    "\n",
    "while coffee_reservoir > 0:\n",
    "    if coffee_types:\n",
    "        current_coffee = coffee_types.pop(0)\n",
    "        print(f\"Dispensing {current_coffee}.\")\n",
    "        coffee_reservoir -= 1\n",
    "        print(f\"Coffee types left: {coffee_types}\")\n",
    "    else:\n",
    "        print(\"No more coffee types available.\")\n",
    "        break\n",
    "\n",
    "print(\"The coffee reservoir is now empty.\")"
   ]
  },
  {
   "cell_type": "code",
   "execution_count": 15,
   "metadata": {},
   "outputs": [
    {
     "name": "stdout",
     "output_type": "stream",
     "text": [
      "We have reached floor 11.\n",
      "We have reached floor 9.\n",
      "We have reached floor 7.\n",
      "We have reached floor 6.\n",
      "We have reached floor 3.\n",
      "We have reached floor 2.\n",
      "We have reached the ground floor!\n"
     ]
    }
   ],
   "source": [
    "# 5. The Intelligent Elevator System\n",
    "# Use while loops, lists, and the membership operator in Python to simulate \n",
    "# an intelligent elevator system that stops at specific floors based on a list \n",
    "# of requests\n",
    "\n",
    "floors = 12\n",
    "requests = [3, 7, 2, 6, 11, 9]\n",
    "\n",
    "while floors > 0:\n",
    "    floors -= 1\n",
    "    if floors in requests:\n",
    "        print(f\"We have reached floor {floors}.\")\n",
    "print(\"We have reached the ground floor!\")"
   ]
  },
  {
   "cell_type": "code",
   "execution_count": 20,
   "metadata": {},
   "outputs": [
    {
     "name": "stdout",
     "output_type": "stream",
     "text": [
      "Descending to floor 4.\n",
      "Stopping at floor 4.\n",
      "Descending to floor 3.\n",
      "Stopping at floor 3.\n",
      "Descending to floor 2.\n",
      "Descending to floor 1.\n",
      "Stopping at floor 1.\n",
      "Descending to floor 0.\n",
      "The elevator has reached the ground floor.\n"
     ]
    }
   ],
   "source": [
    "# Solution Example\n",
    "\n",
    "current_floor = 5\n",
    "requested_stops = [1, 3, 4]\n",
    "\n",
    "while current_floor > 0:\n",
    "    if current_floor in requested_stops:\n",
    "        print(f\"Stopping at floor {current_floor}.\")\n",
    "        requested_stops.remove(current_floor)\n",
    "    current_floor -= 1\n",
    "    print(f\"Descending to floor {current_floor}.\")\n",
    "\n",
    "print(\"The elevator has reached the ground floor.\")"
   ]
  },
  {
   "cell_type": "code",
   "execution_count": 21,
   "metadata": {},
   "outputs": [
    {
     "name": "stdout",
     "output_type": "stream",
     "text": [
      "The traffic light is now red.\n",
      "The traffic light is now yellow.\n",
      "The traffic light is now green.\n",
      "The traffic light is now red.\n",
      "The traffic light is now yellow.\n",
      "The traffic light is now green.\n",
      "The traffic light is now red.\n",
      "The traffic light is now yellow.\n",
      "The traffic light is now green.\n",
      "Maintenance time! The cycle will stop.\n"
     ]
    }
   ],
   "source": [
    "# 6. The Smart Traffic Light System\n",
    "# Use while loops with an infinite loop and a break condition, as well as,  \n",
    "# to practice using lists and the count method in Python\n",
    "\n",
    "# Solution Example\n",
    "\n",
    "# Create a list of colors representing traffic light sequence.\n",
    "# Initialize a counter for the green light.\n",
    "# Use an infinite while loop to cycle through the traffic light colors.\n",
    "# Inside the loop, use the count method to track the number of times \"green\" appears\n",
    "# Break the loop when the green light has appeared a specific number of times\n",
    "# Print a messgge each time the light changes and when the loop \n",
    "# breaks for maintenance.\n",
    "\n",
    "traffic_lights = [\"red\", \"yellow\", \"green\"]\n",
    "green_count = 0\n",
    "\n",
    "while True:\n",
    "    for color in traffic_lights:\n",
    "        print(f\"The traffic light is now {color}.\")\n",
    "        if color ==\"green\":\n",
    "            green_count += 1\n",
    "            if green_count == 3:\n",
    "                print(\"Maintenance time! The cycle will stop.\")\n",
    "                break\n",
    "    if green_count == 3:\n",
    "        break\n"
   ]
  },
  {
   "cell_type": "code",
   "execution_count": 22,
   "metadata": {},
   "outputs": [
    {
     "name": "stdout",
     "output_type": "stream",
     "text": [
      "Numbers landed on: [0, 2, 4, 6, 8]\n"
     ]
    }
   ],
   "source": [
    "# 7. The Skipping Rope Challenge\n",
    "\n",
    "# Solution Example\n",
    "\n",
    "# Initialize a countdown variable with the starting number\n",
    "# Create an empty list to store the numbers you land on\n",
    "# Write a while loop to store the numbers you land on\n",
    "# Write a while loop that counts down from the starting number\n",
    "# Use the continue statement to skip every other number\n",
    "# Append the numbers you land on to the list\n",
    "# Use the list slicing to display the final list of numbers\n",
    "\n",
    "count = 10\n",
    "\n",
    "landed_numbers = []\n",
    "\n",
    "while count >0:\n",
    "    count -= 1\n",
    "    if count % 2 == 1:\n",
    "        continue\n",
    "    landed_numbers.append(count)\n",
    "\n",
    "print(\"Numbers landed on:\", landed_numbers[::-1])"
   ]
  },
  {
   "cell_type": "code",
   "execution_count": 24,
   "metadata": {},
   "outputs": [
    {
     "name": "stdout",
     "output_type": "stream",
     "text": [
      "You picked the Jack.\n",
      "Not so lucky... Let's pick again!\n",
      "You picked the Jack.\n",
      "Not so lucky... Let's pick again!\n",
      "You picked the Ace.\n",
      "Not so lucky... Let's pick again!\n",
      "You picked the King.\n",
      "Not so lucky... Let's pick again!\n",
      "You picked the Joker.\n",
      "Lucky Draw! You found the Joker!\n"
     ]
    }
   ],
   "source": [
    "# 1. Lucky Draw Simulation\n",
    "# Use loops in conjunction with random selection, \n",
    "# simulating real-world scenarios where random draws or selections are required\n",
    "\n",
    "import random\n",
    "\n",
    "cards = [\"Ace\", \"King\", \"Queen\", \"Jack\", \"Joker\"]\n",
    "card_draw = \"\"\n",
    "\n",
    "while card_draw != \"Joker\":\n",
    "    card_draw = random.choice(cards)\n",
    "    print(f\"You picked the {card_draw}.\")\n",
    "    if card_draw != \"Joker\":\n",
    "        print(\"Not so lucky... Let's pick again!\")\n",
    "    else:\n",
    "        print(f\"Lucky Draw! You found the {card_draw}!\")"
   ]
  },
  {
   "cell_type": "code",
   "execution_count": 47,
   "metadata": {},
   "outputs": [
    {
     "name": "stdout",
     "output_type": "stream",
     "text": [
      "Congratulations, Alex! You've won the lucky draw!\n"
     ]
    }
   ],
   "source": [
    "# Solution Example\n",
    "# Only terminates when \"Alex\" is drawn\n",
    "\n",
    "import random\n",
    "\n",
    "participants = [\"John\", \"Lila\", \"Sarah\", \"Alex\", \"Max\"]\n",
    "\n",
    "while \"Alex\" not in random.choices(participants, k = 1):\n",
    "    pass\n",
    "\n",
    "print(\"Congratulations, Alex! You've won the lucky draw!\")"
   ]
  },
  {
   "cell_type": "code",
   "execution_count": 48,
   "metadata": {},
   "outputs": [
    {
     "name": "stdout",
     "output_type": "stream",
     "text": [
      "Step 1: The entity moves 10 steps to the North.\n",
      "Step 2: The entity moves 10 steps to the East.\n",
      "Step 3: The entity moves 10 steps to the North.\n",
      "Step 4: The entity moves 10 steps to the East.\n",
      "Step 5: The entity moves 10 steps to the West.\n",
      "Step 6: The entity moves 10 steps to the South.\n",
      "Step 7: The entity moves 10 steps to the North.\n",
      "Step 8: The entity moves 10 steps to the West.\n",
      "Step 9: The entity moves 10 steps to the North.\n",
      "Step 10: The entity moves 10 steps to the North.\n"
     ]
    }
   ],
   "source": [
    "# 2. Random Walk Simulation\n",
    "# Simulate random processes and make use of random choices in a controlled loop\n",
    "\n",
    "# Solution Example\n",
    "\n",
    "# Define a list of directions they can take\n",
    "# Use for loop to simulate 10 steps\n",
    "# Each iteration, randomly select a direction and simulate taking a step \n",
    "# in that direction\n",
    "# Print out the direction of each step\n",
    "\n",
    "import random\n",
    "\n",
    "directions = [\"North\", \"South\", \"East\", \"West\"]\n",
    "\n",
    "for step in range(10):\n",
    "    step_direction = random.choice(directions)\n",
    "    print(f\"Step {step + 1}: The entity moves 10 steps to the {step_direction}.\")"
   ]
  },
  {
   "cell_type": "code",
   "execution_count": 35,
   "metadata": {},
   "outputs": [
    {
     "name": "stdout",
     "output_type": "stream",
     "text": [
      "You rolled a 15!\n",
      "You can do better than that!\n",
      "You rolled a 16!\n",
      "You can do better than that!\n",
      "You rolled a 20!\n",
      "Way to go! You rolled the highest value!\n"
     ]
    }
   ],
   "source": [
    "# 3. Dice Roll Synchronicity\n",
    "# Use loops and random number generation to simulate real-world scenarios, \n",
    "# such as rolling dice\n",
    "\n",
    "import random\n",
    "\n",
    "for x in range(10):\n",
    "    dice_roll = random.randint(1,20)\n",
    "    print(f\"You rolled a {dice_roll}!\")\n",
    "    if dice_roll != 20:\n",
    "        print(\"You can do better than that!\")\n",
    "    else:\n",
    "        print(\"Way to go! You rolled the highest value!\")\n",
    "        break"
   ]
  },
  {
   "cell_type": "code",
   "execution_count": 49,
   "metadata": {},
   "outputs": [
    {
     "name": "stdout",
     "output_type": "stream",
     "text": [
      "Dice1: 4, Dice2: 6\n",
      "Dice1: 6, Dice2: 1\n",
      "Dice1: 5, Dice2: 2\n",
      "Dice1: 4, Dice2: 3\n",
      "Dice1: 4, Dice2: 3\n",
      "Dice1: 3, Dice2: 2\n",
      "Dice1: 3, Dice2: 3\n",
      "Both dice landed on 3.\n"
     ]
    }
   ],
   "source": [
    "# Solution Example\n",
    "\n",
    "# Use a while loop to keep rolling the dice until the same number appears on both\n",
    "# In each iteration, simulate rolling 2 dice\n",
    "# Check if the 2 dice have the same number. If they do, exit the loop\n",
    "# Print out the result of each roll and a message when both dice match\n",
    "\n",
    "import random\n",
    "\n",
    "while True:\n",
    "    dice1 = random.randint(1, 6)\n",
    "    dice2 = random.randint(1, 6)\n",
    "    print(f\"Dice1: {dice1}, Dice2: {dice2}\")\n",
    "    if dice1 == dice2:\n",
    "        print(f\"Both dice landed on {dice1}.\")\n",
    "        break\n"
   ]
  },
  {
   "cell_type": "code",
   "execution_count": 36,
   "metadata": {},
   "outputs": [
    {
     "name": "stdout",
     "output_type": "stream",
     "text": [
      "question 2\n",
      "question 1\n",
      "question 4\n",
      "question 3\n",
      "question 5\n"
     ]
    }
   ],
   "source": [
    "# 4. Quiz Master Shuffle\n",
    "# Randomize lists and iterate over them, which is useful for creating quizzes, \n",
    "# games, and other applications where random order is required\n",
    "\n",
    "import random\n",
    "\n",
    "quiz = [\"question 1\", \"question 2\", \"question 3\", \"question 4\", \"question 5\"]\n",
    "\n",
    "random.shuffle(quiz)\n",
    "for question in quiz:\n",
    "    print(question)"
   ]
  },
  {
   "cell_type": "code",
   "execution_count": 45,
   "metadata": {},
   "outputs": [
    {
     "name": "stdout",
     "output_type": "stream",
     "text": [
      "Student 4\n",
      "Student 3\n"
     ]
    }
   ],
   "source": [
    "# 5. Classroom Roll Call\n",
    "# Use random sampling from a list, which can be applied in situations where \n",
    "# a random selection from a group is needed without repetition\n",
    "\n",
    "import random\n",
    "\n",
    "students = [\"Student 1\", \"Student 2\", \"Student 3\", \"Student 4\", \"Student 5\"]\n",
    "roll_call_list = []\n",
    "\n",
    "for student in students:\n",
    "    roll_call = random.choice(students)\n",
    "    if roll_call_list != students:\n",
    "        if roll_call not in roll_call_list:\n",
    "            print(roll_call)\n",
    "            roll_call_list.append(roll_call)\n",
    "    else:\n",
    "        break\n",
    "\n",
    "\n",
    "# Did not give solution"
   ]
  },
  {
   "cell_type": "code",
   "execution_count": 46,
   "metadata": {},
   "outputs": [
    {
     "name": "stdout",
     "output_type": "stream",
     "text": [
      "Your new, unique password is: 9\\;P/m71AG57k\n"
     ]
    }
   ],
   "source": [
    "# 6. Secure Password Creation\n",
    "# Generate random strings in Python, which is a valuable skill for creating \n",
    "# unique identifiers, secure tokens, or passwords\n",
    "\n",
    "import random\n",
    "import string\n",
    "\n",
    "uppercase_letters = string.ascii_uppercase\n",
    "lowercase_letters = string.ascii_lowercase\n",
    "numbers = string.digits\n",
    "special_characters = string.punctuation\n",
    "password_length = 13\n",
    "password = [\n",
    "    random.choice(uppercase_letters),\n",
    "    random.choice(lowercase_letters),\n",
    "    random.choice(numbers),\n",
    "    random.choice(special_characters)\n",
    "]\n",
    "\n",
    "all_characters = uppercase_letters + lowercase_letters + numbers + special_characters\n",
    "\n",
    "password += random.choices(all_characters, k = password_length - len(password))\n",
    "random.shuffle(password)\n",
    "password = \"\".join(password)\n",
    "\n",
    "print(f\"Your new, unique password is: {password}\")"
   ]
  },
  {
   "cell_type": "code",
   "execution_count": 50,
   "metadata": {},
   "outputs": [
    {
     "name": "stdout",
     "output_type": "stream",
     "text": [
      "Generated password: Xk<4@AYH\n"
     ]
    }
   ],
   "source": [
    "# Solution Example\n",
    "\n",
    "import random\n",
    "import string\n",
    "\n",
    "characters = string.ascii_letters + string.digits + string.punctuation\n",
    "\n",
    "password = \"\".join(random.choice(characters) for _ in range(8))\n",
    "\n",
    "print(f\"Generated password: {password}\")"
   ]
  },
  {
   "cell_type": "code",
   "execution_count": 51,
   "metadata": {},
   "outputs": [
    {
     "name": "stdout",
     "output_type": "stream",
     "text": [
      "Generated RGB color: (151, 44, 45)\n",
      "Generated RGB color: (190, 101, 116)\n",
      "Generated RGB color: (171, 138, 203)\n",
      "Generated RGB color: (1, 105, 146)\n",
      "Generated RGB color: (226, 73, 72)\n",
      "Generated RGB color: (111, 87, 34)\n",
      "Generated RGB color: (183, 34, 119)\n",
      "Generated RGB color: (15, 125, 222)\n",
      "Generated RGB color: (25, 147, 155)\n",
      "Generated RGB color: (5, 200, 112)\n"
     ]
    }
   ],
   "source": [
    "# 7. Dynamic Color Generation\n",
    "# Work with random number generation and apply it to practical scenarios \n",
    "# such as creating color values\n",
    "\n",
    "# Solution Example\n",
    "\n",
    "import random\n",
    "\n",
    "num_colors = 10\n",
    "\n",
    "for _ in range(num_colors):\n",
    "    red = random.randint(0, 255)\n",
    "    green = random.randint(0, 255)\n",
    "    blue = random.randint(0, 255)\n",
    "    print(f\"Generated RGB color: ({red}, {green}, {blue})\")"
   ]
  },
  {
   "cell_type": "code",
   "execution_count": 53,
   "metadata": {},
   "outputs": [
    {
     "name": "stdout",
     "output_type": "stream",
     "text": [
      "Track 1:Jazz - Light show is on!\n",
      "Track 2:Rock - Light show is on!\n",
      "Track 3:Hip Hop - Light show is on!\n",
      "Track 4:Classical - Light show is on!\n"
     ]
    }
   ],
   "source": [
    "# Index Looping Example\n",
    "\n",
    "genres = [\"Jazz\", \"Rock\", \"Hip Hop\", \"Classical\"]\n",
    "\n",
    "for index in range(len(genres)):\n",
    "    print(\"Track \" + str(index + 1) + \":\" + genres[index] + \" - Light show is on!\")"
   ]
  },
  {
   "cell_type": "code",
   "execution_count": 55,
   "metadata": {},
   "outputs": [
    {
     "name": "stdout",
     "output_type": "stream",
     "text": [
      "Playing track2 - The heart of our playlist!\n",
      "Playing track3 - The heart of our playlist!\n",
      "Playing track4 - The heart of our playlist!\n"
     ]
    }
   ],
   "source": [
    "# Slicing Looping Example\n",
    "\n",
    "full_playlist = [\"track1\", \"track2\", \"track3\", \"track4\", \"track5\"]\n",
    "\n",
    "middle_tracks = full_playlist[1:4]\n",
    "\n",
    "for track in middle_tracks:\n",
    "    print(\"Playing \" + track + \" - The heart of our playlist!\")"
   ]
  },
  {
   "cell_type": "code",
   "execution_count": 56,
   "metadata": {},
   "outputs": [
    {
     "name": "stdout",
     "output_type": "stream",
     "text": [
      "Every other track: track2\n",
      "Every other track: track4\n"
     ]
    }
   ],
   "source": [
    "# Every Other Item\n",
    "\n",
    "full_playlist = [\"track1\", \"track2\", \"track3\", \"track4\", \"track5\"]\n",
    "\n",
    "for track in full_playlist[1::2]:\n",
    "    print(\"Every other track: \" + track)"
   ]
  },
  {
   "cell_type": "code",
   "execution_count": 57,
   "metadata": {},
   "outputs": [
    {
     "ename": "TypeError",
     "evalue": "'type' object is not subscriptable",
     "output_type": "error",
     "traceback": [
      "\u001b[1;31m---------------------------------------------------------------------------\u001b[0m",
      "\u001b[1;31mTypeError\u001b[0m                                 Traceback (most recent call last)",
      "Cell \u001b[1;32mIn[57], line 1\u001b[0m\n\u001b[1;32m----> 1\u001b[0m [num \u001b[38;5;241m*\u001b[39m \u001b[38;5;241m2\u001b[39m \u001b[38;5;28;01mfor\u001b[39;00m num \u001b[38;5;129;01min\u001b[39;00m \u001b[38;5;28;43mrange\u001b[39;49m\u001b[43m[\u001b[49m\u001b[38;5;241;43m10\u001b[39;49m\u001b[43m]\u001b[49m]\n",
      "\u001b[1;31mTypeError\u001b[0m: 'type' object is not subscriptable"
     ]
    }
   ],
   "source": [
    "# Basic:\n",
    "#[num * 2 for num in range[10]]\n",
    "\n",
    "# Conditions\n",
    "#[num for num in range[20] if num % 2 ==0]\n"
   ]
  },
  {
   "cell_type": "code",
   "execution_count": 64,
   "metadata": {},
   "outputs": [
    {
     "name": "stdout",
     "output_type": "stream",
     "text": [
      "Congratulations, Alice! You are among the top performers!\n",
      "Congratulations, Bob! You are among the top performers!\n",
      "Congratulations, Charlie! You are among the top performers!\n"
     ]
    }
   ],
   "source": [
    "# 1. Honoring High Achievers: Iterate over a subset of a list using a for loop. \n",
    "# You will extract and print the names of the top students in a class\n",
    "\n",
    "# Solution Example\n",
    "\n",
    "students = [\"Alice\", \"Bob\", \"Charlie\", \"David\", \"Eve\"]\n",
    "\n",
    "top_student = students[:3]\n",
    "\n",
    "for student in top_student:\n",
    "    print(f\"Congratulations, {student}! You are among the top performers!\")"
   ]
  },
  {
   "cell_type": "code",
   "execution_count": 65,
   "metadata": {},
   "outputs": [
    {
     "name": "stdout",
     "output_type": "stream",
     "text": [
      "Item: Apples\n",
      "Quantity: 120\n",
      "Item: Oranges\n",
      "Quantity: 80\n",
      "Sale status: on sale\n",
      "Item: Bananas\n",
      "Quantity: 150\n",
      "Sale status: not on sale\n"
     ]
    }
   ],
   "source": [
    "# 2. Diverse Inventory Check: Use loop through a list with mixed data types using \n",
    "# a while loop and index numbers. You will also practice using if statements \n",
    "# to perform different actions based on the data type of each item.\n",
    "\n",
    "# Solution Example\n",
    "\n",
    "inventory = [\"Apples\", 120, \"Oranges\", 80, True, \"Bananas\", 150, False]\n",
    "\n",
    "index = 0\n",
    "\n",
    "while index < len(inventory):\n",
    "    item = inventory[index]\n",
    "\n",
    "    if type(item) == str:\n",
    "        print(f\"Item: {item}\")\n",
    "    elif type(item) == int:\n",
    "        print(f\"Quantity: {item}\")\n",
    "    elif type(item) == bool:\n",
    "        status = \"on sale\" if item else \"not on sale\"\n",
    "        print(f\"Sale status: {status}\")\n",
    "\n",
    "    index += 1"
   ]
  },
  {
   "cell_type": "code",
   "execution_count": 59,
   "metadata": {},
   "outputs": [
    {
     "name": "stdout",
     "output_type": "stream",
     "text": [
      "The square of 1 is: 1\n",
      "The square of 2 is: 4\n",
      "The square of 3 is: 9\n",
      "The square of 4 is: 16\n",
      "The square of 5 is: 25\n",
      "The square of 6 is: 36\n",
      "The square of 7 is: 49\n",
      "The square of 8 is: 64\n",
      "The square of 9 is: 81\n"
     ]
    }
   ],
   "source": [
    "# 3. Square Numbers Showcase: Generate a list of square numbers. \n",
    "# You'll be creating a list that contains the squares of integers within \n",
    "# a specified range.\n",
    "\n",
    "for num in range(1, 10):\n",
    "    sq_numbers = num ** 2\n",
    "    print(f\"The square of {num} is: {sq_numbers}\")"
   ]
  },
  {
   "cell_type": "code",
   "execution_count": 66,
   "metadata": {},
   "outputs": [
    {
     "name": "stdout",
     "output_type": "stream",
     "text": [
      "[1, 4, 9, 16, 25, 36, 49, 64, 81, 100]\n"
     ]
    }
   ],
   "source": [
    "# Solution Example\n",
    "\n",
    "squares = [number ** 2 for number in range(1, 11)]\n",
    "\n",
    "print(squares)"
   ]
  },
  {
   "cell_type": "code",
   "execution_count": 61,
   "metadata": {},
   "outputs": [
    {
     "ename": "TypeError",
     "evalue": "unsupported operand type(s) for %: 'range' and 'int'",
     "output_type": "error",
     "traceback": [
      "\u001b[1;31m---------------------------------------------------------------------------\u001b[0m",
      "\u001b[1;31mTypeError\u001b[0m                                 Traceback (most recent call last)",
      "Cell \u001b[1;32mIn[61], line 8\u001b[0m\n\u001b[0;32m      5\u001b[0m numbers \u001b[38;5;241m=\u001b[39m [\u001b[38;5;28mrange\u001b[39m(\u001b[38;5;241m20\u001b[39m)]\n\u001b[0;32m      7\u001b[0m \u001b[38;5;28;01mfor\u001b[39;00m num \u001b[38;5;129;01min\u001b[39;00m numbers:\n\u001b[1;32m----> 8\u001b[0m     \u001b[38;5;28;01mif\u001b[39;00m \u001b[43mnum\u001b[49m\u001b[43m \u001b[49m\u001b[38;5;241;43m%\u001b[39;49m\u001b[43m \u001b[49m\u001b[38;5;241;43m2\u001b[39;49m \u001b[38;5;241m==\u001b[39m \u001b[38;5;241m0\u001b[39m:\n\u001b[0;32m      9\u001b[0m         \u001b[38;5;28mprint\u001b[39m(\u001b[38;5;124mf\u001b[39m\u001b[38;5;124m\"\u001b[39m\u001b[38;5;124mYour jersey number is: \u001b[39m\u001b[38;5;132;01m{\u001b[39;00mnum\u001b[38;5;132;01m}\u001b[39;00m\u001b[38;5;124m\"\u001b[39m)\n",
      "\u001b[1;31mTypeError\u001b[0m: unsupported operand type(s) for %: 'range' and 'int'"
     ]
    }
   ],
   "source": [
    "# 4. Even Numbers Team Selection: Apply conditions within list comprehensions \n",
    "# to filter data. You will be filtering a list to include only even numbers, \n",
    "# which will be used to assign jerseys for a team event.\n",
    "\n",
    "numbers = [range(20)]\n",
    "\n",
    "for num in numbers:\n",
    "    if num % 2 == 0:\n",
    "        print(f\"Your jersey number is: {num}\")"
   ]
  },
  {
   "cell_type": "code",
   "execution_count": 67,
   "metadata": {},
   "outputs": [
    {
     "name": "stdout",
     "output_type": "stream",
     "text": [
      "[2, 4, 6, 8, 10, 12, 14, 16, 18, 20]\n"
     ]
    }
   ],
   "source": [
    "# Solution Example\n",
    "\n",
    "numbers = list(range(1, 21))\n",
    "\n",
    "even_numbers = [number for number in numbers if number % 2 == 0]\n",
    "\n",
    "print(even_numbers)"
   ]
  },
  {
   "cell_type": "code",
   "execution_count": 63,
   "metadata": {},
   "outputs": [
    {
     "name": "stdout",
     "output_type": "stream",
     "text": [
      "The ingredients you will need are: ['ingred2', 'ingred3']\n",
      "The ingredients you will need are: ['ingred2', 'ingred3']\n"
     ]
    }
   ],
   "source": [
    "# 5. Ingredient Preparation: Use slicing in lists to select specific segments \n",
    "# of data. You will be slicing a list to include only a specified portion of \n",
    "# the ingredients needed for a recipe.\n",
    "\n",
    "ingredients = [\"ingred1\", \"ingred2\", \"ingred3\", \"ingred4\", \"ingred5\"]\n",
    "\n",
    "portion_ingredients = ingredients[1:3]\n",
    "\n",
    "for ingred in portion_ingredients:\n",
    "    print(f\"The ingredients you will need are: {portion_ingredients}\")"
   ]
  },
  {
   "cell_type": "code",
   "execution_count": 68,
   "metadata": {},
   "outputs": [
    {
     "name": "stdout",
     "output_type": "stream",
     "text": [
      "['ingred1', 'ingred2', 'ingred3', 'ingred4']\n"
     ]
    }
   ],
   "source": [
    "# Solution Example\n",
    "\n",
    "# First half of ingredients\n",
    "\n",
    "ingredients = [\"ingred1\", \"ingred2\", \"ingred3\", \"ingred4\", \"ingred5\", \"ingred6\", \"ingred7\", \"ingred8\"]\n",
    "\n",
    "needed_ingredients = ingredients[:len(ingredients)//2]\n",
    "\n",
    "print(needed_ingredients)"
   ]
  },
  {
   "cell_type": "code",
   "execution_count": 69,
   "metadata": {},
   "outputs": [
    {
     "name": "stdout",
     "output_type": "stream",
     "text": [
      "['Article5', 'Article4', 'Article3']\n"
     ]
    }
   ],
   "source": [
    "# 6. Editorial Review: Extract a specific segment from a list in reverse.\n",
    "\n",
    "# Solution Example\n",
    "\n",
    "# Start with the full list of article titles\n",
    "# Use slicing with negative indices to select the last three titles in reverse order\n",
    "# Remember that in Python, negative indices count from the end of the list\n",
    "\n",
    "#list[-1:-4:-1]\n",
    "\n",
    "articles = [\"Article1\", \"Article2\", \"Article3\", \"Article4\", \"Article5\"]\n",
    "\n",
    "recent_articles = articles[-1:-4:-1]\n",
    "print(recent_articles)"
   ]
  },
  {
   "cell_type": "code",
   "execution_count": 71,
   "metadata": {},
   "outputs": [
    {
     "name": "stdout",
     "output_type": "stream",
     "text": [
      "[3, 6, 9, 12, 15, 18, 21, 24, 27, 30]\n"
     ]
    }
   ],
   "source": [
    "# 7. Scoring System Design: Create a list that includes only certain \n",
    "# types of numbers.\n",
    "\n",
    "# Solution Example\n",
    "\n",
    "# Use a list comprehension to iterate through numbers 1 to 30\n",
    "# Include a condition within the list comprehension to select only \n",
    "# the multiples of 3\n",
    "# Store the resulting list in a variable\n",
    "\n",
    "multiples_of_three = [number for number in range(1,31) if number % 3 == 0]\n",
    "\n",
    "print(multiples_of_three)"
   ]
  },
  {
   "cell_type": "code",
   "execution_count": null,
   "metadata": {},
   "outputs": [],
   "source": []
  }
 ],
 "metadata": {
  "kernelspec": {
   "display_name": "Python 3",
   "language": "python",
   "name": "python3"
  },
  "language_info": {
   "codemirror_mode": {
    "name": "ipython",
    "version": 3
   },
   "file_extension": ".py",
   "mimetype": "text/x-python",
   "name": "python",
   "nbconvert_exporter": "python",
   "pygments_lexer": "ipython3",
   "version": "3.10.6"
  }
 },
 "nbformat": 4,
 "nbformat_minor": 2
}
