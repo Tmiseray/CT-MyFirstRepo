{
 "cells": [
  {
   "cell_type": "code",
   "execution_count": 52,
   "metadata": {},
   "outputs": [
    {
     "name": "stdout",
     "output_type": "stream",
     "text": [
      "Food Booth - Schedule: 10:00 AM, Item Needed: Grill\n",
      "Games Booth - Schedule: 1:00 PM, Item Needed: Tickets\n",
      "Music Booth - Schedule: 3:00 PM, Item Needed: Instruments\n",
      "Crafts Booth - Schedule: 5:00 PM, Item Needed: Paint\n"
     ]
    }
   ],
   "source": [
    "# 1. For Loop Festival Planner: \n",
    "# Utilize for loops to iterate over multiple lists and organize event details \n",
    "# without using functions.\n",
    "\n",
    "#From Solution Video\n",
    "\n",
    "# Booth types: Food, Games, Music, Crafts\n",
    "# Schedule times: 10:00 AM, 1:00 PM, 3:00 PM, 5:00 PM\n",
    "# Items needed: Grill, Tickets, Instruments, Paint\n",
    "\n",
    "# Use a for loop to iterate over the booth types\n",
    "# For each booth type, print the type of booth, schedule time, and item needed\n",
    "# Ensure that each booth is matched with the correct scedule time and item from the lists\n",
    "\n",
    "booth_types = [\"Food\", \"Games\", \"Music\", \"Crafts\"]\n",
    "schedule_times = [\"10:00 AM\", \"1:00 PM\", \"3:00 PM\", \"5:00 PM\"]\n",
    "items_needed = [\"Grill\", \"Tickets\", \"Instruments\", \"Paint\"]\n",
    "\n",
    "for i in range(len(booth_types)):\n",
    "    booth = booth_types[i]\n",
    "    time = schedule_times[i]\n",
    "    item = items_needed[i]\n",
    "    print(f\"{booth} Booth - Schedule: {time}, Item Needed: {item}\")\n"
   ]
  },
  {
   "cell_type": "code",
   "execution_count": 3,
   "metadata": {},
   "outputs": [
    {
     "name": "stdout",
     "output_type": "stream",
     "text": [
      "Harry your seat assignment is 1\n",
      "Hermione your seat assignment is 2\n",
      "Ron your seat assignment is 3\n",
      "Dobby your seat assignment is 4\n"
     ]
    }
   ],
   "source": [
    "# 2. Classroom Seat Assignment: \n",
    "# Use for loops with the range function to assign seats in a classroom setting.\n",
    "\n",
    "students = [\"Harry\", \"Hermione\", \"Ron\", \"Dobby\", \"Draco\"]\n",
    "\n",
    "for x in range(4):\n",
    "    print(students[x], \"your seat assignment is \" + str(x + 1))"
   ]
  },
  {
   "cell_type": "code",
   "execution_count": 49,
   "metadata": {},
   "outputs": [
    {
     "name": "stdout",
     "output_type": "stream",
     "text": [
      "Row 1 - Seat 1: Student 1\n",
      "Row 1 - Seat 2: Student 2\n",
      "Row 1 - Seat 3: Student 3\n",
      "Row 1 - Seat 4: Student 4\n",
      "Row 1 - Seat 5: Student 5\n",
      "Row 1 - Seat 6: Student 6\n",
      "Row 2 - Seat 1: Student 7\n",
      "Row 2 - Seat 2: Student 8\n",
      "Row 2 - Seat 3: Student 9\n",
      "Row 2 - Seat 4: Student 10\n",
      "Row 2 - Seat 5: Student 11\n",
      "Row 2 - Seat 6: Student 12\n",
      "Row 3 - Seat 1: Student 13\n",
      "Row 3 - Seat 2: Student 14\n",
      "Row 3 - Seat 3: Student 15\n",
      "Row 3 - Seat 4: Student 16\n",
      "Row 3 - Seat 5: Student 17\n",
      "Row 3 - Seat 6: Student 18\n",
      "Row 4 - Seat 1: Student 19\n",
      "Row 4 - Seat 2: Student 20\n",
      "Row 4 - Seat 3: Student 21\n",
      "Row 4 - Seat 4: Student 22\n",
      "Row 4 - Seat 5: Student 23\n",
      "Row 4 - Seat 6: Student 24\n",
      "Row 5 - Seat 1: Student 25\n",
      "Row 5 - Seat 2: Student 26\n",
      "Row 5 - Seat 3: Student 27\n",
      "Row 5 - Seat 4: Student 28\n",
      "Row 5 - Seat 5: Student 29\n",
      "Row 5 - Seat 6: Student 30\n"
     ]
    }
   ],
   "source": [
    "# Solution Video Example\n",
    "\n",
    "total_students = 30\n",
    "rows = 5\n",
    "\n",
    "students_per_row = total_students // rows\n",
    "\n",
    "for row in range(1, rows + 1):\n",
    "    for seat in range(1, students_per_row + 1):\n",
    "        seat_number = (row - 1) * students_per_row + seat\n",
    "        print(f\"Row {row} - Seat {seat}: Student {seat_number}\")"
   ]
  },
  {
   "cell_type": "code",
   "execution_count": 13,
   "metadata": {},
   "outputs": [
    {
     "name": "stdout",
     "output_type": "stream",
     "text": [
      "The total price for all items in the cart is $24\n"
     ]
    }
   ],
   "source": [
    "# 3. Shopping Cart Total Calculator: \n",
    "# Apply for loops to calculate the total cost of items in a shopping cart.\n",
    "\n",
    "items = [\"cheese\", \"heavy whipping cream\", \"coffee creamer\",\"eggs\", \"bacon\"]\n",
    "prices = [4, 4, 6, 3, 7]\n",
    "total = 0\n",
    "\n",
    "for x in range(0, len(items)):\n",
    "    total = total + prices[x]\n",
    "print(\"The total price for all items in the cart is $\" + str(total))\n"
   ]
  },
  {
   "cell_type": "code",
   "execution_count": 51,
   "metadata": {},
   "outputs": [
    {
     "name": "stdout",
     "output_type": "stream",
     "text": [
      "The total cost of the shopping cart is: $24.00\n"
     ]
    }
   ],
   "source": [
    "# Solution Video Example\n",
    "\n",
    "item_prices = [2.99, 5.49, 3.25, 13.99, 4.75]\n",
    "\n",
    "total_cost = 0\n",
    "\n",
    "for price in item_prices:\n",
    "    total_cost += price\n",
    "\n",
    "print(f\"The total cost of the shopping cart is: ${total:.2f}\")"
   ]
  },
  {
   "cell_type": "code",
   "execution_count": 16,
   "metadata": {},
   "outputs": [
    {
     "name": "stdout",
     "output_type": "stream",
     "text": [
      "1 Multiplication Tables\n",
      "1 X 1 = 1\n",
      "1 X 2 = 2\n",
      "1 X 3 = 3\n",
      "1 X 4 = 4\n",
      "1 X 5 = 5\n",
      "\n",
      "2 Multiplication Tables\n",
      "2 X 1 = 2\n",
      "2 X 2 = 4\n",
      "2 X 3 = 6\n",
      "2 X 4 = 8\n",
      "2 X 5 = 10\n",
      "\n",
      "3 Multiplication Tables\n",
      "3 X 1 = 3\n",
      "3 X 2 = 6\n",
      "3 X 3 = 9\n",
      "3 X 4 = 12\n",
      "3 X 5 = 15\n",
      "\n",
      "4 Multiplication Tables\n",
      "4 X 1 = 4\n",
      "4 X 2 = 8\n",
      "4 X 3 = 12\n",
      "4 X 4 = 16\n",
      "4 X 5 = 20\n",
      "\n",
      "5 Multiplication Tables\n",
      "5 X 1 = 5\n",
      "5 X 2 = 10\n",
      "5 X 3 = 15\n",
      "5 X 4 = 20\n",
      "5 X 5 = 25\n",
      "\n"
     ]
    }
   ],
   "source": [
    "# 4. Multiplication Table Generator: \n",
    "# Apply nested for loops to generate a multiplication table.\n",
    "\n",
    "for x in range(1,6):\n",
    "    print(x, \"Multiplication Tables\")\n",
    "    for y in range(1,6):\n",
    "        z = x * y\n",
    "        print(x, \"X\", y, \"=\", z)\n",
    "    print()\n"
   ]
  },
  {
   "cell_type": "code",
   "execution_count": 50,
   "metadata": {},
   "outputs": [
    {
     "name": "stdout",
     "output_type": "stream",
     "text": [
      "1 \t2 \t3 \t4 \t5 \t\n",
      "2 \t4 \t6 \t8 \t10 \t\n",
      "3 \t6 \t9 \t12 \t15 \t\n",
      "4 \t8 \t12 \t16 \t20 \t\n",
      "5 \t10 \t15 \t20 \t25 \t\n"
     ]
    }
   ],
   "source": [
    "# Solution Video Example\n",
    "\n",
    "table_size = int(input(\"Enter the size of the multiplication table: \"))\n",
    "\n",
    "for row in range(1, table_size +1):\n",
    "    for column in range(1, table_size + 1):\n",
    "        product = row * column\n",
    "        print(f\"{product} \\t\", end=\"\")\n",
    "    print()\n",
    "    "
   ]
  },
  {
   "cell_type": "code",
   "execution_count": 46,
   "metadata": {},
   "outputs": [
    {
     "name": "stdout",
     "output_type": "stream",
     "text": [
      "We need to order more wood planks ASAP!\n",
      "We have enough wood planks for now.\n",
      "We have enough screws for now.\n",
      "We have enough nails for now.\n",
      "We have enough drywall for now.\n",
      "We have enough caulk for now.\n",
      "We have enough wood planks for now.\n",
      "We have enough screws for now.\n",
      "We have enough nails for now.\n",
      "We have enough drywall for now.\n",
      "We have enough caulk for now.\n",
      "We have enough wood planks for now.\n",
      "We have enough screws for now.\n",
      "We have enough nails for now.\n",
      "We have enough drywall for now.\n",
      "We have enough caulk for now.\n",
      "We need to order more wood planks ASAP!\n"
     ]
    }
   ],
   "source": [
    "# 5. Inventory Management: \n",
    "# Use lists, for loops, and if statements to manage inventory items.\n",
    "\n",
    "items = [\"wood planks\", \"screws\", \"nails\", \"drywall\", \"caulk\"]\n",
    "quantity = [3, 15, 8, 6, 2]\n",
    "\n",
    "# for x in quantity:\n",
    "#     for x in range(0, len(items)):\n",
    "#         if x < 5:\n",
    "#             print(\"We need to order more \" + items[x] + \" ASAP!\")\n",
    "#         elif x >= 5:\n",
    "#             print(\"We have enough \" + items[x] + \" for now...\")\n",
    "\n",
    "# for item in items:\n",
    "#     if quantity[items[item]] < 5:\n",
    "#         print(\"We need to order more \" + item + \" ASAP!\")\n",
    "#     elif quantity[items[item]] >= 5:\n",
    "#         print(\"We have enough \" + item + \" for now...\")\n",
    "\n",
    "for x in quantity:\n",
    "    for item in items:\n",
    "        if x < 5:\n",
    "            print(\"We need to order more\", item, \"ASAP!\")\n",
    "            break\n",
    "        if x >= 5:\n",
    "            print(\"We have enough\", item, \"for now.\")\n",
    "\n"
   ]
  },
  {
   "cell_type": "code",
   "execution_count": null,
   "metadata": {},
   "outputs": [],
   "source": [
    "# Solution Video Example\n",
    "\n",
    "inventory = [\n",
    "    [\"Apples\", 5],\n",
    "    [\"Bananas\", 2],\n",
    "    [\"Oranges\", 0],\n",
    "    [\"Milk\", 1],\n",
    "    [\"Eggs\", 12]\n",
    "]\n",
    "\n",
    "reorder_threshold = 3\n",
    "\n",
    "for item in inventory:\n",
    "    name, quantity = item\n",
    "    if quantity < reorder_threshold:\n",
    "        print(f\"{name} needs to be reordered.\")"
   ]
  },
  {
   "cell_type": "code",
   "execution_count": 47,
   "metadata": {},
   "outputs": [
    {
     "name": "stdout",
     "output_type": "stream",
     "text": [
      "Let's see what else we find!\n",
      "Let's see what else we find!\n",
      "Let's see what else we find!\n",
      "Let's see what else we find!\n",
      "Let's see what else we find!\n",
      "Let's see what else we find!\n",
      "Let's see what else we find!\n",
      "Let's see what else we find!\n",
      "Let's see what else we find!\n",
      "Let's see what else we find!\n",
      "Let's see what else we find!\n",
      "Let's see what else we find!\n",
      "Let's see what else we find!\n",
      "Let's see what else we find!\n",
      "Let's see what else we find!\n",
      "Let's see what else we find!\n",
      "Let's see what else we find!\n",
      "Let's see what else we find!\n",
      "Let's see what else we find!\n",
      "Let's see what else we find!\n",
      "Let's see what else we find!\n",
      "HAZZAH! Just the treasure I was looking for!\n",
      "Let's see what else we find!\n",
      "Let's see what else we find!\n",
      "Let's see what else we find!\n",
      "Let's see what else we find!\n",
      "Let's see what else we find!\n",
      "Let's see what else we find!\n",
      "Let's see what else we find!\n",
      "Let's see what else we find!\n",
      "Let's see what else we find!\n",
      "Let's see what else we find!\n",
      "Let's see what else we find!\n",
      "Let's see what else we find!\n",
      "Let's see what else we find!\n",
      "Let's see what else we find!\n",
      "Let's see what else we find!\n",
      "Let's see what else we find!\n",
      "Let's see what else we find!\n",
      "Let's see what else we find!\n",
      "Let's see what else we find!\n",
      "Let's see what else we find!\n",
      "Let's see what else we find!\n"
     ]
    }
   ],
   "source": [
    "# 6. Treasure Hunt: \n",
    "# Use lists, for loops, and the break statement to stop a process once a certain \n",
    "# condition is met\n",
    "\n",
    "chests = [1, 2, 3, 4, 5, 6, 7]\n",
    "treasures = [\"gold\", \"crown\", \"chalice\", \"sword\", \"silver\", \"gemstone\", \"dragon egg\"]\n",
    "\n",
    "for treasure in treasures:\n",
    "    for x in chests:\n",
    "        if treasure == \"sword\":\n",
    "            print(\"HAZZAH! Just the treasure I was looking for!\")\n",
    "            break\n",
    "        print(\"Let's see what else we find!\")"
   ]
  },
  {
   "cell_type": "code",
   "execution_count": 53,
   "metadata": {},
   "outputs": [
    {
     "name": "stdout",
     "output_type": "stream",
     "text": [
      "Treasure found in cave 3!\n"
     ]
    }
   ],
   "source": [
    "# Solution Example\n",
    "\n",
    "# List representing caves, \"True\" indicates teh cave has treasure\n",
    "caves = [False, False, True, False, False]\n",
    "\n",
    "# iterate over the caves\n",
    "for index, cave in enumerate(caves):\n",
    "    #Check if the cave has the treasure\n",
    "    if cave:\n",
    "        print(f\"Treasure found in cave {index + 1}!\")\n",
    "        break # stop searching once the treasure is found"
   ]
  },
  {
   "cell_type": "code",
   "execution_count": 54,
   "metadata": {},
   "outputs": [
    {
     "name": "stdout",
     "output_type": "stream",
     "text": [
      "Valid emails: ['user1@example.com', 'user2@example.com', 'user3@example.com']\n"
     ]
    }
   ],
   "source": [
    "# 7. Email Cleanup: \n",
    "# Use lists, for loops, and the continue statement to skip over certain iterations within a loop\n",
    "\n",
    "# senders = [\"Frodo\", \"Gandalf\", \"Gollum\", \"Bilbo\", \"Legolas\"]\n",
    "# subjects = \n",
    "\n",
    "# List representing email addresses, \"None\" indicates an invalid email\n",
    "emails = [\"user1@example.com\", None, \"user2@example.com\", \"user3@example.com\", None]\n",
    "\n",
    "# List to hold valid emails\n",
    "valid_emails = []\n",
    "\n",
    "# Iterate over the list of emails\n",
    "for email in emails:\n",
    "    # Skip the iteration if the email is invalid\n",
    "    if email is None:\n",
    "        continue\n",
    "    # Add the valid email to the list\n",
    "    valid_emails.append(email)\n",
    "\n",
    "# Print the list of valid emails\n",
    "print(\"Valid emails:\", valid_emails)"
   ]
  },
  {
   "cell_type": "code",
   "execution_count": null,
   "metadata": {},
   "outputs": [],
   "source": []
  },
  {
   "cell_type": "code",
   "execution_count": null,
   "metadata": {},
   "outputs": [],
   "source": []
  },
  {
   "cell_type": "code",
   "execution_count": null,
   "metadata": {},
   "outputs": [],
   "source": []
  },
  {
   "cell_type": "code",
   "execution_count": null,
   "metadata": {},
   "outputs": [],
   "source": []
  },
  {
   "cell_type": "code",
   "execution_count": null,
   "metadata": {},
   "outputs": [],
   "source": []
  },
  {
   "cell_type": "code",
   "execution_count": null,
   "metadata": {},
   "outputs": [],
   "source": []
  },
  {
   "cell_type": "code",
   "execution_count": null,
   "metadata": {},
   "outputs": [],
   "source": []
  }
 ],
 "metadata": {
  "kernelspec": {
   "display_name": "Python 3",
   "language": "python",
   "name": "python3"
  },
  "language_info": {
   "codemirror_mode": {
    "name": "ipython",
    "version": 3
   },
   "file_extension": ".py",
   "mimetype": "text/x-python",
   "name": "python",
   "nbconvert_exporter": "python",
   "pygments_lexer": "ipython3",
   "version": "3.10.6"
  }
 },
 "nbformat": 4,
 "nbformat_minor": 2
}
