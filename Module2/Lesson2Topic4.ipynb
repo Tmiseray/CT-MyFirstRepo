{
 "cells": [
  {
   "cell_type": "code",
   "execution_count": 3,
   "metadata": {},
   "outputs": [
    {
     "name": "stdout",
     "output_type": "stream",
     "text": [
      "Stop or you will cause a wreck!\n"
     ]
    }
   ],
   "source": [
    "# Exercise 1: Traffic Light Simulator\n",
    "\n",
    "# Write a program that prompts the user to input the color of a traffic light \n",
    "# (green, yellow, red) and outputs the action a driver should take.\n",
    "\n",
    "light_color = input(\"What color is the traffic light?\")\n",
    "\n",
    "if light_color == \"green\":\n",
    "    print(\"Go grease lightning, Go!\")\n",
    "elif light_color == \"yellow\":\n",
    "    print(\"Slow down speed racer!\")\n",
    "else:\n",
    "    print(\"Stop or you will cause a wreck!\")"
   ]
  },
  {
   "cell_type": "code",
   "execution_count": 7,
   "metadata": {},
   "outputs": [
    {
     "name": "stdout",
     "output_type": "stream",
     "text": [
      "You can watch any movie selection!\n"
     ]
    }
   ],
   "source": [
    "# Exercise 2: Movie Age Restriciton:\n",
    "\n",
    "# To ensure viewers have an age appropriate experience, movies come with specific ratings. \n",
    "# Given a movie's rating (G, PG, PG-13, R) and the age of the person, \n",
    "# inform the user if they can watch the moved based on their age.\n",
    "\n",
    "age = int(input(\"How old are you?\"))\n",
    "movie_rating = input(\"What is the movie's rating?\")\n",
    "\n",
    "if age <= 13 and movie_rating != \"R\":\n",
    "    print(\"You may watch this movie selection!\")\n",
    "elif age <= 13 and movie_rating == \"R\":\n",
    "    print(\"This movie selection is inappropriate for you!\")\n",
    "else:\n",
    "    print(\"You can watch any movie selection!\")\n"
   ]
  },
  {
   "cell_type": "code",
   "execution_count": 13,
   "metadata": {},
   "outputs": [
    {
     "name": "stdout",
     "output_type": "stream",
     "text": [
      "Sounds nice! Jeans and a T-shirt would be perfect today! I would bring a light sweater just in case it gets windy!\n"
     ]
    }
   ],
   "source": [
    "# Exercise 3: Weather Suggestion: \n",
    "\n",
    "# Based on the temperature entered by the user, suggest an outfit. Be creative!\n",
    "\n",
    "temperature = float(input(\"What is the current temperature outside?\"))\n",
    "\n",
    "if temperature < 55:\n",
    "    print(\"BRRR! You may need a hefty coat today!\")\n",
    "elif 55 <= temperature <= 75:\n",
    "    print(\"Sounds nice! Jeans and a T-shirt would be perfect today! I would bring a light sweater just in case it gets windy!\")\n",
    "elif 75 <= temperature <= 95:\n",
    "    print(\"Perfect beach weather! I would suggest shorts and a tank top or even better, just throw on a bathing suit and head for some water!\")\n",
    "elif temperature > 95:\n",
    "    print(\"OOF!?! That's a little toasty!?! Might I suggest staying indoors for a good movie or gaming with friends instead of roasting in that heat!\")"
   ]
  },
  {
   "cell_type": "code",
   "execution_count": 12,
   "metadata": {},
   "outputs": [
    {
     "name": "stdout",
     "output_type": "stream",
     "text": [
      "You recieved an C!\n"
     ]
    }
   ],
   "source": [
    "# Exercise 4: Grading System: \n",
    "\n",
    "# Convert numeric grades to letter grades. \n",
    "# Assume grades are between 0 to 100 (research academic grade values)\n",
    "\n",
    "# A >= 90 \n",
    "# 80 <= B <= 89\n",
    "# 70 <= C <= 79\n",
    "# 60 <= D <= 69\n",
    "# F <= 59\n",
    "\n",
    "num_grade = float(input(\"Enter your grade (0-100):\"))\n",
    "\n",
    "if num_grade >= 90:\n",
    "    print(\"Congratulations! You recieved an A!\")\n",
    "elif 80 <= num_grade <= 89:\n",
    "    print(\"You recieved a B!\")\n",
    "elif 70 <= num_grade <= 79:\n",
    "    print(\"You recieved an C!\")\n",
    "elif 60 <= num_grade <= 69:\n",
    "    print(\"You recieved an D!\")\n",
    "elif num_grade <= 59:\n",
    "    print(\"You have failed...\")"
   ]
  },
  {
   "cell_type": "code",
   "execution_count": 22,
   "metadata": {},
   "outputs": [
    {
     "name": "stdout",
     "output_type": "stream",
     "text": [
      "WOAH! ARE YOU A TRIATHLETE OR BODY BUILDER?!? If not, you may want to tone down the amount of exercise you are doing! Some regular exercise can be good, but TOO MUCH can lead to additional health problems in the long run! BE CAREFUL or you may begin working against yourself and goals!\n"
     ]
    }
   ],
   "source": [
    "# Exercise 5: Fitness Advice: \n",
    "\n",
    "# Ask the user how many minutes they exercise daily and provide advice (be creative!)\n",
    "\n",
    "min_per_day = int(input(\"How many minutes do you exercise daily?\"))\n",
    "\n",
    "if min_per_day <= 10:\n",
    "    print(\"This will simply not do! Might I suggest at least taking a 20 minute walk each day. This is always a great start to a regular exercise regimen!\")\n",
    "elif 10 < min_per_day < 21:\n",
    "    print(\"That's a good start! It is best to do at least 30 minutes of moderate-intensity activity per day. Try adding some new exercises into your routine to extend the time you workout!\")\n",
    "elif 21 < min_per_day < 31:\n",
    "    print(\"It sounds like you are a regular athlete! You may not need any additional advice! Keep up the good work!\")\n",
    "else:\n",
    "    print(\"WOAH! ARE YOU A TRI-ATHLETE OR BODY BUILDER?!? If not, you may want to tone down the amount of exercise you are doing! Some regular exercise can be good, but TOO MUCH can lead to additional health problems in the long run! BE CAREFUL or you may begin working against yourself and your goals!\")"
   ]
  },
  {
   "cell_type": "code",
   "execution_count": 4,
   "metadata": {},
   "outputs": [
    {
     "name": "stdout",
     "output_type": "stream",
     "text": [
      "You might like a Flavored Nitro Cold Brew\n"
     ]
    }
   ],
   "source": [
    "# Exercise 6: Coffee Recommendation: \n",
    "\n",
    "# Recommend a type of coffee based on user preferences about sweetness and milk.\n",
    "\n",
    "# sugar = none, some, a lot\n",
    "# milk = none, some, a lot\n",
    "\n",
    "sugar = input(\"How much sugar do you like in your coffee? A lot, Some, or None?\")\n",
    "milk = input(\"How much milk or cream do you like in your coffee? A lot, Some, or None?\")\n",
    "\n",
    "if sugar == \"a lot\" and milk == \"a lot\":\n",
    "    print(\"Might I recommend a Sweetened Flavored Latte\")\n",
    "elif sugar == \"a lot\" and milk == \"some\":\n",
    "    print(\"Sounds like a Sweetened Flavored Macchiato for you\")\n",
    "elif sugar == \"a lot\" and milk == \"none\":\n",
    "    print(\"You may want to try a Sweetened flavored Nitro Cold Brew\")\n",
    "elif sugar == \"some\" and milk == \"a lot\":\n",
    "    print(\"A good choice for you could be a Flavored Latte\")\n",
    "elif sugar == \"some\" and milk == \"some\":\n",
    "    print(\"In my opinion, nothing is better than a Flavored Macchiato\")\n",
    "elif sugar == \"some\" and milk == \"none\":\n",
    "    print(\"You might like a Flavored Nitro Cold Brew\")\n",
    "elif sugar == \"none\" and milk == \"a lot\":\n",
    "    print(\"A Plain Latte or Cappuccino would be right up your alley\")\n",
    "elif sugar == \"none\" and milk == \"some\":\n",
    "    print(\"A nice Flat White would be perfect for you\")\n",
    "elif sugar == \"none\" and milk == \"none\":\n",
    "    print(\"I see... You would prefer a bold Black Coffee then\")\n",
    "else:\n",
    "    print(\"I'm sorry, I did not understand your response...\")"
   ]
  },
  {
   "cell_type": "code",
   "execution_count": 11,
   "metadata": {},
   "outputs": [
    {
     "name": "stdout",
     "output_type": "stream",
     "text": [
      "Your total amount in fines equals 60\n"
     ]
    }
   ],
   "source": [
    "# Exercise 7: Library Book Return: \n",
    "\n",
    "# Objective: By the end of this exercise, learners should be able to determine \n",
    "# the fine amount for the overdue library books based on the number of days they are overdue. \n",
    "# This exercise will help learners practice the use of nested if-elif-else statements \n",
    "# in Python and understand how to implement real-world scenarios using conditional logic. \n",
    "\n",
    "# Problem Statement: You are tasked with creating a program for a library to calculate \n",
    "# fines for overdue books. \n",
    "# The library has the following fine structure: \n",
    "# $1 per day for books that are up to 5 days overdue \n",
    "# $2 per day for books that are 6 to 10 days overdue \n",
    "# $5 per day for books that are more than 10 days overdue \n",
    "\n",
    "# Write a Python program that: \n",
    "# 1. Asks the user for the number of days a book is overdue \n",
    "# 2. Calculates the fine based on the above criteria \n",
    "# 3. Displays the fine amount to the user \n",
    "\n",
    "# Hint: Use nested \"if-elif-else\" statements to determine the fine amount based on the number of days the book is overdue\n",
    "\n",
    "num_days_overdue = int(input(\"\"\"Hello! My name is Calculon!\n",
    "                         I will be helping you decipher how much your fines are today!\n",
    "                         How many days overdue is your book?\"\"\"))\n",
    "\n",
    "\n",
    "\n",
    "if num_days_overdue >= 0:\n",
    "    if num_days_overdue > 10:\n",
    "        print(\"Your total amount in fines equals\", (num_days_overdue) * 5)\n",
    "    elif 6 <= num_days_overdue <= 10:\n",
    "        print(\"Your total amount in fines equals\", (num_days_overdue) * 2)\n",
    "    elif 0 != num_days_overdue <= 5:\n",
    "        print(\"Your total amount in fines equals\", (num_days_overdue) * 1)\n",
    "    else:\n",
    "        print(\"Congratulations! You do not owe any fines!\")\n",
    "\n"
   ]
  },
  {
   "cell_type": "code",
   "execution_count": null,
   "metadata": {},
   "outputs": [],
   "source": [
    "# Another version of the above problem would be:\n",
    "\n",
    "# days_overdue = int(input(\"How many days is the book overdue?\"))\n",
    "# fine = 0\n",
    "\n",
    "# if days_overdue <= 5:\n",
    "#     fine = days_overdue * 1\n",
    "# elif days_overdue <= 10:\n",
    "#     fine = days_overdue * 2\n",
    "# else:\n",
    "#     fine = days_overdue * 5\n",
    "\n",
    "# print(f\"Your fine is ${fine}.\")"
   ]
  }
 ],
 "metadata": {
  "kernelspec": {
   "display_name": "Python 3",
   "language": "python",
   "name": "python3"
  },
  "language_info": {
   "codemirror_mode": {
    "name": "ipython",
    "version": 3
   },
   "file_extension": ".py",
   "mimetype": "text/x-python",
   "name": "python",
   "nbconvert_exporter": "python",
   "pygments_lexer": "ipython3",
   "version": "3.10.6"
  }
 },
 "nbformat": 4,
 "nbformat_minor": 2
}
