{
 "cells": [
  {
   "cell_type": "code",
   "execution_count": null,
   "metadata": {},
   "outputs": [],
   "source": [
    "# Python Functions"
   ]
  },
  {
   "cell_type": "code",
   "execution_count": 4,
   "metadata": {},
   "outputs": [
    {
     "name": "stdout",
     "output_type": "stream",
     "text": [
      "Your username: taylormiseray is valid!\n"
     ]
    }
   ],
   "source": [
    "# 1. The Username Validator: \n",
    "# Create a program that validates usernames based on length. \n",
    "# This exercise will focus on using conditional statements and the len() function.\n",
    "\n",
    "username = input(\"Enter a username: \")\n",
    "\n",
    "for name in username:\n",
    "    if len(username) < 13:\n",
    "        username = input(\"\"\"Usernames need to be at least 13 characters. \n",
    "                         Enter a valid username: \"\"\")\n",
    "        if len(username) >= 13:\n",
    "            print(f\"Your username: {username} is valid!\")        "
   ]
  },
  {
   "cell_type": "code",
   "execution_count": 19,
   "metadata": {},
   "outputs": [
    {
     "name": "stdout",
     "output_type": "stream",
     "text": [
      "Username is valid!\n"
     ]
    }
   ],
   "source": [
    "# Solution Example\n",
    "\n",
    "while True:\n",
    "    username = input(\"Enter your desired username: \")\n",
    "\n",
    "    if 5 <= len(username) <= 15:\n",
    "        print(\"Username is valid!\")\n",
    "    else:\n",
    "        print(\"Username must be between 5 and 15 characters!\")\n",
    "\n",
    "    continue_input = input(\"Do you want to try another username? (yes/no) \").lower()\n",
    "    if continue_input != \"yes\":\n",
    "        break"
   ]
  },
  {
   "cell_type": "code",
   "execution_count": 5,
   "metadata": {},
   "outputs": [
    {
     "name": "stdout",
     "output_type": "stream",
     "text": [
      "Item: apples\n",
      "Price: $3\n",
      "Item: eggs\n",
      "Price: $2\n",
      "Item: bacon\n",
      "Price: $5\n",
      "Item: bread\n",
      "Price: $6\n"
     ]
    }
   ],
   "source": [
    "# 2. The Precise Price Tagger: \n",
    "# Create a program that rounds off prices to a user-friendly format\n",
    "\n",
    "items = [\"apples\", 2.87, \"eggs\", 1.98, \"bacon\", 5.46, \"bread\", 6.31]\n",
    "\n",
    "index = 0\n",
    "\n",
    "while index < len(items):\n",
    "    item = items[index]\n",
    "\n",
    "    if type(item) == str:\n",
    "        print(f\"Item: {item}\")\n",
    "    elif type(item) == float:\n",
    "        print(f\"Price: ${round(item)}\")\n",
    "\n",
    "    index += 1"
   ]
  },
  {
   "cell_type": "code",
   "execution_count": 20,
   "metadata": {},
   "outputs": [
    {
     "name": "stdout",
     "output_type": "stream",
     "text": [
      "Rounded Price: $5.95\n"
     ]
    }
   ],
   "source": [
    "# Solution Example\n",
    "\n",
    "while True:\n",
    "\n",
    "    price_input = float(input(\"Enter the price: \"))\n",
    "    rounded_price = round(price_input, 2)\n",
    "    print(f\"Rounded Price: ${rounded_price}\")\n",
    "\n",
    "    new_price = input(\"Would you like to enter in a new price? (yes/no)\").lower()\n",
    "    if new_price != \"yes\":\n",
    "        break"
   ]
  },
  {
   "cell_type": "code",
   "execution_count": 21,
   "metadata": {},
   "outputs": [
    {
     "name": "stdout",
     "output_type": "stream",
     "text": [
      "10C is equivalent to 50.0F\n",
      "20C is equivalent to 68.0F\n",
      "25C is equivalent to 77.0F\n",
      "30C is equivalent to 86.0F\n",
      "35C is equivalent to 95.0F\n"
     ]
    }
   ],
   "source": [
    "# 3. Global Temperature Translator: \n",
    "# Using f-strings for output, and apply this to a practical scenario of temperature conversion\n",
    "\n",
    "# Solution Example\n",
    "\n",
    "celsius_temperatures = [10, 20, 25, 30, 35]\n",
    "\n",
    "for celsius in celsius_temperatures:\n",
    "    fahrenheit = (celsius * 9/5) + 32\n",
    "    print(f\"{celsius}C is equivalent to {fahrenheit}F\")"
   ]
  },
  {
   "cell_type": "code",
   "execution_count": 6,
   "metadata": {},
   "outputs": [
    {
     "name": "stdout",
     "output_type": "stream",
     "text": [
      "The lowest temperature of the 3 rooms is: 67.6.\n",
      "The highest temperature of the 3 rooms is: 81.3.\n"
     ]
    }
   ],
   "source": [
    "# 4. The Goldilocks Room Selector: \n",
    "# Use the min() and max() functions in Python to find the highest and lowest values in a list, \n",
    "# and apply this to a practical scenario of determining room temperatures\n",
    "\n",
    "room_temps = [72.5, 67.6, 81.3]\n",
    "\n",
    "min_temp = min(room_temps)\n",
    "max_temp = max(room_temps)\n",
    "print(f\"The lowest temperature of the 3 rooms is: {min_temp}.\")\n",
    "print(f\"The highest temperature of the 3 rooms is: {max_temp}.\")"
   ]
  },
  {
   "cell_type": "code",
   "execution_count": 23,
   "metadata": {},
   "outputs": [
    {
     "name": "stdout",
     "output_type": "stream",
     "text": [
      "The kitchen is the warmest with 24C\n",
      "The bedroom is the warmest with 19C\n"
     ]
    }
   ],
   "source": [
    "# Solution Example\n",
    "\n",
    "room_temperatures = [22, 24, 19, 21]\n",
    "room_names = [\"living room\", \"kitchen\", \"bedroom\", \"bathroom\"]\n",
    "\n",
    "warmest_temp = max(room_temperatures)\n",
    "coolest_temp = min(room_temperatures)\n",
    "\n",
    "warmest_room_index = room_temperatures.index(warmest_temp)\n",
    "coolest_room_index = room_temperatures.index(coolest_temp)\n",
    "\n",
    "warmest_room = room_names[warmest_room_index]\n",
    "coolest_room = room_names[coolest_room_index]\n",
    "\n",
    "print(f\"The {warmest_room} is the warmest with {warmest_temp}C\")\n",
    "print(f\"The {coolest_room} is the warmest with {coolest_temp}C\")"
   ]
  },
  {
   "cell_type": "code",
   "execution_count": 15,
   "metadata": {},
   "outputs": [
    {
     "name": "stdout",
     "output_type": "stream",
     "text": [
      "Item        | Price ($)\n",
      "earbuds     | 13       \n",
      "curtains    | 37       \n",
      "curtain rod | 8        \n",
      "tank top    | 3        \n",
      "shorts      | 5        \n",
      "dress       | 19       \n"
     ]
    }
   ],
   "source": [
    "# 5. The E-Commerce Cart Summary: \n",
    "# Create a program that generates a user-friendly summary of an e-commerce shopping cart\n",
    "\n",
    "cart = [\n",
    "    [\"Item\", \"Price ($)\"],\n",
    "    [\"earbuds\", 13],\n",
    "    [\"curtains\", 37],\n",
    "    [\"curtain rod\", 8],\n",
    "    [\"tank top\", 3],\n",
    "    [\"shorts\", 5],\n",
    "    [\"dress\", 19]\n",
    "]\n",
    "\n",
    "column_width = [max(len(str(item)) for item in col) for col in zip(*cart)]\n",
    "\n",
    "for row in cart:\n",
    "    print(\" | \".join(f\"{item:<{width}}\" for item, width in zip(row, column_width)))\n",
    "\n",
    "# import pandas as pd \n",
    "\n",
    "# cart = [\n",
    "#     [\"Item\", \"Price ($)\"],\n",
    "#     [\"earbuds\", 13],\n",
    "#     [\"curtains\", 37],\n",
    "#     [\"curtain rod\", 8],\n",
    "#     [\"tank top\", 3],\n",
    "#     [\"shorts\", 5],\n",
    "#     [\"dress\", 19]\n",
    "# ]\n",
    "\n",
    "# table = pd.DataFrame(cart[1:], columns = cart[0])\n",
    "\n",
    "# print(table)"
   ]
  },
  {
   "cell_type": "code",
   "execution_count": 25,
   "metadata": {},
   "outputs": [
    {
     "name": "stdout",
     "output_type": "stream",
     "text": [
      "Your Cart Items:\n",
      "- Wireless Mouse: $25 (In Stock)\n",
      "- Gaming Keyboard: $50 (Out of Stock)\n",
      "- USB-C Adapter: $10 (In Stock)\n",
      "\n"
     ]
    }
   ],
   "source": [
    "# Solution Example\n",
    "\n",
    "# Products\n",
    "product_1 = \"Wireless Mouse\"\n",
    "product_2 = \"Gaming Keyboard\"\n",
    "product_3 = \"USB-C Adapter\"\n",
    "\n",
    "# Prices\n",
    "price_1 = \"$25\"\n",
    "price_2 = \"$50\"\n",
    "price_3 = \"$10\"\n",
    "\n",
    "# Availability\n",
    "in_stock_1 = True\n",
    "in_stock_2 = False\n",
    "in_stock_3 = True\n",
    "\n",
    "cart_summary = \"Your Cart Items:\\n\"\n",
    "cart_summary += \"- \" + product_1 + \": \" + price_1 + (\" (In Stock)\" if in_stock_1 else \" (Out of Stock)\") + \"\\n\"\n",
    "cart_summary += \"- \" + product_2 + \": \" + price_2 + (\" (In Stock)\" if in_stock_2 else \" (Out of Stock)\") + \"\\n\"\n",
    "cart_summary += \"- \" + product_3 + \": \" + price_3 + (\" (In Stock)\" if in_stock_3 else \" (Out of Stock)\") + \"\\n\"\n",
    "\n",
    "print(cart_summary)"
   ]
  },
  {
   "cell_type": "code",
   "execution_count": 18,
   "metadata": {},
   "outputs": [
    {
     "name": "stdout",
     "output_type": "stream",
     "text": [
      "This is not a valid choice adventurer!\n",
      "\n",
      "              left\n"
     ]
    }
   ],
   "source": [
    "# 6. The Interactive Story Chooser: \n",
    "# Use the input() function to capture user input, along with conditional statements to \n",
    "# direct the flow of a program, and lists to store and manipulate data\n",
    "\n",
    "def story():\n",
    "    input(\"\"\"Welcome to the dungeon adventurer!\\n\n",
    "          Press Enter to start your journey...\n",
    "          \"\"\")\n",
    "\n",
    "    begin = input(\"\"\"After you enter the dungeon, you notice there are 2 hallways to choose from.\\n\n",
    "                  Which direction do you choose?\\n\n",
    "                  (Left/Right)\"\"\")\n",
    "\n",
    "    if begin == \"Left\":\n",
    "        archway = input(\"\"\"You journey down this hallway towards what looks to be a couple of archways. \\n\n",
    "                        One that is full of life, made from green vines that are blooming with flowers.\\n\n",
    "                        The other not so much, made from bones and smelling possibly of herbs.\\n\n",
    "                        Which do you go through?\\n\n",
    "                        (Vines/Bones)\"\"\")\n",
    "        if archway == \"Vines\":\n",
    "            faefolk = input(\"\"\"You come across curious faefolk!\\n\n",
    "                            Their leader approaches you, \\n\n",
    "                            'Why are you here adventurer?'\\n\n",
    "                            (Not sure/Secrets of the dungeon)\"\"\")\n",
    "            if faefolk == \"Not sure\":\n",
    "                print(\"\"\"The fae reads you aura...\\n\n",
    "                      'I see...'\\n\n",
    "                      'In that case...'\\n\n",
    "                      The fae leader lifts her staff high above the ground and waves it slowly in the air.\\n\n",
    "                      She has gifted you sight that shows you hidden treasures!\"\"\")\n",
    "            elif faefolk == \"Secrets of the dungeon\":\n",
    "                print(\"\"\"The fae look confused...\\n\n",
    "                      'I'm unsure what you mean?...\\n\n",
    "                      What dungeon?...'\\n\n",
    "                      You notice everything looks like the surface...\\n\n",
    "                      You are suddenly in the town's tavern and you are speaking with townfolk...\\n\n",
    "                      'Hmmm... I must have been day dreaming...'\\n\n",
    "                      Unbeknownst to you... You have been captured by the fae!\\n\n",
    "                      They have capsulated you into a flower bud!!\n",
    "                      You are under a spell keeping you in a dream-like state!!!\"\"\")\n",
    "        elif archway == \"Bones\":\n",
    "            unicorn = input(\"\"\"You come across an undead unicorn skeleton!\\n\n",
    "                            It looks over at you, takes a step toward you...\\n\n",
    "                            How do you approach?\n",
    "                            (Head low and slowly/Unafraid and confident)\"\"\")\n",
    "            if unicorn == \"Head low and slowly\":\n",
    "                print(\"\"\"As you approach slowly...\\n\n",
    "                      The unicorn begins to bow to you!\\n\n",
    "                      A sign of respect!\\n\n",
    "                      The mystical creature allows you to ride it!!\\n\n",
    "                      You now have bounded with the undead unicorn and it is your mount!!!\"\"\")\n",
    "            elif unicorn == \"Unafraid and confident\":\n",
    "                print(\"\"\"As you approach...\\n\n",
    "                      The unicorn see your display as disrespect!\\n\n",
    "                      It rears up and rams you with it's horn!!\\n\n",
    "                      You do not survive...\"\"\")\n",
    "    elif begin == \"Right\":\n",
    "        door = input(\"\"\"Down this hallway, you notice the torches begin to flicker but not extinguish...\\n\n",
    "                    Almost as if there is a draft, but there air feels still to you...\\n\n",
    "                    In the dim light, you finally approach some doors.\\n\n",
    "                    The door to the left is made of a silver metal and gives you a chill as you get closer.\\n\n",
    "                    The door in the middle is made of wood with a golden knob.\\n\n",
    "                    The door to the right is made of a bronze metal and feels warm to you.\\n\n",
    "                    What door do you open?\\n\n",
    "                    (Silver/Wood/Bronze)\"\"\")\n",
    "        if door == \"Silver\":\n",
    "            statue = input(\"\"\"You open the door and see a statue of a goddess!\\n\n",
    "                           As you step closer, you notice the statue is glowing...\\n\n",
    "                           Your intuition tells you to do something...\\n\n",
    "                           (Pray/Touch it)\"\"\")\n",
    "            if statue == \"Pray\":\n",
    "                print(\"\"\"As you get down on your knees to pray...\\n\n",
    "                      You hear something...\\n\n",
    "                      You are attacked!\\n\n",
    "                      Sneaky goblins rush you from every direction!!\\n\n",
    "                      You do not survive...\"\"\")\n",
    "            elif statue == \"Touch it\":\n",
    "                print(\"\"\"You approach the statue...\\n\n",
    "                      As you begin to touch it, you start to feel the glow move into you...\\n\n",
    "                      The goddess has imbued you with sacred essence!\"\"\")\n",
    "        elif door == \"Wood\":\n",
    "            spiders = input(\"\"\"You step through the door and immediately slide down a path!\\n\n",
    "                            When you reach the bottom, you notice there are spider webs everywhere...\\n\n",
    "                            Focusing your eyes, you see more and more spiders...\\n\n",
    "                            Then, through an opening in the webs, you see many large eyes getting closer to you...\\n\n",
    "                            What do you do next??\\n\n",
    "                            (Panic/Look around)\"\"\")\n",
    "            if spiders == \"Panic\":\n",
    "                print(\"\"\"You begin to panic...\\n\n",
    "                      The spiders can sense your anxiety...\\n\n",
    "                      Before you know it, they have spun webs to trap you in place!\\n\n",
    "                      The large spider creeps out of it's crevice...\\n\n",
    "                      A small spider bites you first, which paralyzes you!!\\n\n",
    "                      The larger spider then proceeds to eat you alive!!!\\n\n",
    "                      You do not survive...\"\"\")\n",
    "            elif spiders == \"Look around\":\n",
    "                print(\"\"\"As you look around, you notice a level on the ground near you...\\n\n",
    "                      You reach for it and pull...\\n\n",
    "                      A trap door below you opens!\\n\n",
    "                      You slide through a tunnel...\\n\n",
    "                      When you finally stop sliding, you see a meadow and trees.\\n\n",
    "                      You have managed to escape to safety!\"\"\")\n",
    "        elif door == \"Bronze\":\n",
    "            dragon = input(\"\"\"You open the door to see a mystical dragon in the center of the room!\\n\n",
    "                           The dragon starts to speak to you telepathically...\\n\n",
    "                           'I can sense you adventurer...\\n\n",
    "                           Let me see what kind of adventurer you are...'\\n\n",
    "                           (Trick and manipulate/Show the depths of your mind)\"\"\")\n",
    "            if dragon == \"Trick and manipulate\":\n",
    "                print(\"\"\"You attempt to trick the dragon...\\n\n",
    "                      As you try to manipulate the dragon to believe what you want...\\n\n",
    "                      The dragon becomes INFURIATED!\\n\n",
    "                      'How dare you try to trick me!'\\n\n",
    "                      It rears back and roasts you with dragon fire!\\n\n",
    "                      You do not survive...\"\"\")\n",
    "            elif dragon == \"Show the depths of your mind\":\n",
    "                print(\"\"\"You allow the dragon to see deep into your mind...\\n\n",
    "                      'How noble of you..'\\n\n",
    "                      Because you were vulnerable with the dragon...\\n\n",
    "                      She unravels her tail, showing you baby dragons!\\n\n",
    "                      She gifts you the baby of your choosing to soul bond with!\"\"\")\n",
    "    else:\n",
    "        print(f\"\"\"This is not a valid choice adventurer!\\n\n",
    "              {begin}\"\"\")\n",
    "        \n",
    "story()"
   ]
  },
  {
   "cell_type": "code",
   "execution_count": 26,
   "metadata": {},
   "outputs": [
    {
     "name": "stdout",
     "output_type": "stream",
     "text": [
      "You wake up in a mysterious forest. Two paths lie before you.\n",
      "Do you go left or right? (Type 'left' or 'right')\n",
      "You encounter a friendly elf who offers you a map.\n"
     ]
    }
   ],
   "source": [
    "# Solution Example\n",
    "\n",
    "print(\"You wake up in a mysterious forest. Two paths lie before you.\")\n",
    "\n",
    "choices = [\"left\", \"right\"]\n",
    "outcomes = [\"You encounter a friendly elf who offers you a map.\" , \n",
    "            \"You stumble upon a sleeping dragon.\"]\n",
    "\n",
    "print(f\"Do you go left or right? (Type 'left' or 'right')\")\n",
    "decision = input().lower() # makes sure whatever the input is changed to lowercase\n",
    "\n",
    "if decision not in choices:\n",
    "    print(\"Confused, you decide to wait for a clearer sign of which path to take.\")\n",
    "elif decision == \"left\":\n",
    "    outcome_index = choices.index(\"left\")\n",
    "    print(outcomes[outcome_index])\n",
    "else:\n",
    "    outcome_index = choices.index(\"right\")\n",
    "    print(outcomes[outcome_index])    "
   ]
  },
  {
   "cell_type": "code",
   "execution_count": 28,
   "metadata": {},
   "outputs": [
    {
     "name": "stdout",
     "output_type": "stream",
     "text": [
      "Your shopping list: \n",
      "\n",
      "apples- bananas- carrots- bread- milk\n",
      "\n",
      "\n",
      "End of list\n"
     ]
    }
   ],
   "source": [
    "# 7. The Customized List Printer: \n",
    "# Use custom separators and endings in the print() function, while also incorporating loops to \n",
    "# iterate over elements, and lists to store data\n",
    "\n",
    "# Solution Example\n",
    "\n",
    "shopping_list = [\"apples\", \"bananas\", \"carrots\", \"bread\", \"milk\"]\n",
    "\n",
    "separator = input(\"Please enter your preferred item separator (e.g.: ',' , '/' , '-'): \")\n",
    "ending = input(\"Please enter your preferred ending phrase (e.g.: 'End of list' , 'That's all!'): \")\n",
    "\n",
    "print(\"Your shopping list: \", end=\"\\n\\n\")\n",
    "for item in shopping_list:\n",
    "    if item == shopping_list[-1]:\n",
    "        print(item)\n",
    "    else:\n",
    "        print(item, end=separator + \" \")\n",
    "print(\"\\n\\n\" + ending)"
   ]
  },
  {
   "cell_type": "code",
   "execution_count": 29,
   "metadata": {},
   "outputs": [
    {
     "name": "stdout",
     "output_type": "stream",
     "text": [
      "Correct!\n",
      "Correct!\n",
      "Wrong Answer.\n",
      "Correct!\n",
      "Your final score is 3/4.\n"
     ]
    }
   ],
   "source": [
    "# 8. The Dynamic Type Quiz Game: \n",
    "# Use type conversion functions such as int(), float(), str(), and bool(). \n",
    "# You will also use loops to iterate over questions and lists to store the quiz data\n",
    "\n",
    "# Solution Example\n",
    "\n",
    "questions = [\n",
    "    \"What is 10 plus 4?\",\n",
    "    \"Enter a decimal number between 1 and 2\",\n",
    "    \"What is the string representation of the number 20?\",\n",
    "    \"Is Python a programming language? (True/False)\"\n",
    "]\n",
    "\n",
    "correct_answers = [14, 1.5, \"20\", True]\n",
    "answer_types = [int, float, str, bool]\n",
    "\n",
    "score = 0\n",
    "\n",
    "for i in range(len(questions)):\n",
    "    user_answer = input(questions[i] + \" \")\n",
    "    try:\n",
    "        if answer_types[i] == bool:\n",
    "            converted_answer = user_answer.lower() in [\"true\", \"t\", \"yes\", \"y\"]\n",
    "        else:\n",
    "            converted_answer = answer_types[i](user_answer)\n",
    "\n",
    "        if converted_answer == correct_answers[i]:\n",
    "            print(\"Correct!\")\n",
    "            score += 1\n",
    "        else:\n",
    "            print(\"Wrong Answer.\")\n",
    "    except ValueError:\n",
    "        print(\"Invalid input type.\")\n",
    "\n",
    "print(f\"Your final score is {score}/{len(questions)}.\")"
   ]
  },
  {
   "cell_type": "code",
   "execution_count": 30,
   "metadata": {},
   "outputs": [
    {
     "name": "stdout",
     "output_type": "stream",
     "text": [
      "Integers: [10, 42]\n",
      "Floats: [3.14, 2.718]\n",
      "Strings: ['Python', 'Code']\n",
      "Booleans: [False, True]\n"
     ]
    }
   ],
   "source": [
    "# 9. The Type Inspection Challenge: \n",
    "# Use isinstance() and type() to inspect the types of various elements in a list\n",
    "\n",
    "# Solution Example\n",
    "\n",
    "mixed_list = [10, 3.14, \"Python\", False, 42, \"Code\", 2.718, True]\n",
    "\n",
    "integers = []\n",
    "floats = []\n",
    "strings = []\n",
    "booleans = []\n",
    "\n",
    "for element in mixed_list:\n",
    "    if isinstance(element, int) and not isinstance(element, bool):\n",
    "        integers.append(element)\n",
    "    elif isinstance(element, float):\n",
    "        floats.append(element)\n",
    "    elif isinstance(element, str):\n",
    "        strings.append(element)\n",
    "    elif isinstance(element, bool):\n",
    "        booleans.append(element)\n",
    "    else:\n",
    "        print(f\"Unkown type: {type(element)}\")\n",
    "\n",
    "print(f\"Integers: {integers}\")\n",
    "print(f\"Floats: {floats}\")\n",
    "print(f\"Strings: {strings}\")\n",
    "print(f\"Booleans: {booleans}\")"
   ]
  },
  {
   "cell_type": "code",
   "execution_count": 32,
   "metadata": {},
   "outputs": [
    {
     "name": "stdout",
     "output_type": "stream",
     "text": [
      "The sum of the numbers is: 23.5\n",
      "The average is: 4.7\n",
      "1 is below the average\n",
      "1 is below the average\n",
      "3 is below the average\n",
      "3 is below the average\n",
      "2 is below the average\n"
     ]
    }
   ],
   "source": [
    "# 10. The Math Function Marathon: \n",
    "# Apply various mathematical functions such as sum(), round(), sqrt(), ceil(), and floor()\n",
    "\n",
    "# Solution Example\n",
    "\n",
    "import math\n",
    "\n",
    "numbers = [2.5, 3.6, 4.7, 5.8, 6.9]\n",
    "\n",
    "total_sum = sum(numbers)\n",
    "print(f\"The sum of the numbers is: {total_sum}\")\n",
    "\n",
    "average = total_sum / len(numbers)\n",
    "print(f\"The average is: {average}\")\n",
    "\n",
    "for number in numbers:\n",
    "    sqrt_number = math.sqrt(number)\n",
    "    rounded_number = round(sqrt_number)\n",
    "    if rounded_number < sqrt_number:\n",
    "        rounded_number = math.ceil(sqrt_number)\n",
    "    else:\n",
    "        rounded_number = math.floor(sqrt_number)\n",
    "\n",
    "    if rounded_number > average:\n",
    "        print(f\"{rounded_number} is above the average\")\n",
    "    else:\n",
    "        print(f\"{rounded_number} is below the average\")"
   ]
  },
  {
   "cell_type": "code",
   "execution_count": null,
   "metadata": {},
   "outputs": [],
   "source": []
  }
 ],
 "metadata": {
  "kernelspec": {
   "display_name": "Python 3",
   "language": "python",
   "name": "python3"
  },
  "language_info": {
   "codemirror_mode": {
    "name": "ipython",
    "version": 3
   },
   "file_extension": ".py",
   "mimetype": "text/x-python",
   "name": "python",
   "nbconvert_exporter": "python",
   "pygments_lexer": "ipython3",
   "version": "3.12.4"
  }
 },
 "nbformat": 4,
 "nbformat_minor": 2
}
