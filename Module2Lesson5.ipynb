{
 "cells": [
  {
   "cell_type": "code",
   "execution_count": null,
   "metadata": {},
   "outputs": [],
   "source": [
    "# Python Functions"
   ]
  },
  {
   "cell_type": "code",
   "execution_count": 4,
   "metadata": {},
   "outputs": [
    {
     "name": "stdout",
     "output_type": "stream",
     "text": [
      "Your username: taylormiseray is valid!\n"
     ]
    }
   ],
   "source": [
    "# 1. The Username Validator: \n",
    "# Create a program that validates usernames based on length. \n",
    "# This exercise will focus on using conditional statements and the len() function.\n",
    "\n",
    "username = input(\"Enter a username: \")\n",
    "\n",
    "for name in username:\n",
    "    if len(username) < 13:\n",
    "        username = input(\"\"\"Usernames need to be at least 13 characters. \n",
    "                         Enter a valid username: \"\"\")\n",
    "        if len(username) >= 13:\n",
    "            print(f\"Your username: {username} is valid!\")        "
   ]
  },
  {
   "cell_type": "code",
   "execution_count": 5,
   "metadata": {},
   "outputs": [
    {
     "name": "stdout",
     "output_type": "stream",
     "text": [
      "Item: apples\n",
      "Price: $3\n",
      "Item: eggs\n",
      "Price: $2\n",
      "Item: bacon\n",
      "Price: $5\n",
      "Item: bread\n",
      "Price: $6\n"
     ]
    }
   ],
   "source": [
    "# 2. The Precise Price Tagger: \n",
    "# Create a program that rounds off prices to a user-friendly format\n",
    "\n",
    "items = [\"apples\", 2.87, \"eggs\", 1.98, \"bacon\", 5.46, \"bread\", 6.31]\n",
    "\n",
    "index = 0\n",
    "\n",
    "while index < len(items):\n",
    "    item = items[index]\n",
    "\n",
    "    if type(item) == str:\n",
    "        print(f\"Item: {item}\")\n",
    "    elif type(item) == float:\n",
    "        print(f\"Price: ${round(item)}\")\n",
    "\n",
    "    index += 1"
   ]
  },
  {
   "cell_type": "code",
   "execution_count": null,
   "metadata": {},
   "outputs": [],
   "source": [
    "# 3. Global Temperature Translator: \n",
    "# Using f-strings for output, and apply this to a practical scenario of temperature conversion\n",
    "\n"
   ]
  },
  {
   "cell_type": "code",
   "execution_count": 6,
   "metadata": {},
   "outputs": [
    {
     "name": "stdout",
     "output_type": "stream",
     "text": [
      "The lowest temperature of the 3 rooms is: 67.6.\n",
      "The highest temperature of the 3 rooms is: 81.3.\n"
     ]
    }
   ],
   "source": [
    "# 4. The Goldilocks Room Selector: \n",
    "# Use the min() and max() functions in Python to find the highest and lowest values in a list, \n",
    "# and apply this to a practical scenario of determining room temperatures\n",
    "\n",
    "room_temps = [72.5, 67.6, 81.3]\n",
    "\n",
    "min_temp = min(room_temps)\n",
    "max_temp = max(room_temps)\n",
    "print(f\"The lowest temperature of the 3 rooms is: {min_temp}.\")\n",
    "print(f\"The highest temperature of the 3 rooms is: {max_temp}.\")"
   ]
  },
  {
   "cell_type": "code",
   "execution_count": 15,
   "metadata": {},
   "outputs": [
    {
     "name": "stdout",
     "output_type": "stream",
     "text": [
      "Item        | Price ($)\n",
      "earbuds     | 13       \n",
      "curtains    | 37       \n",
      "curtain rod | 8        \n",
      "tank top    | 3        \n",
      "shorts      | 5        \n",
      "dress       | 19       \n"
     ]
    }
   ],
   "source": [
    "# 5. The E-Commerce Cart Summary: \n",
    "# Create a program that generates a user-friendly summary of an e-commerce shopping cart\n",
    "\n",
    "cart = [\n",
    "    [\"Item\", \"Price ($)\"],\n",
    "    [\"earbuds\", 13],\n",
    "    [\"curtains\", 37],\n",
    "    [\"curtain rod\", 8],\n",
    "    [\"tank top\", 3],\n",
    "    [\"shorts\", 5],\n",
    "    [\"dress\", 19]\n",
    "]\n",
    "\n",
    "column_width = [max(len(str(item)) for item in col) for col in zip(*cart)]\n",
    "\n",
    "for row in cart:\n",
    "    print(\" | \".join(f\"{item:<{width}}\" for item, width in zip(row, column_width)))\n",
    "\n",
    "# import pandas as pd \n",
    "\n",
    "# cart = [\n",
    "#     [\"Item\", \"Price ($)\"],\n",
    "#     [\"earbuds\", 13],\n",
    "#     [\"curtains\", 37],\n",
    "#     [\"curtain rod\", 8],\n",
    "#     [\"tank top\", 3],\n",
    "#     [\"shorts\", 5],\n",
    "#     [\"dress\", 19]\n",
    "# ]\n",
    "\n",
    "# table = pd.DataFrame(cart[1:], columns = cart[0])\n",
    "\n",
    "# print(table)"
   ]
  },
  {
   "cell_type": "code",
   "execution_count": null,
   "metadata": {},
   "outputs": [],
   "source": [
    "# 6. The Interactive Story Chooser: \n",
    "# Use the input() function to capture user input, along with conditional statements to \n",
    "# direct the flow of a program, and lists to store and manipulate data\n",
    "\n"
   ]
  },
  {
   "cell_type": "code",
   "execution_count": null,
   "metadata": {},
   "outputs": [],
   "source": [
    "# 7. The Customized List Printer: \n",
    "# Use custom separators and endings in the print() function, while also incorporating loops to \n",
    "# iterate over elements, and lists to store data\n",
    "\n"
   ]
  },
  {
   "cell_type": "code",
   "execution_count": null,
   "metadata": {},
   "outputs": [],
   "source": [
    "# 8. The Dynamic Type Quiz Game: \n",
    "# Use type conversion functions such as int(), float(), str(), and bool(). \n",
    "# You will also use loops to iterate over questions and lists to store the quiz data\n",
    "\n"
   ]
  },
  {
   "cell_type": "code",
   "execution_count": null,
   "metadata": {},
   "outputs": [],
   "source": [
    "# 9. The Type Inspection Challenge: \n",
    "# Use isinstance() and type() to inspect the types of various elements in a list\n",
    "\n"
   ]
  },
  {
   "cell_type": "code",
   "execution_count": null,
   "metadata": {},
   "outputs": [],
   "source": [
    "# 10. The Math Function Marathon: \n",
    "# Apply various mathematical functions such as sum(), round(), sqrt(), ceil(), and floor()\n",
    "\n"
   ]
  },
  {
   "cell_type": "code",
   "execution_count": null,
   "metadata": {},
   "outputs": [],
   "source": []
  }
 ],
 "metadata": {
  "kernelspec": {
   "display_name": "Python 3",
   "language": "python",
   "name": "python3"
  },
  "language_info": {
   "codemirror_mode": {
    "name": "ipython",
    "version": 3
   },
   "file_extension": ".py",
   "mimetype": "text/x-python",
   "name": "python",
   "nbconvert_exporter": "python",
   "pygments_lexer": "ipython3",
   "version": "3.12.4"
  }
 },
 "nbformat": 4,
 "nbformat_minor": 2
}
