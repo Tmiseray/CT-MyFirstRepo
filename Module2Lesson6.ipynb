{
 "cells": [
  {
   "cell_type": "code",
   "execution_count": null,
   "metadata": {},
   "outputs": [],
   "source": [
    "# Exercises:"
   ]
  },
  {
   "cell_type": "code",
   "execution_count": null,
   "metadata": {},
   "outputs": [],
   "source": [
    "# Book Index Finder\n",
    "\n",
    "\"\"\"\n",
    "You are developing a feature for an e-reader app that allows users to find the index of characters in a book or document.\n",
    "This feature helps users to quickly navigate through the text by character references.\n",
    "\n",
    "**Instructions**:\n",
    "\n",
    "1. Write a function 'find_character_index' that takes a 'text' string and a 'character' as parameters and returns the index of the character in the text.\n",
    "2. If the character is not found, the function should return a message stating that the character is not present.\n",
    "3. Implement a loop that prompts the user to enter a string (representing a paragraph or line from a book) and a character to search for.\n",
    "4. Use the function to find the index of the character and print the result using an f-string.\n",
    "5. Ensure the program handles cases where the user may enter multiple characters instead of a single one.\n",
    "\n",
    "\"\"\"\n",
    "\n"
   ]
  },
  {
   "cell_type": "code",
   "execution_count": null,
   "metadata": {},
   "outputs": [],
   "source": [
    "# Echo Text Generator\n",
    "\"\"\"\n",
    "You are tasked with developing a feature for a social media app that allows users to create a fun echo effect with their text posts.\n",
    "This feature repeats each character in the text to create an echo-like pattern, making the posts more engaging and visually appealing.\n",
    "\n",
    "**Instructions**:\n",
    "\n",
    "1. Write a function 'generate_echo_text' that takes a 'text' string as a parameter and returns a new string with each character repeated twice.\n",
    "2. Implement a loop that prompts the user to enter a string (representing a social media post or message).\n",
    "3. Use the function to generate the echo text and print the result using an f-string.\n",
    "4. Ensure the program handles empty strings and informs the user accordingly.\n",
    "\n",
    "\"\"\"\n",
    "\n",
    "\n"
   ]
  },
  {
   "cell_type": "code",
   "execution_count": null,
   "metadata": {},
   "outputs": [],
   "source": [
    "# Game Highlight Reel\n",
    "\"\"\"\n",
    "You are developing a feature for a sports app that allows users to input a series of game highlights and then displays each event separately for easy reading and analysis.\n",
    "This feature is particularly useful for users who want to quickly create summaries of key moments in a match or game.\n",
    "\n",
    "**Instructions**:\n",
    "\n",
    "1. Write a function 'format_highlights' that takes a string of highlights separated by commas and returns a list of individual plays.\n",
    "2. Implement a loop that prompts the user to enter the string of highlights.\n",
    "3. Use the function to format the highlights and prints each play on a new line using an f-string.\n",
    "4. Ensure the program handles empty strings by informs the user and asking for input again.\n",
    "\n",
    "\"\"\""
   ]
  },
  {
   "cell_type": "code",
   "execution_count": null,
   "metadata": {},
   "outputs": [],
   "source": [
    "# Announcement speaker\n",
    "\"\"\"\n",
    "You are creating a feature for a public address system app that allows users to input a message and then displays the message in uppercase, which represents the announcement mode.\n",
    "\n",
    "**Instructions**:\n",
    "\n",
    "1. Write a function 'announce message' that takes a string and returns the same string in uppercase.\n",
    "2. Implement a loop that prompts the user to enter their message.\n",
    "3. Use the function to convert the message and print it using an f-string.\n",
    "4. Ensure the program handles empty strings by informs the user and asking for input again.\n",
    "\n",
    "\"\"\""
   ]
  },
  {
   "cell_type": "code",
   "execution_count": null,
   "metadata": {},
   "outputs": [],
   "source": [
    "# Personlized Welcome Mat\n",
    "\"\"\"\n",
    "You are developing a feature for a hospitality app that personalizes the welcome experience for guests.\n",
    "The app takes the guest's name as input and prints a welcome message, wtih the name beautifully centered within a design made of astericks.\n",
    "\n",
    "**Instructions**:\n",
    "\n",
    "1. Write a function 'create_welcome_message' that takes a string (the user's name) and returns a welcome message.\n",
    "2. The welcome message should have the user's name centered within a line of astericks.\n",
    "3. Implement a loop that prompts the user to enter their name.\n",
    "4. Use the function to generate the welcome message and print it using an f-string.\n",
    "5. Ensure the program handles empty or invalid names by informing the user and asking for input again.\n",
    "\n",
    "\"\"\""
   ]
  },
  {
   "cell_type": "code",
   "execution_count": null,
   "metadata": {},
   "outputs": [],
   "source": [
    "# Stats Breakdown\n",
    "\"\"\"\n",
    "**Problem Statement**:\n",
    "You are creating a feature for a sports analytics app that categorizes and displays player statistics.\n",
    "The app takes a single string input of various stats serparated by semicolonsm where each stat is a category-value pair joined by a colon.\n",
    "The program should print each stat on a new line with its category and value clearly labeled.\n",
    "\n",
    "**Instructions**:\n",
    "\n",
    "1. Write a function 'print_stats' that takes a string of stats and prints each one on a new line.\n",
    "2. Each stat should be presented in the format: \"Category: [CATEGORY], Value: [VALUE]\".\n",
    "3. Implement a loop that prompts the user to enter their stats string.\n",
    "4. Use the function to parse the stats and print them in a user-friendly format.\n",
    "5. Ensure the program handles invalid formats by informing the user and asking for input again.\n",
    "\n",
    "\"\"\"\n",
    "\n",
    "\n"
   ]
  },
  {
   "cell_type": "code",
   "execution_count": null,
   "metadata": {},
   "outputs": [],
   "source": [
    "# Name Tag Switcheroo\n",
    "\"\"\"\n",
    "You are developing a playful feature for a social networking app that allows users to swap the first and last characters of their usernames.\n",
    "The app takes a username as input and displays the modified versions.\n",
    "\n",
    "**Instructions**:\n",
    "\n",
    "1. Write a function 'swap_chracters' that takes a string and returns a new string with the first and last characters swapped.\n",
    "2. Ensure the function handles usernames of any length, including single-character names.\n",
    "3. Implement a loop that prompts the user to enter their username.\n",
    "4. Use the function to swap the characters and print the result in a fun and engaging way.\n",
    "5. Provide the user with the option to try another username or exit the program.\n",
    "\n",
    "\"\"\"\n",
    "\n",
    "\n"
   ]
  },
  {
   "cell_type": "code",
   "execution_count": null,
   "metadata": {},
   "outputs": [],
   "source": [
    "# Meeting Agenda Reverser\n",
    "\"\"\"\n",
    "Imagine you're developing a feature for a meeting management app that allows users to reverse the order of items in their meeting agenda.\n",
    "The app accepts a string representing the agenda items in order and outputs them in reverse order.\n",
    "\n",
    "**Instructions**:\n",
    "\n",
    "1. Write a function 'reverse_agenda' that takes a string of agenda items and returns a string with the items in reverse order.\n",
    "2. Implement a loop that prompts the user to enter their agenda items separated by commas.\n",
    "3. Use the function to reverse the order of agenda items and print the result.\n",
    "4. Provide the user with the option to enter a new agenda or exit the program.\n",
    "\n",
    "\"\"\"\n",
    "\n",
    "\n"
   ]
  },
  {
   "cell_type": "code",
   "execution_count": null,
   "metadata": {},
   "outputs": [],
   "source": [
    "# Social Media Post Formatter\n",
    "\"\"\"\n",
    "In the world of social media, users often like to stylize their posts with unique character placements.\n",
    "You're tasked with developing a feature for a social media app that allows users to replace every instance of the letter 'a' with '@' and 'e' with '3'.\n",
    "\n",
    "**Instructions**:\n",
    "\n",
    "1. Write a function 'stylize_post' that takes a string and returns a stylized version of it according to the specified replacements.\n",
    "2. Implement a loop that prompts the user to enter their post.\n",
    "3. Use the function to apply the stylization and print the result.\n",
    "4. Provide the user with the option to stylize a new post or exit the program.\n",
    "\n",
    "\"\"\"\n",
    "\n",
    "\n"
   ]
  },
  {
   "cell_type": "code",
   "execution_count": null,
   "metadata": {},
   "outputs": [],
   "source": [
    "# Custom Repetition Message Generator\n",
    "\"\"\"\n",
    "In many user interfaces, there's a need to display a message or a string repeatedly to grab attention or for aesthetic purposes.\n",
    "You are tasked with developing a feature for a user interface toolkit that allows users to repeat a string a specified number of times, with each repetition separated by a dash ('-').\n",
    "\n",
    "**Instructions**:\n",
    "\n",
    "1. Write a function 'repeat_message' that takes a string and a number as arguments and returns the repeated string pattern.\n",
    "2. Implement a loop that prompts the user to enter their message and the number of repetitions.\n",
    "3. Use the function to generate the repeated string pattern and print the result.\n",
    "4. Provide the user with the option to create a new repeated string pattern or exit the program.\n",
    "\n",
    "\"\"\"\n",
    "\n",
    "\n",
    "\n"
   ]
  },
  {
   "cell_type": "code",
   "execution_count": null,
   "metadata": {},
   "outputs": [],
   "source": []
  },
  {
   "cell_type": "code",
   "execution_count": null,
   "metadata": {},
   "outputs": [],
   "source": []
  },
  {
   "cell_type": "code",
   "execution_count": null,
   "metadata": {},
   "outputs": [],
   "source": []
  },
  {
   "cell_type": "code",
   "execution_count": null,
   "metadata": {},
   "outputs": [],
   "source": []
  },
  {
   "cell_type": "code",
   "execution_count": null,
   "metadata": {},
   "outputs": [],
   "source": []
  },
  {
   "cell_type": "code",
   "execution_count": null,
   "metadata": {},
   "outputs": [],
   "source": []
  },
  {
   "cell_type": "code",
   "execution_count": null,
   "metadata": {},
   "outputs": [],
   "source": []
  }
 ],
 "metadata": {
  "language_info": {
   "name": "python"
  }
 },
 "nbformat": 4,
 "nbformat_minor": 2
}
