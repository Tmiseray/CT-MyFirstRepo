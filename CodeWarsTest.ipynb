{
 "cells": [
  {
   "cell_type": "code",
   "execution_count": 2,
   "metadata": {},
   "outputs": [
    {
     "name": "stdout",
     "output_type": "stream",
     "text": [
      "KKeevviinn\n"
     ]
    }
   ],
   "source": [
    "string = input(\"Give me a word to duplicate the characters:\")\n",
    "double_char_string = \"\"\n",
    "\n",
    "for char in string:\n",
    "    double_char_string += char + char\n",
    "\n",
    "print(double_char_string)"
   ]
  },
  {
   "cell_type": "code",
   "execution_count": 11,
   "metadata": {},
   "outputs": [
    {
     "name": "stdout",
     "output_type": "stream",
     "text": [
      "TTaayylloorr\n"
     ]
    }
   ],
   "source": [
    "def double_char():\n",
    "    string = \"Taylor\"\n",
    "    double_char_string = \"\"\n",
    "    for char in string:\n",
    "        double_char_string += char + char\n",
    "    print(double_char_string)\n",
    "\n",
    "double_char()"
   ]
  },
  {
   "cell_type": "code",
   "execution_count": 12,
   "metadata": {},
   "outputs": [
    {
     "name": "stdout",
     "output_type": "stream",
     "text": [
      "TTaayylloorr\n"
     ]
    }
   ],
   "source": [
    "def double_char(string):\n",
    "    double_char_string = \"\"\n",
    "\n",
    "    for char in string:\n",
    "        double_char_string += char + char\n",
    "\n",
    "    return double_char_string\n",
    "    "
   ]
  },
  {
   "cell_type": "code",
   "execution_count": 14,
   "metadata": {},
   "outputs": [
    {
     "name": "stdout",
     "output_type": "stream",
     "text": [
      "KKeevviinn\n"
     ]
    }
   ],
   "source": [
    "def double_char(string):\n",
    "    double_char_string = \"\"\n",
    "    for char in string:\n",
    "        double_char_string += char + char\n",
    "    print(double_char_string)\n",
    "\n",
    "double_char(\"Kevin\")"
   ]
  },
  {
   "cell_type": "code",
   "execution_count": 1,
   "metadata": {},
   "outputs": [
    {
     "ename": "TypeError",
     "evalue": "can only concatenate str (not \"int\") to str",
     "output_type": "error",
     "traceback": [
      "\u001b[1;31m---------------------------------------------------------------------------\u001b[0m",
      "\u001b[1;31mTypeError\u001b[0m                                 Traceback (most recent call last)",
      "Cell \u001b[1;32mIn[1], line 7\u001b[0m\n\u001b[0;32m      4\u001b[0m     inc_value \u001b[38;5;241m=\u001b[39m mult_value \u001b[38;5;241m+\u001b[39m \u001b[38;5;241m6\u001b[39m\n\u001b[0;32m      5\u001b[0m     \u001b[38;5;28mprint\u001b[39m(inc_value)\n\u001b[1;32m----> 7\u001b[0m \u001b[43mmult50_add6\u001b[49m\u001b[43m(\u001b[49m\u001b[43m)\u001b[49m\n",
      "Cell \u001b[1;32mIn[1], line 4\u001b[0m, in \u001b[0;36mmult50_add6\u001b[1;34m()\u001b[0m\n\u001b[0;32m      2\u001b[0m value \u001b[38;5;241m=\u001b[39m \u001b[38;5;28minput\u001b[39m(\u001b[38;5;124m\"\u001b[39m\u001b[38;5;124mEnter a number: \u001b[39m\u001b[38;5;124m\"\u001b[39m)\n\u001b[0;32m      3\u001b[0m mult_value \u001b[38;5;241m=\u001b[39m value \u001b[38;5;241m*\u001b[39m \u001b[38;5;241m50\u001b[39m\n\u001b[1;32m----> 4\u001b[0m inc_value \u001b[38;5;241m=\u001b[39m \u001b[43mmult_value\u001b[49m\u001b[43m \u001b[49m\u001b[38;5;241;43m+\u001b[39;49m\u001b[43m \u001b[49m\u001b[38;5;241;43m6\u001b[39;49m\n\u001b[0;32m      5\u001b[0m \u001b[38;5;28mprint\u001b[39m(inc_value)\n",
      "\u001b[1;31mTypeError\u001b[0m: can only concatenate str (not \"int\") to str"
     ]
    }
   ],
   "source": [
    "def mult50_add6():\n",
    "    value = input(\"Enter a number: \")\n",
    "    mult_value = value * 50\n",
    "    inc_value = mult_value + 6\n",
    "    print(inc_value)\n",
    "\n",
    "mult50_add6()"
   ]
  },
  {
   "cell_type": "code",
   "execution_count": 2,
   "metadata": {},
   "outputs": [
    {
     "name": "stdout",
     "output_type": "stream",
     "text": [
      "256\n"
     ]
    }
   ],
   "source": [
    "def mult50_add6():\n",
    "    value = input(\"Enter a number: \")\n",
    "    mult_value = int(value) * 50\n",
    "    inc_value = mult_value + 6\n",
    "    print(inc_value)\n",
    "\n",
    "mult50_add6()"
   ]
  },
  {
   "cell_type": "code",
   "execution_count": 3,
   "metadata": {},
   "outputs": [],
   "source": [
    "def is_even(n):\n",
    "    return n % 2 == 0"
   ]
  },
  {
   "cell_type": "code",
   "execution_count": 4,
   "metadata": {},
   "outputs": [],
   "source": [
    "def find_average(numbers):\n",
    "    if not numbers:\n",
    "        return 0\n",
    "    return sum(numbers) / len(numbers)"
   ]
  },
  {
   "cell_type": "code",
   "execution_count": 5,
   "metadata": {},
   "outputs": [],
   "source": [
    "def find_smallest_int(arr):\n",
    "    arr.sort()\n",
    "    return arr[0]"
   ]
  },
  {
   "cell_type": "code",
   "execution_count": 17,
   "metadata": {},
   "outputs": [
    {
     "data": {
      "text/plain": [
       "{'caminar': ['camino',\n",
       "  'caminas',\n",
       "  'camina',\n",
       "  'caminamos',\n",
       "  'caminais',\n",
       "  'caminan']}"
      ]
     },
     "execution_count": 17,
     "metadata": {},
     "output_type": "execute_result"
    }
   ],
   "source": [
    "def conjugate(verb):\n",
    "    if verb.endswith(\"ar\"):\n",
    "        prefix = verb[:-2]\n",
    "        conjugations = [\n",
    "            prefix + \"o\",\n",
    "            prefix + \"as\",\n",
    "            prefix + \"a\",\n",
    "            prefix + \"amos\",\n",
    "            prefix + \"ais\",\n",
    "            prefix + \"an\"\n",
    "        ]\n",
    "    elif verb.endswith(\"er\"):\n",
    "        prefix = verb[:-2]\n",
    "        conjugations = [\n",
    "            prefix + \"o\",\n",
    "            prefix + \"es\",\n",
    "            prefix + \"e\",\n",
    "            prefix + \"emos\",\n",
    "            prefix + \"eis\",\n",
    "            prefix + \"en\"\n",
    "        ]        \n",
    "    elif verb.endswith(\"ir\"):\n",
    "        prefix = verb[:-2]\n",
    "        conjugations = [\n",
    "            prefix + \"o\",\n",
    "            prefix + \"es\",\n",
    "            prefix + \"e\",\n",
    "            prefix + \"imos\",\n",
    "            prefix + \"is\",\n",
    "            prefix + \"en\"\n",
    "        ]\n",
    "        \n",
    "    return {verb: conjugations}\n",
    "    \n",
    "conjugate(\"caminar\")"
   ]
  },
  {
   "cell_type": "code",
   "execution_count": 8,
   "metadata": {},
   "outputs": [
    {
     "data": {
      "text/plain": [
       "[1, 57]"
      ]
     },
     "execution_count": 8,
     "metadata": {},
     "output_type": "execute_result"
    }
   ],
   "source": [
    "# Story\n",
    "# Ben has a very simple idea to make some profit: he buys something and sells it again. Of course, this wouldn't give him any profit at all if he was simply to buy and sell it at the same price. Instead, he's going to buy it for the lowest possible price and sell it at the highest.\n",
    "\n",
    "# Task\n",
    "# Write a function that returns both the minimum and maximum number of the given list/array.\n",
    "\n",
    "# Examples (Input --> Output)\n",
    "# [1,2,3,4,5] --> [1,5]\n",
    "# [2334454,5] --> [5,2334454]\n",
    "# [1]         --> [1,1]\n",
    "# Remarks\n",
    "# All arrays or lists will always have at least one element, so you don't need to check the length. Also, your function will always get an array or a list, you don't have to check for null, undefined or similar.\n",
    "\n",
    "lst = [1, 5, 23, 57]\n",
    "\n",
    "def min_max(lst):\n",
    "    lst.sort()\n",
    "    min_max_list = [lst[0], lst[-1]]\n",
    "    return min_max_list\n",
    "\n",
    "min_max(lst)"
   ]
  },
  {
   "cell_type": "code",
   "execution_count": 11,
   "metadata": {},
   "outputs": [
    {
     "data": {
      "text/plain": [
       "True"
      ]
     },
     "execution_count": 11,
     "metadata": {},
     "output_type": "execute_result"
    }
   ],
   "source": [
    "# Given an array with exactly 5 strings, check if the array contains 3 and 2 of the same values.\n",
    "# a, a, a, b, b  true\n",
    "# a, b, c, b, c false\n",
    "\n",
    "array = [\"a\", \"a\", \"a\", \"b\", \"b\"]\n",
    "\n",
    "triple = False\n",
    "double = False\n",
    "checked_letters = [\"\"]\n",
    "\n",
    "def check_three_and_two(array):\n",
    "    for letter in array:\n",
    "        count = array.count(letter)\n",
    "        if count == 3:\n",
    "            triple = True\n",
    "            checked_letters.append(letter)\n",
    "        elif count == 2:\n",
    "            double = True\n",
    "            checked_letters.append(letter)\n",
    "    if triple == True and double == True:\n",
    "        return True\n",
    "    return False\n",
    "        \n",
    "check_three_and_two(array)"
   ]
  },
  {
   "cell_type": "code",
   "execution_count": null,
   "metadata": {},
   "outputs": [],
   "source": []
  }
 ],
 "metadata": {
  "kernelspec": {
   "display_name": "Python 3",
   "language": "python",
   "name": "python3"
  },
  "language_info": {
   "codemirror_mode": {
    "name": "ipython",
    "version": 3
   },
   "file_extension": ".py",
   "mimetype": "text/x-python",
   "name": "python",
   "nbconvert_exporter": "python",
   "pygments_lexer": "ipython3",
   "version": "3.10.6"
  }
 },
 "nbformat": 4,
 "nbformat_minor": 2
}
