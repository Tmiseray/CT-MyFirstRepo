{
 "cells": [
  {
   "cell_type": "code",
   "execution_count": 2,
   "metadata": {},
   "outputs": [
    {
     "name": "stdout",
     "output_type": "stream",
     "text": [
      "KKeevviinn\n"
     ]
    }
   ],
   "source": [
    "string = input(\"Give me a word to duplicate the characters:\")\n",
    "double_char_string = \"\"\n",
    "\n",
    "for char in string:\n",
    "    double_char_string += char + char\n",
    "\n",
    "print(double_char_string)"
   ]
  },
  {
   "cell_type": "code",
   "execution_count": 11,
   "metadata": {},
   "outputs": [
    {
     "name": "stdout",
     "output_type": "stream",
     "text": [
      "TTaayylloorr\n"
     ]
    }
   ],
   "source": [
    "def double_char():\n",
    "    string = \"Taylor\"\n",
    "    double_char_string = \"\"\n",
    "    for char in string:\n",
    "        double_char_string += char + char\n",
    "    print(double_char_string)\n",
    "\n",
    "double_char()"
   ]
  },
  {
   "cell_type": "code",
   "execution_count": 12,
   "metadata": {},
   "outputs": [
    {
     "name": "stdout",
     "output_type": "stream",
     "text": [
      "TTaayylloorr\n"
     ]
    }
   ],
   "source": [
    "def double_char(string):\n",
    "    double_char_string = \"\"\n",
    "\n",
    "    for char in string:\n",
    "        double_char_string += char + char\n",
    "\n",
    "    return double_char_string\n",
    "    "
   ]
  },
  {
   "cell_type": "code",
   "execution_count": 14,
   "metadata": {},
   "outputs": [
    {
     "name": "stdout",
     "output_type": "stream",
     "text": [
      "KKeevviinn\n"
     ]
    }
   ],
   "source": [
    "def double_char(string):\n",
    "    double_char_string = \"\"\n",
    "    for char in string:\n",
    "        double_char_string += char + char\n",
    "    print(double_char_string)\n",
    "\n",
    "double_char(\"Kevin\")"
   ]
  },
  {
   "cell_type": "code",
   "execution_count": 1,
   "metadata": {},
   "outputs": [
    {
     "ename": "TypeError",
     "evalue": "can only concatenate str (not \"int\") to str",
     "output_type": "error",
     "traceback": [
      "\u001b[1;31m---------------------------------------------------------------------------\u001b[0m",
      "\u001b[1;31mTypeError\u001b[0m                                 Traceback (most recent call last)",
      "Cell \u001b[1;32mIn[1], line 7\u001b[0m\n\u001b[0;32m      4\u001b[0m     inc_value \u001b[38;5;241m=\u001b[39m mult_value \u001b[38;5;241m+\u001b[39m \u001b[38;5;241m6\u001b[39m\n\u001b[0;32m      5\u001b[0m     \u001b[38;5;28mprint\u001b[39m(inc_value)\n\u001b[1;32m----> 7\u001b[0m \u001b[43mmult50_add6\u001b[49m\u001b[43m(\u001b[49m\u001b[43m)\u001b[49m\n",
      "Cell \u001b[1;32mIn[1], line 4\u001b[0m, in \u001b[0;36mmult50_add6\u001b[1;34m()\u001b[0m\n\u001b[0;32m      2\u001b[0m value \u001b[38;5;241m=\u001b[39m \u001b[38;5;28minput\u001b[39m(\u001b[38;5;124m\"\u001b[39m\u001b[38;5;124mEnter a number: \u001b[39m\u001b[38;5;124m\"\u001b[39m)\n\u001b[0;32m      3\u001b[0m mult_value \u001b[38;5;241m=\u001b[39m value \u001b[38;5;241m*\u001b[39m \u001b[38;5;241m50\u001b[39m\n\u001b[1;32m----> 4\u001b[0m inc_value \u001b[38;5;241m=\u001b[39m \u001b[43mmult_value\u001b[49m\u001b[43m \u001b[49m\u001b[38;5;241;43m+\u001b[39;49m\u001b[43m \u001b[49m\u001b[38;5;241;43m6\u001b[39;49m\n\u001b[0;32m      5\u001b[0m \u001b[38;5;28mprint\u001b[39m(inc_value)\n",
      "\u001b[1;31mTypeError\u001b[0m: can only concatenate str (not \"int\") to str"
     ]
    }
   ],
   "source": [
    "def mult50_add6():\n",
    "    value = input(\"Enter a number: \")\n",
    "    mult_value = value * 50\n",
    "    inc_value = mult_value + 6\n",
    "    print(inc_value)\n",
    "\n",
    "mult50_add6()"
   ]
  },
  {
   "cell_type": "code",
   "execution_count": 2,
   "metadata": {},
   "outputs": [
    {
     "name": "stdout",
     "output_type": "stream",
     "text": [
      "256\n"
     ]
    }
   ],
   "source": [
    "def mult50_add6():\n",
    "    value = input(\"Enter a number: \")\n",
    "    mult_value = int(value) * 50\n",
    "    inc_value = mult_value + 6\n",
    "    print(inc_value)\n",
    "\n",
    "mult50_add6()"
   ]
  },
  {
   "cell_type": "code",
   "execution_count": 3,
   "metadata": {},
   "outputs": [],
   "source": [
    "def is_even(n):\n",
    "    return n % 2 == 0"
   ]
  },
  {
   "cell_type": "code",
   "execution_count": 4,
   "metadata": {},
   "outputs": [],
   "source": [
    "def find_average(numbers):\n",
    "    if not numbers:\n",
    "        return 0\n",
    "    return sum(numbers) / len(numbers)"
   ]
  },
  {
   "cell_type": "code",
   "execution_count": 5,
   "metadata": {},
   "outputs": [],
   "source": [
    "def find_smallest_int(arr):\n",
    "    arr.sort()\n",
    "    return arr[0]"
   ]
  },
  {
   "cell_type": "code",
   "execution_count": 17,
   "metadata": {},
   "outputs": [
    {
     "data": {
      "text/plain": [
       "{'caminar': ['camino',\n",
       "  'caminas',\n",
       "  'camina',\n",
       "  'caminamos',\n",
       "  'caminais',\n",
       "  'caminan']}"
      ]
     },
     "execution_count": 17,
     "metadata": {},
     "output_type": "execute_result"
    }
   ],
   "source": [
    "def conjugate(verb):\n",
    "    if verb.endswith(\"ar\"):\n",
    "        prefix = verb[:-2]\n",
    "        conjugations = [\n",
    "            prefix + \"o\",\n",
    "            prefix + \"as\",\n",
    "            prefix + \"a\",\n",
    "            prefix + \"amos\",\n",
    "            prefix + \"ais\",\n",
    "            prefix + \"an\"\n",
    "        ]\n",
    "    elif verb.endswith(\"er\"):\n",
    "        prefix = verb[:-2]\n",
    "        conjugations = [\n",
    "            prefix + \"o\",\n",
    "            prefix + \"es\",\n",
    "            prefix + \"e\",\n",
    "            prefix + \"emos\",\n",
    "            prefix + \"eis\",\n",
    "            prefix + \"en\"\n",
    "        ]        \n",
    "    elif verb.endswith(\"ir\"):\n",
    "        prefix = verb[:-2]\n",
    "        conjugations = [\n",
    "            prefix + \"o\",\n",
    "            prefix + \"es\",\n",
    "            prefix + \"e\",\n",
    "            prefix + \"imos\",\n",
    "            prefix + \"is\",\n",
    "            prefix + \"en\"\n",
    "        ]\n",
    "        \n",
    "    return {verb: conjugations}\n",
    "    \n",
    "conjugate(\"caminar\")"
   ]
  },
  {
   "cell_type": "code",
   "execution_count": null,
   "metadata": {},
   "outputs": [],
   "source": []
  }
 ],
 "metadata": {
  "kernelspec": {
   "display_name": "Python 3",
   "language": "python",
   "name": "python3"
  },
  "language_info": {
   "codemirror_mode": {
    "name": "ipython",
    "version": 3
   },
   "file_extension": ".py",
   "mimetype": "text/x-python",
   "name": "python",
   "nbconvert_exporter": "python",
   "pygments_lexer": "ipython3",
   "version": "3.10.6"
  }
 },
 "nbformat": 4,
 "nbformat_minor": 2
}
