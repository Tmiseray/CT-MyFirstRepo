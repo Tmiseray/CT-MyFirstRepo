{
 "cells": [
  {
   "cell_type": "code",
   "execution_count": 2,
   "metadata": {},
   "outputs": [
    {
     "name": "stdout",
     "output_type": "stream",
     "text": [
      "KKeevviinn\n"
     ]
    }
   ],
   "source": [
    "string = input(\"Give me a word to duplicate the characters:\")\n",
    "double_char_string = \"\"\n",
    "\n",
    "for char in string:\n",
    "    double_char_string += char + char\n",
    "\n",
    "print(double_char_string)"
   ]
  },
  {
   "cell_type": "code",
   "execution_count": 11,
   "metadata": {},
   "outputs": [
    {
     "name": "stdout",
     "output_type": "stream",
     "text": [
      "TTaayylloorr\n"
     ]
    }
   ],
   "source": [
    "def double_char():\n",
    "    string = \"Taylor\"\n",
    "    double_char_string = \"\"\n",
    "    for char in string:\n",
    "        double_char_string += char + char\n",
    "    print(double_char_string)\n",
    "\n",
    "double_char()"
   ]
  },
  {
   "cell_type": "code",
   "execution_count": 12,
   "metadata": {},
   "outputs": [
    {
     "name": "stdout",
     "output_type": "stream",
     "text": [
      "TTaayylloorr\n"
     ]
    }
   ],
   "source": [
    "def double_char(string):\n",
    "    string = \"Taylor\"\n",
    "    double_char_string = \"\"\n",
    "    for char in string:\n",
    "        double_char_string += char + char\n",
    "    print(double_char_string)\n",
    "\n",
    "double_char(string)"
   ]
  },
  {
   "cell_type": "code",
   "execution_count": 14,
   "metadata": {},
   "outputs": [
    {
     "name": "stdout",
     "output_type": "stream",
     "text": [
      "KKeevviinn\n"
     ]
    }
   ],
   "source": [
    "def double_char(string):\n",
    "    double_char_string = \"\"\n",
    "    for char in string:\n",
    "        double_char_string += char + char\n",
    "    print(double_char_string)\n",
    "\n",
    "double_char(\"Kevin\")"
   ]
  },
  {
   "cell_type": "code",
   "execution_count": null,
   "metadata": {},
   "outputs": [],
   "source": []
  }
 ],
 "metadata": {
  "kernelspec": {
   "display_name": "Python 3",
   "language": "python",
   "name": "python3"
  },
  "language_info": {
   "codemirror_mode": {
    "name": "ipython",
    "version": 3
   },
   "file_extension": ".py",
   "mimetype": "text/x-python",
   "name": "python",
   "nbconvert_exporter": "python",
   "pygments_lexer": "ipython3",
   "version": "3.10.6"
  }
 },
 "nbformat": 4,
 "nbformat_minor": 2
}
