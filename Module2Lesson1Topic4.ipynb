{
 "cells": [
  {
   "cell_type": "code",
   "execution_count": 14,
   "metadata": {},
   "outputs": [
    {
     "name": "stdout",
     "output_type": "stream",
     "text": [
      "I can make 10.0 cakes!\n"
     ]
    }
   ],
   "source": [
    "# 1. The Baker's Delimma:\n",
    "# If one cake requires 250 grams of flour and you have 2.5 kilograms\n",
    "# of flour, how many cakes can you make using the arithmetic\n",
    "# operators?\n",
    "\n",
    "cake = 250\n",
    "flour = 2.5*1000\n",
    "total_cakes = flour // cake\n",
    "print(\"I can make\", total_cakes, \"cakes!\")"
   ]
  },
  {
   "cell_type": "code",
   "execution_count": 15,
   "metadata": {},
   "outputs": [
    {
     "name": "stdout",
     "output_type": "stream",
     "text": [
      "My kingdom's name is Pythonland\n"
     ]
    }
   ],
   "source": [
    "# 2. Claiming Territories: \n",
    "# Use the assignment operator to claim a variable kingdom with a\n",
    "# value of \"Pythonland\"\n",
    "\n",
    "kingdom = \"Pythonland\"\n",
    "print(\"My kingdom's name is\", kingdom)"
   ]
  },
  {
   "cell_type": "code",
   "execution_count": 16,
   "metadata": {},
   "outputs": [
    {
     "name": "stdout",
     "output_type": "stream",
     "text": [
      "It is True that shirt1 is cheaper!\n"
     ]
    }
   ],
   "source": [
    "# 3. Fashion Contest: \n",
    "# Given 2 shirts with prices shirt1 = 45 and shirt2 = 50. \n",
    "# Use a comparison operator to check if shirt1 is cheaper than shirt2.\n",
    "\n",
    "shirt1 = 45\n",
    "shirt2 = 50\n",
    "is_shirt1_cheaper = shirt1 < shirt2\n",
    "print(\"It is\", is_shirt1_cheaper, \"that shirt1 is cheaper!\")"
   ]
  },
  {
   "cell_type": "code",
   "execution_count": 17,
   "metadata": {},
   "outputs": [
    {
     "name": "stdout",
     "output_type": "stream",
     "text": [
      "Will I need an umbrella? True\n"
     ]
    }
   ],
   "source": [
    "# 4. Rainy Day Dilemma: \n",
    "# Write a logical operation to determine if you should take an\n",
    "# umbrella if it's either going to rain or going to rain heavily\n",
    "\n",
    "rain = True\n",
    "rain_heavily = True\n",
    "take_umbrella = rain or rain_heavily\n",
    "print(\"Will I need an umbrella?\", take_umbrella)"
   ]
  },
  {
   "cell_type": "code",
   "execution_count": 18,
   "metadata": {},
   "outputs": [
    {
     "name": "stdout",
     "output_type": "stream",
     "text": [
      "5\n"
     ]
    }
   ],
   "source": [
    "# 5. Royal Order: \n",
    "# Evaluate the expression 3 + 5 * 2 - 8. \n",
    "# What would be the order of operations?\n",
    "\n",
    "# Order should be *, then +, then -\n",
    "result = 3 + 5 * 2 - 8\n",
    "print(result)"
   ]
  },
  {
   "cell_type": "code",
   "execution_count": 25,
   "metadata": {},
   "outputs": [
    {
     "name": "stdout",
     "output_type": "stream",
     "text": [
      "Each friend would get 3 each!\n",
      "There would be 1 pasteries left over!\n"
     ]
    }
   ],
   "source": [
    "# 6. The Pastry Fraction: \n",
    "# You have 10 pasteries and you want to divide them equally \n",
    "# among 3 friends. \n",
    "# How many pasteries does each friend get and how many are left?\n",
    "\n",
    "pasteries = 10\n",
    "friends = 3\n",
    "pasteries_each = pasteries // friends\n",
    "pasteries_left = pasteries % friends\n",
    "print(\"Each friend would get\", pasteries_each, \"each!\")\n",
    "print(\"There would be\", pasteries_left, \"pasteries left over!\")"
   ]
  },
  {
   "cell_type": "code",
   "execution_count": 20,
   "metadata": {},
   "outputs": [
    {
     "name": "stdout",
     "output_type": "stream",
     "text": [
      "Pythonland is wonderful!\n"
     ]
    }
   ],
   "source": [
    "# 7. Kingdom Expansion: \n",
    "# You already have a kingdom named \"Pythonland\". \n",
    "# Use the assignment operator to add \"is wonderful!\" to it.\n",
    "\n",
    "kingdom += \" is wonderful!\"\n",
    "print(kingdom)"
   ]
  },
  {
   "cell_type": "code",
   "execution_count": 21,
   "metadata": {},
   "outputs": [
    {
     "name": "stdout",
     "output_type": "stream",
     "text": [
      "Does knight1 have the same strength as knight2? False\n"
     ]
    }
   ],
   "source": [
    "# 8. Royal Duel: \n",
    "# Two knights have strength values of knight1 = 45 and knight2 = 50.\n",
    "# Use a comparison operator to determine if knight1 \n",
    "# has the same strength as knight2.\n",
    "\n",
    "knight1 = 45\n",
    "knight2 = 50\n",
    "compare_strength = knight1 == knight2\n",
    "print(\"Does knight1 have the same strength as knight2?\", compare_strength)"
   ]
  },
  {
   "cell_type": "code",
   "execution_count": 22,
   "metadata": {},
   "outputs": [
    {
     "name": "stdout",
     "output_type": "stream",
     "text": [
      "Can the chef make pancakes? False\n"
     ]
    }
   ],
   "source": [
    "# 9. Chef's Special: \n",
    "# A chef has two ingredients: eggs = True and flour = False. \n",
    "# He can only make pancakes if he has both. \n",
    "# Determine if the chef can make pancakes.\n",
    "\n",
    "eggs = True\n",
    "flour = False\n",
    "pancakes = eggs and flour\n",
    "print(\"Can the chef make pancakes?\", pancakes)"
   ]
  },
  {
   "cell_type": "code",
   "execution_count": 26,
   "metadata": {},
   "outputs": [
    {
     "name": "stdout",
     "output_type": "stream",
     "text": [
      "The new castle's height would be 200\n",
      "The new moat's width would be 25.0\n"
     ]
    }
   ],
   "source": [
    "# 10. Medieval Architecture: \n",
    "# A castle's height is 100 units and its moat's width is 50 units. \n",
    "# If you double the castle's height and halve the moat's width, \n",
    "# what would be the new dimensions?\n",
    "\n",
    "castle_height = 100\n",
    "moat_width = 50\n",
    "castle_height *= 2\n",
    "moat_width /= 2\n",
    "print(\"The new castle's height would be\", castle_height)\n",
    "print(\"The new moat's width would be\", moat_width)"
   ]
  }
 ],
 "metadata": {
  "kernelspec": {
   "display_name": "Python 3",
   "language": "python",
   "name": "python3"
  },
  "language_info": {
   "codemirror_mode": {
    "name": "ipython",
    "version": 3
   },
   "file_extension": ".py",
   "mimetype": "text/x-python",
   "name": "python",
   "nbconvert_exporter": "python",
   "pygments_lexer": "ipython3",
   "version": "3.10.6"
  }
 },
 "nbformat": 4,
 "nbformat_minor": 2
}
