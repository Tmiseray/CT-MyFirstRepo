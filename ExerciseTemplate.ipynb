{
 "cells": [
  {
   "cell_type": "code",
   "execution_count": null,
   "metadata": {},
   "outputs": [],
   "source": [
    "# Exercises:"
   ]
  },
  {
   "cell_type": "code",
   "execution_count": null,
   "metadata": {},
   "outputs": [],
   "source": [
    "\"\"\"\n",
    "*** USE SCREENSHOT TO COPY TEXT ***\n",
    "\n",
    "\"\"\""
   ]
  },
  {
   "cell_type": "code",
   "execution_count": null,
   "metadata": {},
   "outputs": [],
   "source": [
    "# Exercise 1: \n",
    "\"\"\"\n",
    "\n",
    "\n",
    "**Instructions**:\n",
    "\n",
    "1. \n",
    "2. \n",
    "\n",
    "**Hints**:\n",
    "\n",
    "- \n",
    "- \n",
    "\n",
    "\"\"\""
   ]
  },
  {
   "cell_type": "code",
   "execution_count": null,
   "metadata": {},
   "outputs": [],
   "source": [
    "# Exercise 1:\n",
    "# Solution:\n",
    "\n"
   ]
  },
  {
   "cell_type": "code",
   "execution_count": null,
   "metadata": {},
   "outputs": [],
   "source": [
    "# Exercise 2:\n",
    "\"\"\"\n",
    "\n",
    "\n",
    "**Instructions**:\n",
    "\n",
    "1. \n",
    "2. \n",
    "\n",
    "**Hints**:\n",
    "\n",
    "- \n",
    "- \n",
    "\n",
    "\"\"\""
   ]
  },
  {
   "cell_type": "code",
   "execution_count": null,
   "metadata": {},
   "outputs": [],
   "source": [
    "# Exercise \n",
    "# Solution:\n",
    "\n"
   ]
  },
  {
   "cell_type": "code",
   "execution_count": null,
   "metadata": {},
   "outputs": [],
   "source": [
    "# Exercise 3:\n",
    "\"\"\"\n",
    "\n",
    "\n",
    "**Instructions**:\n",
    "\n",
    "1. \n",
    "2. \n",
    "\n",
    "**Hints**:\n",
    "\n",
    "- \n",
    "- \n",
    "\n",
    "\"\"\""
   ]
  },
  {
   "cell_type": "code",
   "execution_count": null,
   "metadata": {},
   "outputs": [],
   "source": [
    "# Exercise \n",
    "# Solution:\n",
    "\n"
   ]
  },
  {
   "cell_type": "code",
   "execution_count": null,
   "metadata": {},
   "outputs": [],
   "source": [
    "# Exercise 4:\n",
    "\"\"\"\n",
    "\n",
    "\n",
    "**Instructions**:\n",
    "\n",
    "1. \n",
    "2. \n",
    "\n",
    "**Hints**:\n",
    "\n",
    "- \n",
    "- \n",
    "\n",
    "\"\"\""
   ]
  },
  {
   "cell_type": "code",
   "execution_count": null,
   "metadata": {},
   "outputs": [],
   "source": [
    "# Exercise \n",
    "# Solution:\n",
    "\n"
   ]
  },
  {
   "cell_type": "code",
   "execution_count": null,
   "metadata": {},
   "outputs": [],
   "source": [
    "# Exercise 5:\n",
    "\"\"\"\n",
    "\n",
    "\n",
    "**Instructions**:\n",
    "\n",
    "1. \n",
    "2. \n",
    "\n",
    "**Hints**:\n",
    "\n",
    "- \n",
    "- \n",
    "\n",
    "\"\"\""
   ]
  },
  {
   "cell_type": "code",
   "execution_count": null,
   "metadata": {},
   "outputs": [],
   "source": [
    "# Exercise \n",
    "# Solution:\n",
    "\n"
   ]
  },
  {
   "cell_type": "code",
   "execution_count": null,
   "metadata": {},
   "outputs": [],
   "source": [
    "# Exercise 6:\n",
    "\"\"\"\n",
    "\n",
    "\n",
    "**Instructions**:\n",
    "\n",
    "1. \n",
    "2. \n",
    "\n",
    "**Hints**:\n",
    "\n",
    "- \n",
    "- \n",
    "\n",
    "\"\"\""
   ]
  },
  {
   "cell_type": "code",
   "execution_count": null,
   "metadata": {},
   "outputs": [],
   "source": [
    "# Exercise \n",
    "# Solution:\n",
    "\n"
   ]
  },
  {
   "cell_type": "code",
   "execution_count": null,
   "metadata": {},
   "outputs": [],
   "source": [
    "# Exercise 7:\n",
    "\"\"\"\n",
    "\n",
    "\n",
    "**Instructions**:\n",
    "\n",
    "1. \n",
    "2. \n",
    "\n",
    "**Hints**:\n",
    "\n",
    "- \n",
    "- \n",
    "\n",
    "\"\"\""
   ]
  },
  {
   "cell_type": "code",
   "execution_count": null,
   "metadata": {},
   "outputs": [],
   "source": [
    "# Exercise \n",
    "# Solution:\n",
    "\n"
   ]
  },
  {
   "cell_type": "code",
   "execution_count": null,
   "metadata": {},
   "outputs": [],
   "source": [
    "# Exercise 8:\n",
    "\"\"\"\n",
    "\n",
    "\n",
    "**Instructions**:\n",
    "\n",
    "1. \n",
    "2. \n",
    "\n",
    "**Hints**:\n",
    "\n",
    "- \n",
    "- \n",
    "\n",
    "\"\"\""
   ]
  },
  {
   "cell_type": "code",
   "execution_count": null,
   "metadata": {},
   "outputs": [],
   "source": [
    "# Exercise \n",
    "# Solution:\n",
    "\n"
   ]
  },
  {
   "cell_type": "code",
   "execution_count": null,
   "metadata": {},
   "outputs": [],
   "source": [
    "# Exercise 9:\n",
    "\"\"\"\n",
    "\n",
    "\n",
    "**Instructions**:\n",
    "\n",
    "1. \n",
    "2. \n",
    "\n",
    "**Hints**:\n",
    "\n",
    "- \n",
    "- \n",
    "\n",
    "\"\"\""
   ]
  },
  {
   "cell_type": "code",
   "execution_count": null,
   "metadata": {},
   "outputs": [],
   "source": [
    "# Exercise \n",
    "# Solution:\n",
    "\n"
   ]
  },
  {
   "cell_type": "code",
   "execution_count": null,
   "metadata": {},
   "outputs": [],
   "source": [
    "# Exercise 10:\n",
    "\"\"\"\n",
    "\n",
    "\n",
    "**Instructions**:\n",
    "\n",
    "1. \n",
    "2. \n",
    "\n",
    "**Hints**:\n",
    "\n",
    "- \n",
    "- \n",
    "\n",
    "\"\"\""
   ]
  },
  {
   "cell_type": "code",
   "execution_count": null,
   "metadata": {},
   "outputs": [],
   "source": [
    "# Exercise \n",
    "# Solution:\n",
    "\n"
   ]
  }
 ],
 "metadata": {
  "language_info": {
   "name": "python"
  }
 },
 "nbformat": 4,
 "nbformat_minor": 2
}
