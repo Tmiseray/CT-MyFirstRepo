{
 "cells": [
  {
   "cell_type": "code",
   "execution_count": null,
   "metadata": {},
   "outputs": [],
   "source": [
    "# Exercises:"
   ]
  },
  {
   "cell_type": "code",
   "execution_count": null,
   "metadata": {},
   "outputs": [],
   "source": [
    "# Exercise 1: E-commerce Product Catalog Management\n",
    "\"\"\"\n",
    "Develop a Python program to manage a product catalog for an e-commerce platform.\n",
    "The program should facilitate adding new product categories, adding products to existing categories, displaying all available categories, and searching for products within the catalog.\n",
    "\n",
    "**Instructions**:\n",
    "\n",
    "1. Initialize a dictionary to represent the product catalog.\n",
    "2. Implement functions for:\n",
    "    - Adding a new product category.\n",
    "    - Adding a product to an existing category.\n",
    "    - Displaying all categories and their respective products.\n",
    "    - Searching for a product across all categories (case-insensitive).\n",
    "3. Use exception handling to address potential errors, such as adding products to non-existent categories.\n",
    "4. Implement case-insensitive search functionality for product queries.\n",
    "\n",
    "**Hints**:\n",
    "\n",
    "- Start with a pre-populated dicitonary for ease of testing.\n",
    "- Utilize string methods like 'lower()' for case-insensitive comparisons.\n",
    "- In the search function, iterate through all categories to find the product.\n",
    "- Implement 'try' and 'except' blocks to gracefully handle situations where a specified category does not exist in the catalog.\n",
    "\n",
    "\"\"\""
   ]
  },
  {
   "cell_type": "code",
   "execution_count": null,
   "metadata": {},
   "outputs": [],
   "source": [
    "# Exercise 1:\n",
    "# Solution:\n",
    "\n",
    "catalog = {\n",
    "    'clothing' : ['product1', 'product2', 'product3'],\n",
    "    'electronics' : ['product1', 'product2', 'product3'],\n",
    "    'health and beauty' : ['product1', 'product2', 'product3']\n",
    "}\n",
    "\n",
    "def add_category():\n",
    "    pass\n",
    "\n",
    "def add_product():\n",
    "    pass\n",
    "\n",
    "def display_catalog():\n",
    "    pass\n",
    "\n",
    "def product_search():\n",
    "    pass\n",
    "\n",
    "def catalog_manager():\n",
    "    pass\n",
    "\n"
   ]
  },
  {
   "cell_type": "code",
   "execution_count": null,
   "metadata": {},
   "outputs": [],
   "source": [
    "# Exercise 1:\n",
    "# Solution:\n"
   ]
  },
  {
   "cell_type": "code",
   "execution_count": null,
   "metadata": {},
   "outputs": [],
   "source": [
    "# Exercise 2: Social Media Content Organizer\n",
    "\"\"\"\n",
    "Develop a Python program to manage and organize social media content.\n",
    "The program should categorize posts into different social media platforms (e.g., Facebook, Instagram), and further categorize these posts into types (e.g., Text, Image, Video).\n",
    "\n",
    "**Instructions**:\n",
    "\n",
    "1. Create a nested dictionary where the first level represents social mesia platforms and the second level categorizes the types of posts.\n",
    "2. Implement functions to:\n",
    "    - Add a new social media platform to the dictionary.\n",
    "    - Add a new post type to a specific platform.\n",
    "    - Add a post to a specific type within a platform.\n",
    "    - Display all platforms, post types, and posts.\n",
    "3. Ensure that the program can handle adding new platforms and post types dynamically.\n",
    "\n",
    "**Hints**:\n",
    "\n",
    "- Initialize your dictionary with at least 2 platforms and a few post types.\n",
    "- Use nested loops to iterate through the platforms and their post types when displaying content.\n",
    "- Implement checks to handle the addition of already existing platforms or post types.\n",
    "\n",
    "\"\"\""
   ]
  },
  {
   "cell_type": "code",
   "execution_count": null,
   "metadata": {},
   "outputs": [],
   "source": [
    "# Exercise 2:\n",
    "# Solution:\n",
    "\n"
   ]
  },
  {
   "cell_type": "code",
   "execution_count": null,
   "metadata": {},
   "outputs": [],
   "source": [
    "# Exercise 2:\n",
    "# Solution:\n",
    "\n"
   ]
  },
  {
   "cell_type": "code",
   "execution_count": null,
   "metadata": {},
   "outputs": [],
   "source": [
    "# Exercise 3: Restaurant Menu and Order Management\n",
    "\"\"\"\n",
    "Create a Python program to manage a restaurant's menu and customer orders.\n",
    "The progrma should allow for menu management (adding/removing items and categories) and handling customer orders by selecting items from the menu.\n",
    "\n",
    "**Instructions**:\n",
    "\n",
    "1. Define a dictionary to represent the restaurant's menu with categories as keys and lists of menu items as values.\n",
    "2. Implement functions for:\n",
    "    - Adding and removing menu categories.\n",
    "    - Adding and removing items within a category.\n",
    "    - Taking a customer's order by selectin items from the menu.\n",
    "    - Displaying the complete menu and individual customer orders.\n",
    "3. Include error handling for cases like attempting to order an item not on the menu.\n",
    "\n",
    "**Hints**:\n",
    "\n",
    "- Start with a pre-defined menu.\n",
    "- Use 'try' and 'except' for handling invalid order requests.\n",
    "- Consider using a list to store individual customer orders.\n",
    "\n",
    "\"\"\""
   ]
  },
  {
   "cell_type": "code",
   "execution_count": null,
   "metadata": {},
   "outputs": [],
   "source": [
    "# Exercise 3:\n",
    "# Solution:\n",
    "\n"
   ]
  },
  {
   "cell_type": "code",
   "execution_count": null,
   "metadata": {},
   "outputs": [],
   "source": [
    "# Exercise 3:\n",
    "# Solution:\n",
    "\n"
   ]
  },
  {
   "cell_type": "code",
   "execution_count": null,
   "metadata": {},
   "outputs": [],
   "source": [
    "# Exercise 4: Hotel Room Booking System\n",
    "\"\"\"\n",
    "Develop a system to track and manage room bookings for a hotel.\n",
    "The program should allow adding rooms, checking room availability, booking rooms, and displaying current bookings.\n",
    "\n",
    "**Instructions**:\n",
    "\n",
    "1. Use a dictionary to represent the hotel rooms, where keys are room numbers and values are boolean indicating availability.\n",
    "2. Implement functions for:\n",
    "    - Adding new rooms to the hotel.\n",
    "    - Checking if a room is available.\n",
    "    - Booking a room.\n",
    "    - Displaying all rooms and their current status.\n",
    "3. Incorporate a main loop that allows users to choose different actions (e.g., add room, book room, etc.).\n",
    "4. Use except handling for invalid inputs or actions, such as attempting to book an already occupied room.\n",
    "\n",
    "**Hints**:\n",
    "\n",
    "- Initialize your dicitionary with a set of rooms.\n",
    "- Use a while loop for the main program execution, allowing continuous operation until the user decides to exit.\n",
    "- When booking, check the room's availability before confirming the booking.\n",
    "\n",
    "\"\"\""
   ]
  },
  {
   "cell_type": "code",
   "execution_count": null,
   "metadata": {},
   "outputs": [],
   "source": [
    "# Exercise 4:\n",
    "# Solution:\n",
    "\n"
   ]
  },
  {
   "cell_type": "code",
   "execution_count": null,
   "metadata": {},
   "outputs": [],
   "source": [
    "# Exercise 4:\n",
    "# Solution:\n",
    "\n"
   ]
  },
  {
   "cell_type": "code",
   "execution_count": null,
   "metadata": {},
   "outputs": [],
   "source": [
    "# Exercise 5: Customer Feedback Analysis for a Product\n",
    "\"\"\"\n",
    "Create a system to categorize and count customer feedback based on sentiment (positive, negative, neutral) for a specific product. The program should allow adding new feedback.\n",
    "\n",
    "**Instructions**:\n",
    "\n",
    "1. Use a dictionary to store customer feedback, categorized by sentiment.\n",
    "2. Implement functions to:\n",
    "    - Add new feedback within a specified sentiment.\n",
    "    - Display the count of feedback for each sentiment.\n",
    "    - Show all feedback messages for a specific sentiment.\n",
    "3. Utilize built-in dicitonary methods to efficiently manage and access the feedback data.\n",
    "4. Ensure the program handles cases where no feedback is available for a given sentiment.\n",
    "\n",
    "**Hints**:\n",
    "\n",
    "- Initialize your dicitonary with empty lists for each sentiment category.\n",
    "- Consider using 'get()' method for safely retrieving feedback for a sentiment.\n",
    "- Use string methods for standardizing feedback inputs (e.g., converting to lowercase for uniformity).\n",
    "\n",
    "\"\"\""
   ]
  },
  {
   "cell_type": "code",
   "execution_count": null,
   "metadata": {},
   "outputs": [],
   "source": [
    "# Exercise 5:\n",
    "# Solution:\n",
    "\n"
   ]
  },
  {
   "cell_type": "code",
   "execution_count": null,
   "metadata": {},
   "outputs": [],
   "source": [
    "# Exercise 5:\n",
    "# Solution:\n",
    "\n"
   ]
  },
  {
   "cell_type": "code",
   "execution_count": null,
   "metadata": {},
   "outputs": [],
   "source": [
    "# Exercise 6: Inventory Management for a Retail Store\n",
    "\"\"\"\n",
    "Design a program to manage the inventory of products in a retail store.\n",
    "The system should enable updating inventory counts, removing products, and displaying the current inventory status.\n",
    "\n",
    "**Instructions**:\n",
    "\n",
    "1. Use a dictionary to represent the store's inventory, with product names as keys and quantities as values.\n",
    "2. Implement functions for:\n",
    "    - Updating the inventory count for a product.\n",
    "    - Removing a product from the inventory.\n",
    "    - Displaying the current invetory status.\n",
    "3. Utilize the 'update()' method for adjusting inventory counts and the 'pop()' method from removing products.\n",
    "4. Ensure error handling for cases liek trying to remove a non-existent product.\n",
    "\n",
    "**Hints**:\n",
    "\n",
    "- Start wiht a pre-populated inventory dictionary.\n",
    "- When updating inventory, check if the product exists before updating its count.\n",
    "- Use a loop in the main program to continuously offer different inventory management options.\n",
    "\n",
    "\"\"\""
   ]
  },
  {
   "cell_type": "code",
   "execution_count": null,
   "metadata": {},
   "outputs": [],
   "source": [
    "# Exercise 6:\n",
    "# Solution:\n",
    "\n"
   ]
  },
  {
   "cell_type": "code",
   "execution_count": null,
   "metadata": {},
   "outputs": [],
   "source": [
    "# Exercise 6:\n",
    "# Solution:\n",
    "\n"
   ]
  },
  {
   "cell_type": "code",
   "execution_count": null,
   "metadata": {},
   "outputs": [],
   "source": [
    "# Exercise 7: Employee Shift Scheduling System\n",
    "\"\"\"\n",
    "Create a Python program to manage weekly shift schedules for employees.\n",
    "The system should allow copying a week's schedule to another week (both shallow and deep copies), modifying individual shifts, and displaying the schedules.\n",
    "\n",
    "**Instructions**:\n",
    "\n",
    "1. Use a nested dictionary to represent the weekly shift schedules, with outer keys as weeks and inner keys as employee names.\n",
    "2. Implement functinos for:\n",
    "    - Creating deep copy of one week's schedule to another week.\n",
    "    - Creating a shallow copy of one week's schedule to another week.\n",
    "    - Modifying a specific employee's shift in a given week.\n",
    "    - Displaying the shift schedules for all weeks.\n",
    "3. Understand the differences between shallow and deep copies and their implications on the schedule data.\n",
    "4. Handle scenarios such as modifying a shift in a shallow copied week and observing its effect on the original week.\n",
    "\n",
    "**Hints**:\n",
    "\n",
    "- Initialize the dictionary wiht a smaple schedule for one week.\n",
    "- Use Python's 'copy' module for deep copying and the dictionary's 'copy()' method for shallow copying.\n",
    "- Ensure that the deep copy allows independent modificaitons with affecting other weeks.\n",
    "\n",
    "\"\"\""
   ]
  },
  {
   "cell_type": "code",
   "execution_count": null,
   "metadata": {},
   "outputs": [],
   "source": [
    "# Exercise 7:\n",
    "# Solution:\n",
    "\n"
   ]
  },
  {
   "cell_type": "code",
   "execution_count": null,
   "metadata": {},
   "outputs": [],
   "source": [
    "# Exercise 7:\n",
    "# Solution:\n",
    "\n"
   ]
  },
  {
   "cell_type": "code",
   "execution_count": null,
   "metadata": {},
   "outputs": [],
   "source": [
    "# Exercise 8: Online Course Enrollment System\n",
    "\"\"\"\n",
    "Design a Python program to manage enrollments for an online education platform.\n",
    "The system should handle courses, student registrations, and track which students are enrolled in which courses.\n",
    "\n",
    "**Instructions**:\n",
    "\n",
    "1. Use a nested dictionary structure where the outer dictionary holds courses and each course key maps to another dicitonary of enrolled students.\n",
    "2. Implement functions for:\n",
    "    - Adding new courses.\n",
    "    - Registering a student for a course.\n",
    "    - Removing a student from a course.\n",
    "    - Displaying all courses along with their enrolled students.\n",
    "Manage the nested dictionary structure to ensure accurate and efficient data handling for course enrollments.\n",
    "\n",
    "**Hints**:\n",
    "\n",
    "- Start with an empty dicitonary for courses and add a few sample courses for testing.\n",
    "- Ensure that student additions and removals correctly update the course's enrollment list.\n",
    "- Use loops to iterate through courses and their respective students when displaying the enrollment list.\n",
    "\n",
    "\"\"\""
   ]
  },
  {
   "cell_type": "code",
   "execution_count": null,
   "metadata": {},
   "outputs": [],
   "source": [
    "# Exercise 8:\n",
    "# Solution:\n",
    "\n"
   ]
  },
  {
   "cell_type": "code",
   "execution_count": null,
   "metadata": {},
   "outputs": [],
   "source": [
    "# Exercise 8:\n",
    "# Solution:\n",
    "\n"
   ]
  },
  {
   "cell_type": "code",
   "execution_count": null,
   "metadata": {},
   "outputs": [],
   "source": [
    "# Exercise 9: Health Clinic Patient Management System\n",
    "\"\"\"\n",
    "Develop a Python program  to maintain patient records in a health clinic.\n",
    "Each patient record shouls include personal details and a history of visits, with each visit containing, date and visit notes.\n",
    "\n",
    "**Instructions**:\n",
    "\n",
    "1. Structure the patient records using a dicitonary where each patient ID is a key, and the calue is another dicitonary containing personal details and a list of visit records.\n",
    "2. Implement functions for:\n",
    "    - Adding a new patient with basic details.\n",
    "    - Recording a new visit for an existing patient.\n",
    "    - Removing a patient from the system.\n",
    "    - Displaying a patient's details and visit history.\n",
    "3. Manage the nested structure carefully to ensure data integrity and ease of access.\n",
    "\n",
    "**Hints**:\n",
    "\n",
    "- Initialize with a few patients data for testing.\n",
    "- Use patient ID as unique identifier for ach patient record.\n",
    "- Each visit record can be a dicitonary within a list, stored in the patient's record.\n",
    "\n",
    "\"\"\""
   ]
  },
  {
   "cell_type": "code",
   "execution_count": null,
   "metadata": {},
   "outputs": [],
   "source": [
    "# Exercise 9:\n",
    "# Solution:\n",
    "\n"
   ]
  },
  {
   "cell_type": "code",
   "execution_count": null,
   "metadata": {},
   "outputs": [],
   "source": [
    "# Exercise 9:\n",
    "# Solution:\n",
    "\n"
   ]
  },
  {
   "cell_type": "code",
   "execution_count": null,
   "metadata": {},
   "outputs": [],
   "source": [
    "# Exercise 10: Real Estate Property Listing and Inquiry System\n",
    "\"\"\"\n",
    "Create a Python program for a real estate platform that maintains a list of properties and handles customer inquires about different properties.\n",
    "\n",
    "**Instructions**:\n",
    "\n",
    "1. Use a nested dictionary to represent property listings, where each property ID maps to details like location, price, and status (available/sold).\n",
    "2. Implement functions for:\n",
    "    - Adding a new property.\n",
    "    - Updating the status of a property\n",
    "    - Adding customer inquiries for properties.\n",
    "    - Displaying all properties and any inquiries made for them.\n",
    "3. Implement a loop in the main program to allow continuous operation with options like adding listings, updating property status, and viewing inquiries.\n",
    "\n",
    "**Hints**:\n",
    "\n",
    "- Initialize with a set of sample properties.\n",
    "- Ensure the program can handle multiple inquiries for the same property.\n",
    "- Use the proeprty ID as a unique identifier for managing listings.\n",
    "\n",
    "\"\"\""
   ]
  },
  {
   "cell_type": "code",
   "execution_count": null,
   "metadata": {},
   "outputs": [],
   "source": [
    "# Exercise 10:\n",
    "# Solution:\n",
    "\n"
   ]
  },
  {
   "cell_type": "code",
   "execution_count": null,
   "metadata": {},
   "outputs": [],
   "source": [
    "# Exercise 10:\n",
    "# Solution:\n",
    "\n"
   ]
  }
 ],
 "metadata": {
  "language_info": {
   "name": "python"
  }
 },
 "nbformat": 4,
 "nbformat_minor": 2
}
