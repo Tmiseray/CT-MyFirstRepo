{
 "cells": [
  {
   "cell_type": "code",
   "execution_count": 1,
   "metadata": {},
   "outputs": [
    {
     "name": "stdout",
     "output_type": "stream",
     "text": [
      "Taylor Miseray\n"
     ]
    }
   ],
   "source": [
    "# 1. Naming Convention Challenge:\n",
    "# Create a variable that holds your full name\n",
    "\n",
    "FullName = \"Taylor Miseray\"\n",
    "print(FullName)"
   ]
  },
  {
   "cell_type": "code",
   "execution_count": 2,
   "metadata": {},
   "outputs": [
    {
     "name": "stdout",
     "output_type": "stream",
     "text": [
      "Taylor Miseray\n"
     ]
    }
   ],
   "source": [
    "# 2. Case Sensitivity Quiz: \n",
    "# Define 2 variables: myName and myname\n",
    "# Assign first name to myName and last name to myname\n",
    "\n",
    "myName = \"Taylor\" \n",
    "myname = \"Miseray\"\n",
    "print(myName, myname)"
   ]
  },
  {
   "cell_type": "code",
   "execution_count": 3,
   "metadata": {},
   "outputs": [
    {
     "name": "stdout",
     "output_type": "stream",
     "text": [
      "Red\n"
     ]
    }
   ],
   "source": [
    "# 3. Assignment Practice:\n",
    "# Assign your favorite color to a variable called fav_color\n",
    "# Then print\n",
    "\n",
    "fav_color = \"Red\"\n",
    "print(fav_color)"
   ]
  },
  {
   "cell_type": "code",
   "execution_count": 4,
   "metadata": {},
   "outputs": [
    {
     "name": "stdout",
     "output_type": "stream",
     "text": [
      "apple banana cherry\n"
     ]
    }
   ],
   "source": [
    "# 4. Multiple Values Assignment:\n",
    "# Assign values \"apple\", \"banana\", and \"cherry\" to \n",
    "# variables fruit1, fruit2, and fruit3 in a single line\n",
    "\n",
    "fruit1, fruit2, fruit3 = \"apple\", \"banana\", \"cherry\"\n",
    "print(fruit1, fruit2, fruit3)"
   ]
  },
  {
   "cell_type": "code",
   "execution_count": 7,
   "metadata": {},
   "outputs": [
    {
     "name": "stdout",
     "output_type": "stream",
     "text": [
      "The variable num is 13 and is a <class 'int'>\n",
      "The variable myDecimal is 3.14 and is a <class 'float'>\n",
      "The variable wordy_string is She's a Bad Mama Jama and is a <class 'str'>\n"
     ]
    }
   ],
   "source": [
    "# 5. DataTypes Quest:\n",
    "# Assign an integer, a float, and a string to\n",
    "# 3 different variables\n",
    "# print each variable using the type() function\n",
    "\n",
    "num, myDecimal, wordy_string = 13, 3.14, \"She's a Bad Mama Jama\"\n",
    "print(\"The variable num is\", num, \"and is a\", type(num))\n",
    "print(\"The variable myDecimal is\", myDecimal, \"and is a\", type(myDecimal))\n",
    "print(\"The variable wordy_string is\", wordy_string, \"and is a\", type(wordy_string))"
   ]
  },
  {
   "cell_type": "code",
   "execution_count": 8,
   "metadata": {},
   "outputs": [
    {
     "name": "stdout",
     "output_type": "stream",
     "text": [
      "The data type for mystery_variable is <class 'str'>\n"
     ]
    }
   ],
   "source": [
    "# 6. The Variable's Identity Card:\n",
    "# For the variable mystery_variable = \"1234\", \n",
    "# use the type() function to determine it's data type\n",
    "\n",
    "mystery_variable = \"1234\"\n",
    "print(\"The data type for mystery_variable is\", type(mystery_variable))"
   ]
  },
  {
   "cell_type": "code",
   "execution_count": 13,
   "metadata": {},
   "outputs": [
    {
     "name": "stdout",
     "output_type": "stream",
     "text": [
      "The original value and data type for dynamicVar is 13 and <class 'int'>\n",
      "The value and new data type for dynamicVar is 13 and <class 'str'>\n",
      "The new value and data type for dynamicVar is dynamic variable and <class 'str'>\n"
     ]
    }
   ],
   "source": [
    "# 7. Dynamic Typing Challenge:\n",
    "# Assign a number to a variable named dynamicVar and \n",
    "# then reassign a string value\n",
    "\n",
    "dynamicVar = 13\n",
    "print(\"The original value and data type for dynamicVar is\", dynamicVar, \"and\", type(dynamicVar))\n",
    "\n",
    "dynamicVar = str(dynamicVar)\n",
    "print(\"The value and new data type for dynamicVar is\", dynamicVar, \"and\", type(dynamicVar))\n",
    "\n",
    "dynamicVar = \"dynamic variable\"\n",
    "print(\"The new value and data type for dynamicVar is\", dynamicVar, \"and\", type(dynamicVar))"
   ]
  },
  {
   "cell_type": "code",
   "execution_count": 11,
   "metadata": {},
   "outputs": [
    {
     "name": "stdout",
     "output_type": "stream",
     "text": [
      "IfYouOnlyKnew I was so smart!\n"
     ]
    }
   ],
   "source": [
    "# 8. Keywords Examination:\n",
    "# Write a short script that tries to use if as a variable name\n",
    "\n",
    "IfYouOnlyKnew = \"I was so smart!\"\n",
    "print(\"IfYouOnlyKnew\", IfYouOnlyKnew)"
   ]
  },
  {
   "cell_type": "code",
   "execution_count": 12,
   "metadata": {},
   "outputs": [
    {
     "name": "stdout",
     "output_type": "stream",
     "text": [
      "My constant named PI has a value of 3.14159\n"
     ]
    }
   ],
   "source": [
    "# 9. Constants Discovery:\n",
    "# Define a constant named PI and assign it the value 3.14159\n",
    "\n",
    "PI = 3.14159\n",
    "print(\"My constant named PI has a value of\", PI)"
   ]
  }
 ],
 "metadata": {
  "kernelspec": {
   "display_name": "Python 3",
   "language": "python",
   "name": "python3"
  },
  "language_info": {
   "codemirror_mode": {
    "name": "ipython",
    "version": 3
   },
   "file_extension": ".py",
   "mimetype": "text/x-python",
   "name": "python",
   "nbconvert_exporter": "python",
   "pygments_lexer": "ipython3",
   "version": "3.10.6"
  }
 },
 "nbformat": 4,
 "nbformat_minor": 2
}
